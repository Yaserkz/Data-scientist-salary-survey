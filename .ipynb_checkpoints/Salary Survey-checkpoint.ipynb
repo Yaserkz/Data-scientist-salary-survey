{
 "cells": [
  {
   "cell_type": "markdown",
   "metadata": {},
   "source": [
    " ## 1. Data Cleaning\n",
    " ### 1.1 Importing data frame to python"
   ]
  },
  {
   "cell_type": "code",
   "execution_count": 1,
   "metadata": {},
   "outputs": [
    {
     "name": "stderr",
     "output_type": "stream",
     "text": [
      "D:\\anaconda\\lib\\site-packages\\IPython\\core\\interactiveshell.py:3020: DtypeWarning: Columns (73,77,113,142,148,165,169,203,214,218,220) have mixed types. Specify dtype option on import or set low_memory=False.\n",
      "  interactivity=interactivity, compiler=compiler, result=result)\n"
     ]
    },
    {
     "data": {
      "text/html": [
       "<div>\n",
       "<style scoped>\n",
       "    .dataframe tbody tr th:only-of-type {\n",
       "        vertical-align: middle;\n",
       "    }\n",
       "\n",
       "    .dataframe tbody tr th {\n",
       "        vertical-align: top;\n",
       "    }\n",
       "\n",
       "    .dataframe thead th {\n",
       "        text-align: right;\n",
       "    }\n",
       "</style>\n",
       "<table border=\"1\" class=\"dataframe\">\n",
       "  <thead>\n",
       "    <tr style=\"text-align: right;\">\n",
       "      <th></th>\n",
       "      <th>Time from Start to Finish (seconds)</th>\n",
       "      <th>Q1</th>\n",
       "      <th>Q2</th>\n",
       "      <th>Q2_OTHER_TEXT</th>\n",
       "      <th>Q3</th>\n",
       "      <th>Q4</th>\n",
       "      <th>Q5</th>\n",
       "      <th>Q5_OTHER_TEXT</th>\n",
       "      <th>Q6</th>\n",
       "      <th>Q7</th>\n",
       "      <th>...</th>\n",
       "      <th>Q34_Part_5</th>\n",
       "      <th>Q34_Part_6</th>\n",
       "      <th>Q34_Part_7</th>\n",
       "      <th>Q34_Part_8</th>\n",
       "      <th>Q34_Part_9</th>\n",
       "      <th>Q34_Part_10</th>\n",
       "      <th>Q34_Part_12</th>\n",
       "      <th>Q34_OTHER_TEXT</th>\n",
       "      <th>Q10_Encoded</th>\n",
       "      <th>Q10_buckets</th>\n",
       "    </tr>\n",
       "  </thead>\n",
       "  <tbody>\n",
       "    <tr>\n",
       "      <th>0</th>\n",
       "      <td>510</td>\n",
       "      <td>22-24</td>\n",
       "      <td>Male</td>\n",
       "      <td>-1</td>\n",
       "      <td>France</td>\n",
       "      <td>Master’s degree</td>\n",
       "      <td>Software Engineer</td>\n",
       "      <td>-1</td>\n",
       "      <td>1000-9,999 employees</td>\n",
       "      <td>0</td>\n",
       "      <td>...</td>\n",
       "      <td>NaN</td>\n",
       "      <td>NaN</td>\n",
       "      <td>NaN</td>\n",
       "      <td>NaN</td>\n",
       "      <td>NaN</td>\n",
       "      <td>NaN</td>\n",
       "      <td>NaN</td>\n",
       "      <td>-1</td>\n",
       "      <td>3</td>\n",
       "      <td>30,000-39,999</td>\n",
       "    </tr>\n",
       "    <tr>\n",
       "      <th>1</th>\n",
       "      <td>423</td>\n",
       "      <td>40-44</td>\n",
       "      <td>Male</td>\n",
       "      <td>-1</td>\n",
       "      <td>India</td>\n",
       "      <td>Professional degree</td>\n",
       "      <td>Software Engineer</td>\n",
       "      <td>-1</td>\n",
       "      <td>&gt; 10,000 employees</td>\n",
       "      <td>20+</td>\n",
       "      <td>...</td>\n",
       "      <td>NaN</td>\n",
       "      <td>NaN</td>\n",
       "      <td>NaN</td>\n",
       "      <td>NaN</td>\n",
       "      <td>NaN</td>\n",
       "      <td>NaN</td>\n",
       "      <td>NaN</td>\n",
       "      <td>-1</td>\n",
       "      <td>0</td>\n",
       "      <td>0-9,999</td>\n",
       "    </tr>\n",
       "    <tr>\n",
       "      <th>2</th>\n",
       "      <td>391</td>\n",
       "      <td>40-44</td>\n",
       "      <td>Male</td>\n",
       "      <td>-1</td>\n",
       "      <td>Australia</td>\n",
       "      <td>Master’s degree</td>\n",
       "      <td>Other</td>\n",
       "      <td>0</td>\n",
       "      <td>&gt; 10,000 employees</td>\n",
       "      <td>20+</td>\n",
       "      <td>...</td>\n",
       "      <td>NaN</td>\n",
       "      <td>NaN</td>\n",
       "      <td>NaN</td>\n",
       "      <td>NaN</td>\n",
       "      <td>Azure SQL Database</td>\n",
       "      <td>NaN</td>\n",
       "      <td>NaN</td>\n",
       "      <td>-1</td>\n",
       "      <td>14</td>\n",
       "      <td>&gt;250,000</td>\n",
       "    </tr>\n",
       "    <tr>\n",
       "      <th>3</th>\n",
       "      <td>392</td>\n",
       "      <td>22-24</td>\n",
       "      <td>Male</td>\n",
       "      <td>-1</td>\n",
       "      <td>India</td>\n",
       "      <td>Bachelor’s degree</td>\n",
       "      <td>Other</td>\n",
       "      <td>1</td>\n",
       "      <td>0-49 employees</td>\n",
       "      <td>0</td>\n",
       "      <td>...</td>\n",
       "      <td>NaN</td>\n",
       "      <td>NaN</td>\n",
       "      <td>NaN</td>\n",
       "      <td>NaN</td>\n",
       "      <td>NaN</td>\n",
       "      <td>NaN</td>\n",
       "      <td>NaN</td>\n",
       "      <td>-1</td>\n",
       "      <td>0</td>\n",
       "      <td>0-9,999</td>\n",
       "    </tr>\n",
       "    <tr>\n",
       "      <th>4</th>\n",
       "      <td>470</td>\n",
       "      <td>50-54</td>\n",
       "      <td>Male</td>\n",
       "      <td>-1</td>\n",
       "      <td>France</td>\n",
       "      <td>Master’s degree</td>\n",
       "      <td>Data Scientist</td>\n",
       "      <td>-1</td>\n",
       "      <td>0-49 employees</td>\n",
       "      <td>04-Mar</td>\n",
       "      <td>...</td>\n",
       "      <td>NaN</td>\n",
       "      <td>NaN</td>\n",
       "      <td>AWS Relational Database Service</td>\n",
       "      <td>NaN</td>\n",
       "      <td>NaN</td>\n",
       "      <td>NaN</td>\n",
       "      <td>NaN</td>\n",
       "      <td>-1</td>\n",
       "      <td>6</td>\n",
       "      <td>60,000-69,999</td>\n",
       "    </tr>\n",
       "  </tbody>\n",
       "</table>\n",
       "<p>5 rows × 236 columns</p>\n",
       "</div>"
      ],
      "text/plain": [
       "   Time from Start to Finish (seconds)     Q1    Q2  Q2_OTHER_TEXT         Q3  \\\n",
       "0                                  510  22-24  Male             -1     France   \n",
       "1                                  423  40-44  Male             -1      India   \n",
       "2                                  391  40-44  Male             -1  Australia   \n",
       "3                                  392  22-24  Male             -1      India   \n",
       "4                                  470  50-54  Male             -1     France   \n",
       "\n",
       "                    Q4                 Q5  Q5_OTHER_TEXT  \\\n",
       "0      Master’s degree  Software Engineer             -1   \n",
       "1  Professional degree  Software Engineer             -1   \n",
       "2      Master’s degree              Other              0   \n",
       "3    Bachelor’s degree              Other              1   \n",
       "4      Master’s degree     Data Scientist             -1   \n",
       "\n",
       "                     Q6      Q7      ...       Q34_Part_5 Q34_Part_6  \\\n",
       "0  1000-9,999 employees       0      ...              NaN        NaN   \n",
       "1    > 10,000 employees     20+      ...              NaN        NaN   \n",
       "2    > 10,000 employees     20+      ...              NaN        NaN   \n",
       "3        0-49 employees       0      ...              NaN        NaN   \n",
       "4        0-49 employees  04-Mar      ...              NaN        NaN   \n",
       "\n",
       "                        Q34_Part_7 Q34_Part_8          Q34_Part_9 Q34_Part_10  \\\n",
       "0                              NaN        NaN                 NaN         NaN   \n",
       "1                              NaN        NaN                 NaN         NaN   \n",
       "2                              NaN        NaN  Azure SQL Database         NaN   \n",
       "3                              NaN        NaN                 NaN         NaN   \n",
       "4  AWS Relational Database Service        NaN                 NaN         NaN   \n",
       "\n",
       "  Q34_Part_12 Q34_OTHER_TEXT Q10_Encoded    Q10_buckets  \n",
       "0         NaN             -1           3  30,000-39,999  \n",
       "1         NaN             -1           0        0-9,999  \n",
       "2         NaN             -1          14       >250,000  \n",
       "3         NaN             -1           0        0-9,999  \n",
       "4         NaN             -1           6  60,000-69,999  \n",
       "\n",
       "[5 rows x 236 columns]"
      ]
     },
     "execution_count": 1,
     "metadata": {},
     "output_type": "execute_result"
    }
   ],
   "source": [
    "#import all necessary libraries\n",
    "import pandas as pd\n",
    "import numpy as np\n",
    "import matplotlib.pyplot as plt\n",
    "import seaborn as sns\n",
    "#importing Kaggle_Salary in the Data Frame df\n",
    "df = pd.read_csv(r\"C:\\Users\\Mostafa Kouchakzadeh\\Desktop\\Yaser_up - Copy\\Salary(1).csv\")\n",
    "#Looking through the data set to see how it looks like\n",
    "df.head()\n",
    "#one = pd.read_csv(r\"C:\\Users\\Mostafa Kouchakzadeh\\Desktop\\MIE1624\\Kaggle_Salary(1).csv\")\n"
   ]
  },
  {
   "cell_type": "markdown",
   "metadata": {},
   "source": [
    "\n"
   ]
  },
  {
   "cell_type": "markdown",
   "metadata": {},
   "source": [
    "### 1.2 Preliminary removal of columns with useless variables\n",
    "There are a couple of columns with numerical encoding. People who provided the data frame did not mention what these encoding actually mean. Hence, they do not have any useful information for us to use. All said, we decided to drop the columns with these specifications. With a first look at the data frame, we can easily understand that the columns which contain variable \"-1\" need to be deleted."
   ]
  },
  {
   "cell_type": "code",
   "execution_count": 2,
   "metadata": {},
   "outputs": [
    {
     "data": {
      "text/plain": [
       "(12497, 208)"
      ]
     },
     "execution_count": 2,
     "metadata": {},
     "output_type": "execute_result"
    }
   ],
   "source": [
    "df_new = df.loc[:,~(df==-1).any()]\n",
    "df_new.shape"
   ]
  },
  {
   "cell_type": "code",
   "execution_count": 3,
   "metadata": {},
   "outputs": [
    {
     "name": "stdout",
     "output_type": "stream",
     "text": [
      "<class 'pandas.core.frame.DataFrame'>\n",
      "RangeIndex: 12497 entries, 0 to 12496\n",
      "Columns: 208 entries, Time from Start to Finish (seconds) to Q10_buckets\n",
      "dtypes: int64(2), object(206)\n",
      "memory usage: 19.8+ MB\n"
     ]
    }
   ],
   "source": [
    "df_new.head()\n",
    "df_new.info()"
   ]
  },
  {
   "cell_type": "markdown",
   "metadata": {},
   "source": [
    "Inspecting the data frame, we can see columns such as 'Q2_OTHER_TEXT' have been dropped. In addition, column 'Q10' which represents the annual compensation has been dropped since in the kaggle_Salary, it's been organized and encoded. For this assignment, column \"Q10_buckets\" now is considered as the target variable.  As it was mentioned before, in this project we were asked to use annual compensation of data scientists as a goal. Hence, we will decided which columns (questions) can be used to estimate yearly compensation. "
   ]
  },
  {
   "cell_type": "markdown",
   "metadata": {},
   "source": [
    "### 1.3 First stage filtering, based on the important predictors \n",
    "Based on the number of questions that were asked in this survey, we realize using them all in the context of estimation is not logical. Therefore, in the first stage of this assignment we need to choose a number of columns as important variables and then drop samples, which did not response to these questions properly or missed to answer the questions. We will continue adding more variables to our model in the following parts. For now, we are only focusing on the variables, which can be easily detected.\n",
    "Base on the research I did, I have chosen the following questions as important predictors and in each section I would briefly describe the reason I decided to choose this variable:\n",
    "### Q2 : What is your gender?\n",
    "Gender wage gap is defined as the average salary difference between women employees. Mainly it is assumed that women are paid less than men for a same position. Based on Payscale website, women earn 0.79$ for every one dollar that men make in 2019 [1] There are many other resources that explain there is a difference on how much an employee make based on his or her gender. Hence, due to reason explained, we need to consider the gender as an important variable when predicting yearly compensation for a data scientist. However, in the data set that we are working on, in addition to male and female, some respondents preferred not to reveal their gender or tried to describe it by themselves. Since, we do not know how they described themselves we are going to drop these samples. Also, since it is an important for us to know the gender, we cannot use the samples who preffered not to say their sex.\n"
   ]
  },
  {
   "cell_type": "code",
   "execution_count": 4,
   "metadata": {},
   "outputs": [
    {
     "data": {
      "text/plain": [
       "Male                       10473\n",
       "Female                      1827\n",
       "Prefer not to say            167\n",
       "Prefer to self-describe       30\n",
       "Name: Q2, dtype: int64"
      ]
     },
     "execution_count": 4,
     "metadata": {},
     "output_type": "execute_result"
    }
   ],
   "source": [
    "df_new['Q2'].value_counts()"
   ]
  },
  {
   "cell_type": "code",
   "execution_count": 5,
   "metadata": {},
   "outputs": [
    {
     "data": {
      "text/plain": [
       "Male      10473\n",
       "Female     1827\n",
       "Name: Q2, dtype: int64"
      ]
     },
     "execution_count": 5,
     "metadata": {},
     "output_type": "execute_result"
    }
   ],
   "source": [
    "df_new = df_new.loc[df_new['Q2'].isin(['Male','Female'])]\n",
    "#type(df_new['Q2'])\n",
    "df_new['Q2'].value_counts()\n"
   ]
  },
  {
   "cell_type": "markdown",
   "metadata": {},
   "source": [
    "### Q5. Select the title most similar to your current role (or most recent title if retired)\n",
    "In this question, we need to identify what is the possible answer to this question. We need to have in mind that we want to estimate a data scientist’s annual salary. Therefore, we need to exclude respondents that identify themselves as different role. For instance, an individual who describe him or herself as a student should be dropped from our samples since he or she is not involved with a real data science career. As described, the importance of this question is that we would be able to identify respondents who are considering themselves a data scientist or very similar title. First, let us look at the possible answer to this question:\n"
   ]
  },
  {
   "cell_type": "code",
   "execution_count": 6,
   "metadata": {},
   "outputs": [
    {
     "data": {
      "text/plain": [
       "Data Scientist             3602\n",
       "Software Engineer          2344\n",
       "Other                      1442\n",
       "Data Analyst               1399\n",
       "Research Scientist         1247\n",
       "Business Analyst            674\n",
       "Product/Project Manager     657\n",
       "Data Engineer               538\n",
       "Statistician                261\n",
       "DBA/Database Engineer       136\n",
       "Name: Q5, dtype: int64"
      ]
     },
     "execution_count": 6,
     "metadata": {},
     "output_type": "execute_result"
    }
   ],
   "source": [
    "df_new['Q5'].value_counts()"
   ]
  },
  {
   "cell_type": "markdown",
   "metadata": {},
   "source": [
    "We can detect two groups of respondent that describe themselves as other and Product/Project Manager. We are going to remove these samples from our data frame. In addition we need to drop samples who did not answer to this question too:\n"
   ]
  },
  {
   "cell_type": "code",
   "execution_count": 7,
   "metadata": {},
   "outputs": [
    {
     "data": {
      "text/plain": [
       "(10201, 208)"
      ]
     },
     "execution_count": 7,
     "metadata": {},
     "output_type": "execute_result"
    }
   ],
   "source": [
    "df_new['Q5'].dropna(how = 'any')\n",
    "indexNames = df_new[df_new['Q5'] == 'Other' ].index\n",
    "df_new.drop(indexNames , inplace=True)\n",
    "indexNames = df_new[df_new['Q5'] == 'Product/Project Manager' ].index\n",
    "df_new.drop(indexNames , inplace=True)\n",
    "df_new['Q5'].value_counts()\n",
    "df_new.shape"
   ]
  },
  {
   "cell_type": "code",
   "execution_count": 8,
   "metadata": {},
   "outputs": [
    {
     "data": {
      "text/plain": [
       "(10166, 208)"
      ]
     },
     "execution_count": 8,
     "metadata": {},
     "output_type": "execute_result"
    }
   ],
   "source": [
    "df_new = df_new[~df_new['Q18_Part_11'].isin(['None'])]\n",
    "df_new.shape"
   ]
  },
  {
   "cell_type": "markdown",
   "metadata": {},
   "source": [
    "### Q15. How long have you been writing code to analyze data (at work or at school)\n",
    "As we all know, the more you have worked in a field, the more you will earn. Experience is a critical variable to estimate a data scientist salary. We need to exclude the samples that did not answer this question. Also there are some respondents that did not written any code; these samples should be dropped too.\n",
    "### Q23. For how many years have you used machine learning methods?\n",
    "The same reasoning applies to this question."
   ]
  },
  {
   "cell_type": "code",
   "execution_count": 9,
   "metadata": {},
   "outputs": [
    {
     "data": {
      "text/plain": [
       "(8685, 208)"
      ]
     },
     "execution_count": 9,
     "metadata": {},
     "output_type": "execute_result"
    }
   ],
   "source": [
    "df_new = df_new.loc[df_new['Q15'].isin(['3-5 years','1-2 years','5-10 years','< 1 years','10-20 years','20+ years'])]\n",
    "df_new = df_new.loc[df_new['Q23'].isin(['1-2 years','< 1 years','2-3 years','3-4 years','4-5 years','5-10 years','10-15 years','20+ years'])]\n",
    "df_new.shape"
   ]
  },
  {
   "cell_type": "markdown",
   "metadata": {},
   "source": [
    "## 1.4 Dropping unrelated variables\n",
    "From the data set that was provided, we can remove several columns that do not help us to determine the compensation bucket for a data scientist. Questions that we are going to represent are: \n",
    "### Q12. Who/what are your favorite media sources that report on data science topics? (Select all that apply)\n",
    "This question is a personal question and would not be necessarily helpful in our modeling. \n",
    "### Q13. On which platforms have you begun or completed data science courses? (Select all that apply)\n",
    "I my opinion this also an unnecessary variable that do not need to be considered in our modeling. Learning about data science from different platforms cannot be an explanatory varibale that would help us to determine how much a data scientist would make. Most of data science knowledge and how professional you would get at it, depends on trial and errors and experience rather than the platform used to learn about it. \n",
    "### Q16. Which of the following integrated development environments (IDE's) do you use on a regular basis?\n",
    "This question is not that necessary for us to know when we want to predict the salary bucket of a respondent. Moreover, knowing the programming languages that are used by users is more practical so we can remove variables related to question 16.\n",
    "### Q18_Part_11. \n",
    "Knowing the knowledge of programming language of each respondents is a significantly important variable for us to determine their annual compensation. However, if someone does not know to code with any of the programming languages it means that they do not know how to deal with data and cannot be recognized as a data scientist. So, we are going to remove whoever, filled the column none for question 18 and remove this variable from our data frame.\n",
    "### Q20. What data visualization libraries or tools do you use on a regular basis?  \n",
    "This is not an important feature for estimating annual salary of a data scientist. Each of these libraries have their strength and weaknesses and not necessary address the issue that how much would a data scientist earns if he/she uses this library\n",
    "### Q21. Which types of specialized hardware do you use on a regular basis?\n",
    "Using each of the processor would not necessarily give us enough understanding about the workload of a certain data scientist. However, TPUs are different in comparison to other processor units. Therefore, we are going to show the influence of TPU on a salary in question 22. \n",
    "### Q19. What programming language would you recommend an aspiring data scientist to learn first? \n",
    "This is also a personal opinion and would not help us to enhance our model's estimation\n",
    "### Q30. Which specific cloud computing products do you use on a regular basis?\n",
    "We can remove this column because we have the question 29. We can say these two questions have some correlation with each other. The more important question that we need to have answer for is that what is cloud computing platform that is used by a respondent.\n",
    "### Q32. Which of the following machine learning products do you use on a regular basis?\n",
    "We are more interested to the methods that are used in ML not the products to estimate the salary of a data scientist.\n",
    "### Q17. Which of the following hosted notebook products do you use on a regular basis?\n",
    "Using any kind of hosted notebooks, would not necessarily explain to us how much a respondent make should. They might use multiple hosted notebooks but they are using it for easy tasks\n",
    "### Q25. Which categories of ML tools do you use on a regular basis?\n",
    "As we said before, we need to know which ML methods are used regularly therefore, we do not need to include this variable in our modeling. \n",
    "### Q26. Which categories of computer vision methods do you use on a regular basis? \n",
    "Using any kind of computer vision methods would not tell us much about the salary of a data scientist\n",
    "### Q28. Which of the following machine learning frameworks do you use on a regular basis? \n",
    "In this particular question, we are less interested in the frameworks rather than using which methods of machine learning algorithm. \n",
    "### Q29. Which of the following cloud computing platforms do you use on a regular basis?\n",
    "As explained for question 17 we are interested to know the platform used by a data scientist rather than we need to know the methods he/she uses\n",
    "### Q33. Which automated machine learning tools (or partial AutoML tools) do you use on a regular basis?\n",
    "### Q34. Which of the following relational database products do you use on a regular basis?\n",
    "\n"
   ]
  },
  {
   "cell_type": "code",
   "execution_count": 10,
   "metadata": {
    "scrolled": true
   },
   "outputs": [
    {
     "data": {
      "text/plain": [
       "(8685, 63)"
      ]
     },
     "execution_count": 10,
     "metadata": {},
     "output_type": "execute_result"
    }
   ],
   "source": [
    "column_drop = ['Q12','Q13','Q16','Q19', 'Q20', 'Q21', 'Q19', 'Q30', 'Q32','Q17','Q25','Q26','Q28','Q29','Q33','Q34']\n",
    "df_new.drop('Q18_Part_11', axis=1, inplace=True)\n",
    "for col in column_drop: \n",
    "    df_new.drop(list(df_new.filter(regex=col)), axis = 1, inplace = True)\n",
    "df_new.shape\n",
    "#df_new.to_csv(r\"C:\\Users\\ITSLab\\Desktop\\Yaser\\(1).csv\")"
   ]
  },
  {
   "cell_type": "markdown",
   "metadata": {},
   "source": [
    "For now, we are going to encode the multiple-choice questions. If a respondent selected a part, it would be 1 and if he did not respond to it, it would be 0"
   ]
  },
  {
   "cell_type": "code",
   "execution_count": 11,
   "metadata": {
    "scrolled": true
   },
   "outputs": [],
   "source": [
    "# Import label encoder \n",
    "from sklearn import preprocessing \n",
    "# label_encoder object\n",
    "label_encoder = preprocessing.LabelEncoder() \n",
    "\n",
    "\n",
    "for col in df_new:\n",
    "    if '_Part_' in col:\n",
    "        df_new[col] = df_new[col].fillna(0)\n",
    "for col in df_new:\n",
    "     if '_Part_' in col:\n",
    "        df_new[col] = df_new[col].astype(str)\n",
    "        df_new[col] = label_encoder.fit_transform(df_new[col])\n",
    "        \n",
    "    \n",
    "#df_new.to_csv(r\"C:\\Users\\ITSLab\\Desktop\\Yaser\\(2).csv\")"
   ]
  },
  {
   "cell_type": "markdown",
   "metadata": {},
   "source": []
  },
  {
   "cell_type": "markdown",
   "metadata": {},
   "source": [
    "In this part of the assignment, we are going to detect the outliers related to the time that a respondent spent on completing the survey. If the respondent did not spend enough time to finish the questionnaire, he/she might not have read the questions carefully and just wanted to participate in the survey. Therefore, their answers are not that reliable for our modelling. Additionally, if they spend too much time on the survey, they might did other things at the same time of completing the survey. Therefore, since they were distracted, we cannot include them in our modelling. The measure that we are going to use for detecting the outliers is percentile of data in the column 'Time from Start to Finish (seconds)'. First we are going to create a box plot from this column:"
   ]
  },
  {
   "cell_type": "code",
   "execution_count": 12,
   "metadata": {},
   "outputs": [
    {
     "name": "stdout",
     "output_type": "stream",
     "text": [
      "<bound method Series.count of 0           510\n",
      "4           470\n",
      "5           529\n",
      "6           624\n",
      "8           459\n",
      "9           397\n",
      "11          485\n",
      "12          426\n",
      "14          368\n",
      "15         1529\n",
      "17          691\n",
      "18         1146\n",
      "19          377\n",
      "20          379\n",
      "21          353\n",
      "22          528\n",
      "23          615\n",
      "24         1486\n",
      "25          538\n",
      "26          884\n",
      "27          402\n",
      "28          448\n",
      "30          384\n",
      "31          973\n",
      "32          843\n",
      "34          621\n",
      "35          529\n",
      "36          538\n",
      "37          380\n",
      "38          691\n",
      "          ...  \n",
      "12338    423609\n",
      "12341       782\n",
      "12343       396\n",
      "12344       723\n",
      "12346       735\n",
      "12351       826\n",
      "12352       712\n",
      "12354     46596\n",
      "12362       673\n",
      "12363       417\n",
      "12366     30941\n",
      "12370       600\n",
      "12372     79387\n",
      "12378     21149\n",
      "12381     36241\n",
      "12399      1540\n",
      "12403       276\n",
      "12406       852\n",
      "12411      1025\n",
      "12416      1782\n",
      "12417       899\n",
      "12429       444\n",
      "12433      1140\n",
      "12434       726\n",
      "12441       379\n",
      "12442       623\n",
      "12461     28181\n",
      "12470       306\n",
      "12479       762\n",
      "12496       567\n",
      "Name: Time from Start to Finish (seconds), Length: 8685, dtype: int64>\n"
     ]
    },
    {
     "data": {
      "image/png": "[encoded data removed]",
      "text/plain": [
       "<Figure size 1800x432 with 1 Axes>"
      ]
     },
     "metadata": {
      "needs_background": "light"
     },
     "output_type": "display_data"
    }
   ],
   "source": [
    "plt.figure(figsize=(25, 6))\n",
    "p=sns.boxplot(df_new[\"Time from Start to Finish (seconds)\"])\n",
    "p.set_title('Time from Start to Finish (seconds) Box Plot', fontsize=14)\n",
    "cnt = df_new['Time from Start to Finish (seconds)'].count\n",
    "print (cnt)"
   ]
  },
  {
   "cell_type": "code",
   "execution_count": 13,
   "metadata": {},
   "outputs": [
    {
     "name": "stdout",
     "output_type": "stream",
     "text": [
      "7825 data points remain.\n"
     ]
    }
   ],
   "source": [
    "df_new['Time from Start to Finish (seconds)'] = df_new['Time from Start to Finish (seconds)'].astype(float)\n",
    "y = df_new['Time from Start to Finish (seconds)']\n",
    "removed_outliers = y.between(y.quantile(.05), y.quantile(.95))\n",
    "print(str(y[removed_outliers].size) + \" data points remain.\") \n",
    "\n",
    "index_names = df_new[~removed_outliers].index # INVERT removed_outliers!!\n",
    "df_new.drop(index_names, inplace=True)"
   ]
  },
  {
   "cell_type": "code",
   "execution_count": 14,
   "metadata": {
    "scrolled": false
   },
   "outputs": [
    {
     "data": {
      "text/plain": [
       "Text(0.5, 1.0, 'Time from Start to Finish (seconds) Box Plot')"
      ]
     },
     "execution_count": 14,
     "metadata": {},
     "output_type": "execute_result"
    },
    {
     "data": {
      "image/png": "[encoded data removed]",
      "text/plain": [
       "<Figure size 1800x432 with 1 Axes>"
      ]
     },
     "metadata": {
      "needs_background": "light"
     },
     "output_type": "display_data"
    }
   ],
   "source": [
    "plt.figure(figsize=(25, 6))\n",
    "p=sns.boxplot(df_new[\"Time from Start to Finish (seconds)\"])\n",
    "p.set_title('Time from Start to Finish (seconds) Box Plot', fontsize=14)"
   ]
  },
  {
   "cell_type": "markdown",
   "metadata": {},
   "source": [
    "As we saw there was about 700 outliers in or data set that we were able to remove them. In this step, we are going to look at the distribution of salary:"
   ]
  },
  {
   "cell_type": "code",
   "execution_count": 15,
   "metadata": {
    "scrolled": true
   },
   "outputs": [
    {
     "data": {
      "text/plain": [
       "(7825, 63)"
      ]
     },
     "execution_count": 15,
     "metadata": {},
     "output_type": "execute_result"
    }
   ],
   "source": [
    "df_new['Q10_buckets'].unique()\n",
    "df_new.shape"
   ]
  },
  {
   "cell_type": "markdown",
   "metadata": {},
   "source": [
    "## Part 1. Summary\n",
    "In this part first, we first set a couple of a questions as important features that all the samples that are going to be imported in our model should have answered those questions. We removed samples who did not answer to those questions. We were able to fill the missing values, but since we had sufficient amount of data we decided to remove those features. The reasoning behind our decision is that since the data set includes various countries with different characteristics, if we used median or mean to fill the missing value, we might make our data set bias. In the next part, some of the questions (features) based on the reasoning that was provided were removed from our data frame. At the end our first section, we drew a boxplot of the time respondent answer the questions and removed outliers from both sides of the time. Respondent who took too long to complete the survey and the ones finished it very quickly.\n"
   ]
  },
  {
   "cell_type": "markdown",
   "metadata": {},
   "source": [
    "# 2. Analyzing data frame's different variables "
   ]
  },
  {
   "cell_type": "markdown",
   "metadata": {},
   "source": [
    "## 2.1. Respondents country distribution\n",
    "Now, we have about 8000 samples that would enable us to create our model. Howeve, we do not have any information about respondents geography distribution. Hence, we now need to analyze where the samples are located:\n"
   ]
  },
  {
   "cell_type": "code",
   "execution_count": 16,
   "metadata": {
    "scrolled": true
   },
   "outputs": [
    {
     "data": {
      "text/plain": [
       "India                                                   1454\n",
       "United States of America                                1330\n",
       "Other                                                    408\n",
       "Brazil                                                   355\n",
       "Japan                                                    298\n",
       "Russia                                                   288\n",
       "Germany                                                  246\n",
       "United Kingdom of Great Britain and Northern Ireland     219\n",
       "Spain                                                    204\n",
       "France                                                   188\n",
       "Canada                                                   179\n",
       "China                                                    155\n",
       "Nigeria                                                  125\n",
       "Italy                                                    125\n",
       "Australia                                                111\n",
       "Turkey                                                   106\n",
       "Taiwan                                                   105\n",
       "Poland                                                   104\n",
       "Ukraine                                                   95\n",
       "Mexico                                                    94\n",
       "Colombia                                                  91\n",
       "Pakistan                                                  86\n",
       "Indonesia                                                 79\n",
       "Netherlands                                               75\n",
       "South Korea                                               71\n",
       "Argentina                                                 69\n",
       "Singapore                                                 63\n",
       "Portugal                                                  54\n",
       "Israel                                                    52\n",
       "South Africa                                              50\n",
       "Sweden                                                    49\n",
       "Chile                                                     49\n",
       "Viet Nam                                                  48\n",
       "Switzerland                                               46\n",
       "Kenya                                                     43\n",
       "Iran, Islamic Republic of...                              41\n",
       "Greece                                                    38\n",
       "Bangladesh                                                37\n",
       "Romania                                                   37\n",
       "Morocco                                                   36\n",
       "Belgium                                                   36\n",
       "Belarus                                                   34\n",
       "Peru                                                      33\n",
       "Hungary                                                   32\n",
       "Austria                                                   30\n",
       "Egypt                                                     30\n",
       "Thailand                                                  30\n",
       "Hong Kong (S.A.R.)                                        30\n",
       "Ireland                                                   28\n",
       "Norway                                                    27\n",
       "Czech Republic                                            26\n",
       "Denmark                                                   25\n",
       "New Zealand                                               25\n",
       "Philippines                                               24\n",
       "Saudi Arabia                                              24\n",
       "Malaysia                                                  24\n",
       "Republic of Korea                                         24\n",
       "Tunisia                                                   20\n",
       "Algeria                                                   20\n",
       "Name: Q3, dtype: int64"
      ]
     },
     "execution_count": 16,
     "metadata": {},
     "output_type": "execute_result"
    }
   ],
   "source": [
    "df_new['Q3'].value_counts()"
   ]
  },
  {
   "cell_type": "markdown",
   "metadata": {},
   "source": [
    "As we can see, the majority of our participants are from India and United States of America. Other countries have a significantly less number of participants in our survey. If we look at the distribution of salary among respondent, we can conclude that both United States and India have a significant impact on the distribution."
   ]
  },
  {
   "cell_type": "code",
   "execution_count": 17,
   "metadata": {},
   "outputs": [
    {
     "name": "stdout",
     "output_type": "stream",
     "text": [
      "Requirement already satisfied: plotly==4.5.0 in d:\\anaconda\\lib\\site-packages (4.5.0)\n",
      "Requirement already satisfied: retrying>=1.3.3 in d:\\anaconda\\lib\\site-packages (from plotly==4.5.0) (1.3.3)\n",
      "Requirement already satisfied: six in d:\\anaconda\\lib\\site-packages (from plotly==4.5.0) (1.12.0)\n"
     ]
    },
    {
     "data": {
      "text/html": [
       "        <script type=\"text/javascript\">\n",
       "        window.PlotlyConfig = {MathJaxConfig: 'local'};\n",
       "        if (window.MathJax) {MathJax.Hub.Config({SVG: {font: \"STIX-Web\"}});}\n",
       "        if (typeof require !== 'undefined') {\n",
       "        require.undef(\"plotly\");\n",
       "        requirejs.config({\n",
       "            paths: {\n",
       "                'plotly': ['https://cdn.plot.ly/plotly-latest.min']\n",
       "            }\n",
       "        });\n",
       "        require(['plotly'], function(Plotly) {\n",
       "            window._Plotly = Plotly;\n",
       "        });\n",
       "        }\n",
       "        </script>\n",
       "        "
      ]
     },
     "metadata": {},
     "output_type": "display_data"
    }
   ],
   "source": [
    "! pip install plotly==4.5.0\n",
    "import plotly as py\n",
    "import plotly.express as px\n",
    "import plotly.graph_objs as go\n",
    "from plotly.subplots import make_subplots\n",
    "from plotly.offline import download_plotlyjs, init_notebook_mode, plot, iplot\n",
    "\n",
    "init_notebook_mode(connected=True) "
   ]
  },
  {
   "cell_type": "code",
   "execution_count": 18,
   "metadata": {},
   "outputs": [],
   "source": [
    "df_responses = df.copy()\n",
    "df_data = df_responses.loc[:,[\"Q3\"]]\n",
    "df_data.columns = [\"Country\"]\n",
    "df_data[\"Country\"] = df_data[\"Country\"].str.replace(\"United Kingdom of Great Britain and Northern Ireland\",\"United Kingdom\", regex=False)\n",
    "df_data[\"Country\"] = df_data[\"Country\"].str.replace(\"United States of America\",\"United States\", regex=False)\n",
    "df_data[\"Country\"] = df_data[\"Country\"].str.replace(\"Iran, Islamic Republic of...\",\"Iran\", regex=False)\n",
    "df_data[\"Country\"] = df_data[\"Country\"].str.replace(\"Republic of Korea\",\"South Korea\", regex=False)\n",
    "df_data[\"Country\"] = df_data[\"Country\"].str.replace(\"Viet Nam\",\"Vietnam\", regex=False)"
   ]
  },
  {
   "cell_type": "code",
   "execution_count": 19,
   "metadata": {
    "scrolled": true
   },
   "outputs": [
    {
     "data": {
      "application/vnd.plotly.v1+json": {
       "config": {
        "linkText": "Export to plot.ly",
        "plotlyServerURL": "https://plot.ly",
        "showLink": false
       },
       "data": [
        {
         "autocolorscale": false,
         "colorbar": {
          "autotick": false,
          "tickprefix": "",
          "title": "Participant"
         },
         "colorscale": [
          [
           0,
           "rgb(251, 237, 235)"
          ],
          [
           0.09,
           "rgb(245, 211, 206)"
          ],
          [
           0.12,
           "rgb(239, 179, 171)"
          ],
          [
           0.15,
           "rgb(236, 148, 136)"
          ],
          [
           0.22,
           "rgb(239, 117, 100)"
          ],
          [
           0.35,
           "rgb(235, 90, 70)"
          ],
          [
           0.45,
           "rgb(207, 81, 61)"
          ],
          [
           0.65,
           "rgb(176, 70, 50)"
          ],
          [
           0.85,
           "rgb(147, 59, 39)"
          ],
          [
           1,
           "rgb(110, 47, 26)"
          ]
         ],
         "locationmode": "country names",
         "locations": [
          "India",
          "United States",
          "Other",
          "Brazil",
          "Japan",
          "Russia",
          "Germany",
          "United Kingdom",
          "Spain",
          "Canada",
          "France",
          "China",
          "Nigeria",
          "Australia",
          "Italy",
          "Turkey",
          "Taiwan",
          "Poland",
          "South Korea",
          "Ukraine",
          "Mexico",
          "Colombia",
          "Pakistan",
          "Netherlands",
          "Indonesia",
          "Singapore",
          "Argentina",
          "Portugal",
          "South Africa",
          "Chile",
          "Israel",
          "Vietnam",
          "Switzerland",
          "Kenya",
          "Greece",
          "Morocco",
          "Sweden",
          "Egypt",
          "Bangladesh",
          "Belgium",
          "Iran",
          "Peru",
          "Ireland",
          "Hong Kong (S.A.R.)",
          "Malaysia",
          "Belarus",
          "Romania",
          "Thailand",
          "Austria",
          "Philippines",
          "Hungary",
          "New Zealand",
          "Norway",
          "Czech Republic",
          "Denmark",
          "Saudi Arabia",
          "Algeria",
          "Tunisia"
         ],
         "marker": {
          "line": {
           "color": "rgb(180,180,180)",
           "width": 0.5
          }
         },
         "reversescale": false,
         "type": "choropleth",
         "z": [
          2477,
          2134,
          705,
          535,
          480,
          426,
          360,
          333,
          316,
          301,
          279,
          235,
          215,
          208,
          197,
          173,
          170,
          161,
          157,
          136,
          132,
          131,
          121,
          120,
          109,
          100,
          98,
          86,
          82,
          79,
          79,
          73,
          72,
          70,
          69,
          66,
          66,
          65,
          60,
          54,
          53,
          51,
          50,
          48,
          47,
          46,
          44,
          44,
          42,
          41,
          41,
          39,
          39,
          38,
          38,
          37,
          36,
          33
         ]
        }
       ],
       "layout": {
        "geo": {
         "height": 400,
         "projection": {
          "type": "Mercator"
         },
         "showcoastlines": true,
         "showframe": false,
         "width": 500
        },
        "title": "Country Distribution of All Respondents"
       }
      },
      "text/html": [
       "<div>\n",
       "        \n",
       "        \n",
       "            <div id=\"bcd311c4-ecf4-41fa-8095-c45bf1c2a56f\" class=\"plotly-graph-div\" style=\"height:525px; width:100%;\"></div>\n",
       "            <script type=\"text/javascript\">\n",
       "                require([\"plotly\"], function(Plotly) {\n",
       "                    window.PLOTLYENV=window.PLOTLYENV || {};\n",
       "                    \n",
       "                if (document.getElementById(\"bcd311c4-ecf4-41fa-8095-c45bf1c2a56f\")) {\n",
       "                    Plotly.newPlot(\n",
       "                        'bcd311c4-ecf4-41fa-8095-c45bf1c2a56f',\n",
       "                        [{\"autocolorscale\": false, \"colorbar\": {\"autotick\": false, \"tickprefix\": \"\", \"title\": \"Participant\"}, \"colorscale\": [[0.0, \"rgb(251, 237, 235)\"], [0.09, \"rgb(245, 211, 206)\"], [0.12, \"rgb(239, 179, 171)\"], [0.15, \"rgb(236, 148, 136)\"], [0.22, \"rgb(239, 117, 100)\"], [0.35, \"rgb(235, 90, 70)\"], [0.45, \"rgb(207, 81, 61)\"], [0.65, \"rgb(176, 70, 50)\"], [0.85, \"rgb(147, 59, 39)\"], [1.0, \"rgb(110, 47, 26)\"]], \"locationmode\": \"country names\", \"locations\": [\"India\", \"United States\", \"Other\", \"Brazil\", \"Japan\", \"Russia\", \"Germany\", \"United Kingdom\", \"Spain\", \"Canada\", \"France\", \"China\", \"Nigeria\", \"Australia\", \"Italy\", \"Turkey\", \"Taiwan\", \"Poland\", \"South Korea\", \"Ukraine\", \"Mexico\", \"Colombia\", \"Pakistan\", \"Netherlands\", \"Indonesia\", \"Singapore\", \"Argentina\", \"Portugal\", \"South Africa\", \"Chile\", \"Israel\", \"Vietnam\", \"Switzerland\", \"Kenya\", \"Greece\", \"Morocco\", \"Sweden\", \"Egypt\", \"Bangladesh\", \"Belgium\", \"Iran\", \"Peru\", \"Ireland\", \"Hong Kong (S.A.R.)\", \"Malaysia\", \"Belarus\", \"Romania\", \"Thailand\", \"Austria\", \"Philippines\", \"Hungary\", \"New Zealand\", \"Norway\", \"Czech Republic\", \"Denmark\", \"Saudi Arabia\", \"Algeria\", \"Tunisia\"], \"marker\": {\"line\": {\"color\": \"rgb(180,180,180)\", \"width\": 0.5}}, \"reversescale\": false, \"type\": \"choropleth\", \"z\": [2477, 2134, 705, 535, 480, 426, 360, 333, 316, 301, 279, 235, 215, 208, 197, 173, 170, 161, 157, 136, 132, 131, 121, 120, 109, 100, 98, 86, 82, 79, 79, 73, 72, 70, 69, 66, 66, 65, 60, 54, 53, 51, 50, 48, 47, 46, 44, 44, 42, 41, 41, 39, 39, 38, 38, 37, 36, 33]}],\n",
       "                        {\"geo\": {\"height\": 400, \"projection\": {\"type\": \"Mercator\"}, \"showcoastlines\": true, \"showframe\": false, \"width\": 500}, \"title\": \"Country Distribution of All Respondents\"},\n",
       "                        {\"responsive\": true}\n",
       "                    ).then(function(){\n",
       "                            \n",
       "var gd = document.getElementById('bcd311c4-ecf4-41fa-8095-c45bf1c2a56f');\n",
       "var x = new MutationObserver(function (mutations, observer) {{\n",
       "        var display = window.getComputedStyle(gd).display;\n",
       "        if (!display || display === 'none') {{\n",
       "            console.log([gd, 'removed!']);\n",
       "            Plotly.purge(gd);\n",
       "            observer.disconnect();\n",
       "        }}\n",
       "}});\n",
       "\n",
       "// Listen for the removal of the full notebook cells\n",
       "var notebookContainer = gd.closest('#notebook-container');\n",
       "if (notebookContainer) {{\n",
       "    x.observe(notebookContainer, {childList: true});\n",
       "}}\n",
       "\n",
       "// Listen for the clearing of the current output cell\n",
       "var outputEl = gd.closest('.output');\n",
       "if (outputEl) {{\n",
       "    x.observe(outputEl, {childList: true});\n",
       "}}\n",
       "\n",
       "                        })\n",
       "                };\n",
       "                });\n",
       "            </script>\n",
       "        </div>"
      ]
     },
     "metadata": {},
     "output_type": "display_data"
    }
   ],
   "source": [
    "df_country_count = pd.DataFrame({'Country':df_data.Country.value_counts().index, \n",
    "                             'Count':df_data.Country.value_counts().values})\n",
    "\n",
    "data = [ dict(\n",
    "        type = 'choropleth',\n",
    "        locations = df_country_count['Country'],\n",
    "        locationmode = 'country names',\n",
    "        z = df_country_count['Count'],\n",
    "        colorscale=\n",
    "            [[0.0, \"rgb(251, 237, 235)\"],\n",
    "            [0.09, \"rgb(245, 211, 206)\"],\n",
    "            [0.12, \"rgb(239, 179, 171)\"],\n",
    "            [0.15, \"rgb(236, 148, 136)\"],\n",
    "            [0.22, \"rgb(239, 117, 100)\"],\n",
    "            [0.35, \"rgb(235, 90, 70)\"],\n",
    "            [0.45, \"rgb(207, 81, 61)\"],\n",
    "            [0.65, \"rgb(176, 70, 50)\"],\n",
    "            [0.85, \"rgb(147, 59, 39)\"],\n",
    "            [1.00, \"rgb(110, 47, 26)\"]],\n",
    "        autocolorscale = False,\n",
    "        reversescale = False,\n",
    "        marker = dict(\n",
    "            line = dict (\n",
    "                color = 'rgb(180,180,180)',\n",
    "                width = 0.5\n",
    "            ) \n",
    "        ),\n",
    "        colorbar = dict(\n",
    "            autotick = False,\n",
    "            tickprefix = '',\n",
    "            title = 'Participant'),\n",
    "      ) ]\n",
    "\n",
    "layout = dict(\n",
    "    title = \"Country Distribution of All Respondents\",\n",
    "    geo = dict(\n",
    "        showframe = False,\n",
    "        showcoastlines = True,\n",
    "        projection = dict(type = 'Mercator'),\n",
    "        width=500,height=400)\n",
    ")\n",
    "\n",
    "w_map = dict( data=data, layout=layout)\n",
    "iplot( w_map, validate=False)"
   ]
  },
  {
   "cell_type": "markdown",
   "metadata": {},
   "source": [
    "We have shown a global map that represent the number of respondents from each country. As we said, India and US have the biggest contribution. After these countries, Brazil, Russia, and Germany have the next contribution to the survey data frame that has been cleaned."
   ]
  },
  {
   "cell_type": "code",
   "execution_count": 20,
   "metadata": {},
   "outputs": [],
   "source": [
    "# sorting the salary bucket\n",
    "salary_order = ['0-9,999',\n",
    "               '10,000-19,999',\n",
    "               '20,000-29,999',\n",
    "               '30,000-39,999',\n",
    "               '40,000-49,999',\n",
    "               '50,000-59,999',\n",
    "               '60,000-69,999',\n",
    "               '70,000-79,999',\n",
    "               '80,000-89,999',\n",
    "               '90,000-99,999',\n",
    "               '100,000-124,999',\n",
    "               '125,000-149,9991',\n",
    "               '150,000-199,999',\n",
    "               '200,000-249,999',\n",
    "               '>250,000']\n",
    "df = df_new.copy()\n",
    "df['Q10_buckets'] = pd.Categorical(df['Q10_buckets'], salary_order)"
   ]
  },
  {
   "cell_type": "code",
   "execution_count": 21,
   "metadata": {},
   "outputs": [
    {
     "data": {
      "text/plain": [
       "array(['22-24', '50-54', '30-34', '18-21', '25-29', '40-44', '35-39',\n",
       "       '45-49', '60-69', '55-59', '70+'], dtype=object)"
      ]
     },
     "execution_count": 21,
     "metadata": {},
     "output_type": "execute_result"
    }
   ],
   "source": [
    "df.Q1.unique()"
   ]
  },
  {
   "cell_type": "code",
   "execution_count": 22,
   "metadata": {},
   "outputs": [],
   "source": [
    "# sorting the salary bucket\n",
    "age_order = ['18-21',\n",
    "               '22-24',\n",
    "               '25-29',\n",
    "               '30-34',\n",
    "               '35-39',\n",
    "               '40-44',\n",
    "               '45-49',\n",
    "               '50-54',\n",
    "               '55-59',\n",
    "               '60-69',\n",
    "               '+70']\n",
    "df = df_new.copy()\n",
    "df['Q1'] = pd.Categorical(df['Q1'], age_order)"
   ]
  },
  {
   "cell_type": "code",
   "execution_count": 23,
   "metadata": {},
   "outputs": [
    {
     "data": {
      "text/plain": [
       "Text(0, 0.5, 'Age')"
      ]
     },
     "execution_count": 23,
     "metadata": {},
     "output_type": "execute_result"
    },
    {
     "data": {
      "image/png": "[encoded data removed]",
      "text/plain": [
       "<Figure size 360x360 with 1 Axes>"
      ]
     },
     "metadata": {
      "needs_background": "light"
     },
     "output_type": "display_data"
    }
   ],
   "source": [
    "#drawing a boxplot showing the salary range per gender\n",
    "plt.figure(figsize=(5,5))\n",
    "sns.boxplot(y='Q1', x='Q10_Encoded', data=df)\n",
    "plt.title('Distribution of age in relation to salary')\n",
    "plt.xlabel('Salary')\n",
    "plt.ylabel('Age')"
   ]
  },
  {
   "cell_type": "markdown",
   "metadata": {},
   "source": [
    "From above shown figure we can see that what is the distribution of each age with salary encode, as we can see the lowest income is for yougest people in survey and as the age of respondents increase, they would have more income"
   ]
  },
  {
   "cell_type": "code",
   "execution_count": 24,
   "metadata": {
    "scrolled": true
   },
   "outputs": [
    {
     "data": {
      "text/plain": [
       "Text(0.5, 1.0, 'Data Salary Distribution')"
      ]
     },
     "execution_count": 24,
     "metadata": {},
     "output_type": "execute_result"
    },
    {
     "data": {
      "image/png": "[encoded data removed]",
      "text/plain": [
       "<Figure size 432x288 with 1 Axes>"
      ]
     },
     "metadata": {
      "needs_background": "light"
     },
     "output_type": "display_data"
    }
   ],
   "source": [
    "ax=sns.countplot(y='Q10_buckets',data = df)\n",
    "ax.set_ylabel('Salary in US$', fontsize=14)\n",
    "ax.set_xlabel('Count', fontsize=14)\n",
    "ax.set_title('Data Salary Distribution', fontsize=14)"
   ]
  },
  {
   "cell_type": "markdown",
   "metadata": {},
   "source": [
    " As we can see from the count plot presented above, most of our samples lie within a group of 0-9999 dollars. This is specifically because average salary in the whole world is different and respondents might not have a strong currency as US or other European countries. Since this data set includes different countries around the world, the distributions should be skewed with high number of participants in the lower bucket salary. Due to the average salary in the world is about 10000 dollars per year per person according to BBC research [2]. Looking at the chart, we realize that as the compensation bucket increases the number of respondents in that specific bucket is decreasing. However, there is a jump in the number of people who are paid between 100000 to 124999 dollars per year. After analyzing the reason, we realized that most of the respondents that lie in this salary bucket are from US that has a greater economy and stronger currency value. Most of the respondents from India would receive much lower salary than the other world, which would skew the salary distribution toward lower bucket:"
   ]
  },
  {
   "cell_type": "code",
   "execution_count": 25,
   "metadata": {},
   "outputs": [
    {
     "data": {
      "text/plain": [
       "United States of America                                253\n",
       "United Kingdom of Great Britain and Northern Ireland     22\n",
       "Germany                                                  19\n",
       "Australia                                                17\n",
       "Switzerland                                              15\n",
       "Canada                                                   15\n",
       "India                                                    14\n",
       "Other                                                    13\n",
       "Japan                                                    13\n",
       "France                                                   10\n",
       "Israel                                                   10\n",
       "Russia                                                    7\n",
       "Denmark                                                   6\n",
       "Singapore                                                 5\n",
       "Spain                                                     5\n",
       "Brazil                                                    5\n",
       "Norway                                                    5\n",
       "Italy                                                     4\n",
       "Ireland                                                   4\n",
       "New Zealand                                               4\n",
       "Netherlands                                               3\n",
       "Saudi Arabia                                              2\n",
       "Hong Kong (S.A.R.)                                        2\n",
       "Turkey                                                    2\n",
       "Greece                                                    2\n",
       "Colombia                                                  2\n",
       "Austria                                                   2\n",
       "Chile                                                     2\n",
       "Mexico                                                    2\n",
       "Ukraine                                                   1\n",
       "Poland                                                    1\n",
       "Sweden                                                    1\n",
       "Taiwan                                                    1\n",
       "Nigeria                                                   1\n",
       "Argentina                                                 1\n",
       "China                                                     1\n",
       "Belgium                                                   1\n",
       "Malaysia                                                  1\n",
       "South Korea                                               1\n",
       "Indonesia                                                 1\n",
       "Name: Q3, dtype: int64"
      ]
     },
     "execution_count": 25,
     "metadata": {},
     "output_type": "execute_result"
    }
   ],
   "source": [
    "yas = df_new[df_new['Q10_buckets'].str.contains('100,000-124,999')]\n",
    "yas['Q3'].value_counts()\n",
    "\n"
   ]
  },
  {
   "cell_type": "code",
   "execution_count": 26,
   "metadata": {
    "scrolled": true
   },
   "outputs": [
    {
     "data": {
      "text/plain": [
       "India                                                   750\n",
       "Other                                                   179\n",
       "Brazil                                                  134\n",
       "Nigeria                                                 103\n",
       "Russia                                                  102\n",
       "Japan                                                   102\n",
       "China                                                    71\n",
       "Pakistan                                                 67\n",
       "Indonesia                                                63\n",
       "United States of America                                 60\n",
       "Turkey                                                   46\n",
       "Viet Nam                                                 40\n",
       "Ukraine                                                  39\n",
       "Taiwan                                                   34\n",
       "Mexico                                                   34\n",
       "South Korea                                              34\n",
       "Kenya                                                    33\n",
       "Iran, Islamic Republic of...                             33\n",
       "Colombia                                                 33\n",
       "Bangladesh                                               31\n",
       "France                                                   23\n",
       "Morocco                                                  22\n",
       "Egypt                                                    22\n",
       "Peru                                                     20\n",
       "Spain                                                    20\n",
       "Germany                                                  19\n",
       "Argentina                                                19\n",
       "Algeria                                                  15\n",
       "Canada                                                   14\n",
       "Belarus                                                  13\n",
       "Philippines                                              13\n",
       "Tunisia                                                  13\n",
       "Poland                                                   13\n",
       "Chile                                                    13\n",
       "Republic of Korea                                        12\n",
       "Italy                                                    11\n",
       "Portugal                                                 10\n",
       "South Africa                                             10\n",
       "Australia                                                 9\n",
       "Singapore                                                 8\n",
       "Thailand                                                  8\n",
       "United Kingdom of Great Britain and Northern Ireland      8\n",
       "Israel                                                    7\n",
       "Czech Republic                                            7\n",
       "Hong Kong (S.A.R.)                                        7\n",
       "Greece                                                    6\n",
       "Romania                                                   6\n",
       "Sweden                                                    5\n",
       "Saudi Arabia                                              5\n",
       "Hungary                                                   5\n",
       "Malaysia                                                  5\n",
       "Switzerland                                               2\n",
       "Austria                                                   2\n",
       "Denmark                                                   1\n",
       "Netherlands                                               1\n",
       "Norway                                                    1\n",
       "New Zealand                                               1\n",
       "Belgium                                                   1\n",
       "Ireland                                                   1\n",
       "Name: Q3, dtype: int64"
      ]
     },
     "execution_count": 26,
     "metadata": {},
     "output_type": "execute_result"
    }
   ],
   "source": [
    "das = df_new[df_new['Q10_buckets'].str.contains('0-9,999')]\n",
    "das['Q3'].value_counts()"
   ]
  },
  {
   "cell_type": "code",
   "execution_count": 27,
   "metadata": {},
   "outputs": [],
   "source": [
    "# sorting the salary bucket\n",
    "salary_order = ['0-9,999',\n",
    "               '10,000-19,999',\n",
    "               '20,000-29,999',\n",
    "               '30,000-39,999',\n",
    "               '40,000-49,999',\n",
    "               '50,000-59,999',\n",
    "               '60,000-69,999',\n",
    "               '70,000-79,999',\n",
    "               '80,000-89,999',\n",
    "               '90,000-99,999',\n",
    "               '100,000-124,999',\n",
    "               '125,000-149,9991',\n",
    "               '150,000-199,999',\n",
    "               '200,000-249,999',\n",
    "               '>250,000']\n",
    "df = df_new.copy()\n",
    "df['Q10_buckets'] = pd.Categorical(df['Q10_buckets'], salary_order)"
   ]
  },
  {
   "cell_type": "code",
   "execution_count": 28,
   "metadata": {},
   "outputs": [
    {
     "data": {
      "text/plain": [
       "array(['30,000-39,999', '60,000-69,999', '10,000-14,999', '80,000-89,999',\n",
       "       '2,000-2,999', '70,000-79,999', '125,000-149,999', '$0-999',\n",
       "       '40,000-49,999', '20,000-24,999', '15,000-19,999',\n",
       "       '100,000-124,999', '90,000-99,999', '7,500-9,999',\n",
       "       '150,000-199,999', '25,000-29,999', '5,000-7,499', '3,000-3,999',\n",
       "       '50,000-59,999', '1,000-1,999', '4,000-4,999', '> $500,000',\n",
       "       '300,000-500,000', '200,000-249,999', '250,000-299,999'],\n",
       "      dtype=object)"
      ]
     },
     "execution_count": 28,
     "metadata": {},
     "output_type": "execute_result"
    }
   ],
   "source": [
    "df_new.Q10.unique()"
   ]
  },
  {
   "cell_type": "markdown",
   "metadata": {},
   "source": [
    "Now, if we look at the distribution of the salaries in two countries of United States of America and India, we are going to visualize the difference:"
   ]
  },
  {
   "cell_type": "code",
   "execution_count": 29,
   "metadata": {},
   "outputs": [
    {
     "name": "stderr",
     "output_type": "stream",
     "text": [
      "D:\\anaconda\\lib\\site-packages\\matplotlib\\figure.py:445: UserWarning:\n",
      "\n",
      "Matplotlib is currently using module://ipykernel.pylab.backend_inline, which is a non-GUI backend, so cannot show the figure.\n",
      "\n"
     ]
    },
    {
     "data": {
      "image/png": "[encoded data removed]",
      "text/plain": [
       "<Figure size 1368x288 with 2 Axes>"
      ]
     },
     "metadata": {
      "needs_background": "light"
     },
     "output_type": "display_data"
    }
   ],
   "source": [
    "fig, ax =plt.subplots(1,2, figsize=(19,4))\n",
    "us_data = df[df['Q3']==\"United States of America\"]\n",
    "sns.countplot(y='Q10_buckets',data = us_data, ax=ax[0])\n",
    "ax[0].set_xlabel(\"Count\",size=14,alpha=0.8)\n",
    "ax[0].set_ylabel(\"United States Salaries in US$\",size=14,alpha=0.8)\n",
    "fig.suptitle('United States-India Salary Distributions Comparaison', fontsize=14)\n",
    "india_data = df[df['Q3']==\"India\"]\n",
    "sns.countplot(y='Q10_buckets',data = india_data,ax=ax[1])\n",
    "ax[1].set_xlabel(\"Count\",size=14,alpha=.8)\n",
    "ax[1].set_ylabel(\"India Salaries in US$\",size=14,alpha=0.8)\n",
    "fig.show()"
   ]
  },
  {
   "cell_type": "markdown",
   "metadata": {},
   "source": [
    "Since almost half of the respondents are from US or India, we are going to do some analysis to see how different variables would contribute to the salary in those countries:"
   ]
  },
  {
   "cell_type": "markdown",
   "metadata": {},
   "source": [
    "### Effect of education in data scientists compensation in US and India:\n",
    "In this part we are going to examine whether having a higher education mainly leads to higher salary or not. "
   ]
  },
  {
   "cell_type": "code",
   "execution_count": 30,
   "metadata": {
    "scrolled": true
   },
   "outputs": [
    {
     "data": {
      "text/plain": [
       "array(['Master’s degree', 'Bachelor’s degree', 'Doctoral degree',\n",
       "       'Some college/university study without earning a bachelor’s degree',\n",
       "       'I prefer not to answer', 'Professional degree',\n",
       "       'No formal education past high school'], dtype=object)"
      ]
     },
     "execution_count": 30,
     "metadata": {},
     "output_type": "execute_result"
    }
   ],
   "source": [
    "df['Q4'].unique()"
   ]
  },
  {
   "cell_type": "code",
   "execution_count": 31,
   "metadata": {
    "scrolled": false
   },
   "outputs": [
    {
     "name": "stderr",
     "output_type": "stream",
     "text": [
      "D:\\anaconda\\lib\\site-packages\\ipykernel_launcher.py:6: SettingWithCopyWarning:\n",
      "\n",
      "\n",
      "A value is trying to be set on a copy of a slice from a DataFrame.\n",
      "Try using .loc[row_indexer,col_indexer] = value instead\n",
      "\n",
      "See the caveats in the documentation: http://pandas.pydata.org/pandas-docs/stable/indexing.html#indexing-view-versus-copy\n",
      "\n"
     ]
    },
    {
     "data": {
      "image/png": "[encoded data removed]",
      "text/plain": [
       "<Figure size 1080x720 with 1 Axes>"
      ]
     },
     "metadata": {
      "needs_background": "light"
     },
     "output_type": "display_data"
    }
   ],
   "source": [
    "data1 = df[df['Q4']!= \"I prefer not to answer\"]\n",
    "data2 = data1[data1['Q4']!=\"No formal education past high school\"]\n",
    "data3 = data2[data2['Q4']!=\"Professional degree\"]\n",
    "data4 = data3[data3['Q4']!=\"Some college/university study without earning a bachelor’s degree\"]\n",
    "exp_ordered = ['Bachelor’s degree','Master’s degree','Doctoral degree']\n",
    "data4['Q4'] = pd.Categorical(data4['Q4'], exp_ordered)\n",
    "\n",
    "us_data = data4[data4['Q3']==\"United States of America\"]\n",
    "j = sns.countplot(y='Q10_buckets',data = us_data, hue='Q4')\n",
    "j.set_xlabel(\"Count\",size=14,alpha=0.8)\n",
    "j.set_ylabel(\"United States Salaries in US$\",size=14,alpha=0.8)\n",
    "fig = plt.gcf()\n",
    "fig.set_size_inches( 15, 10)\n",
    "\n"
   ]
  },
  {
   "cell_type": "markdown",
   "metadata": {},
   "source": [
    "As we can see, mainly when a participant have a higher educational level, he/she tend to be in a higher bucket of salary. The number of participants with doctoral education in the salary buckets of 90000-99999 and above is more than the lower ones. Also, for the last bucket (more than 250k) a great number of respondents have a doctoral degree. This would help us realize that in the United States as the education level improves the salary of the data scientists tend to increase too. However, let us look at the data frame for India to see whether we have the same result or not?"
   ]
  },
  {
   "cell_type": "code",
   "execution_count": 32,
   "metadata": {
    "scrolled": false
   },
   "outputs": [
    {
     "data": {
      "image/png": "[encoded data removed]",
      "text/plain": [
       "<Figure size 1080x720 with 1 Axes>"
      ]
     },
     "metadata": {
      "needs_background": "light"
     },
     "output_type": "display_data"
    }
   ],
   "source": [
    "india_data = data4[data4['Q3']==\"India\"]\n",
    "z = sns.countplot(y='Q10_buckets',data = india_data, hue='Q4')\n",
    "z.set_xlabel(\"Count\",size=14,alpha=0.8)\n",
    "z.set_ylabel(\"India Salaries in US$\",size=14,alpha=0.8)\n",
    "fig = plt.gcf()\n",
    "fig.set_size_inches( 15, 10)"
   ]
  },
  {
   "cell_type": "markdown",
   "metadata": {},
   "source": [
    "What we interpret from the upper chart is that we do not have the same pattern of United States in India. First we realize that the greatest number of respondents have a low salary bucket of 0-9999 dollars. As it was mentioned before, it might be due to a weaker currency value of India compared to US. Also, the average salary in India is much lowe than what we see in the US. Second, we are realizing that educational level in India would not contribute to a higher salary as we can see even in a higher salary buckets (e.g. more than 250k) the number of participant with bachelor's or master's is still higher than those with doctoral level. We are interested to know that having an experience in coding would contribute to a higher level of salary or not: "
   ]
  },
  {
   "cell_type": "code",
   "execution_count": 33,
   "metadata": {},
   "outputs": [
    {
     "data": {
      "text/plain": [
       "array(['1-2 years', '20+ years', '3-5 years', '5-10 years', '10-20 years',\n",
       "       '< 1 years'], dtype=object)"
      ]
     },
     "execution_count": 33,
     "metadata": {},
     "output_type": "execute_result"
    }
   ],
   "source": [
    "df_new[\"Q15\"].unique()"
   ]
  },
  {
   "cell_type": "code",
   "execution_count": 34,
   "metadata": {},
   "outputs": [
    {
     "data": {
      "image/png": "[encoded data removed]",
      "text/plain": [
       "<Figure size 1080x720 with 1 Axes>"
      ]
     },
     "metadata": {
      "needs_background": "light"
     },
     "output_type": "display_data"
    }
   ],
   "source": [
    "\n",
    "j = sns.countplot(y='Q10_buckets',data = df, hue='Q15')\n",
    "j.set_xlabel(\"Count\",size=14,alpha=0.8)\n",
    "j.set_ylabel(\"Data scientits Salaries in US$\",size=14,alpha=0.8)\n",
    "fig = plt.gcf()\n",
    "fig.set_size_inches( 15, 10)"
   ]
  },
  {
   "cell_type": "markdown",
   "metadata": {},
   "source": [
    "We can see that as the years of experience in coding increases, the data scientists would earn more and more salary. This result is for all of the countries in our data frame. Therefore, it might not follow a definite trend but if we look at the data set of United States for instance, we can see that the more experience a data scientist have in coding the higher salary he or she would get:"
   ]
  },
  {
   "cell_type": "code",
   "execution_count": 35,
   "metadata": {},
   "outputs": [
    {
     "data": {
      "text/plain": [
       "array(['1-2 years', '20+ years', '3-5 years', '5-10 years', '10-20 years',\n",
       "       '< 1 years'], dtype=object)"
      ]
     },
     "execution_count": 35,
     "metadata": {},
     "output_type": "execute_result"
    }
   ],
   "source": [
    "df['Q15'].unique()"
   ]
  },
  {
   "cell_type": "code",
   "execution_count": 36,
   "metadata": {
    "scrolled": true
   },
   "outputs": [
    {
     "data": {
      "image/png": "[encoded data removed]",
      "text/plain": [
       "<Figure size 1080x720 with 1 Axes>"
      ]
     },
     "metadata": {
      "needs_background": "light"
     },
     "output_type": "display_data"
    }
   ],
   "source": [
    "# sorting the salary bucket\n",
    "experience_order = ['< 1 years',\n",
    "               '1-2 years',\n",
    "               '3-5 years',\n",
    "               '5-10 years',\n",
    "               '10-20 years',\n",
    "               '20+ years']\n",
    "df_ex = df.copy()\n",
    "df_ex['Q15'] = pd.Categorical(df_ex['Q15'], experience_order)\n",
    "us_data = df_ex[df_ex['Q3']== 'United States of America']\n",
    "j = sns.countplot(y='Q10_buckets',data = us_data, hue='Q15')\n",
    "j.set_xlabel(\"Count\",size=14,alpha=0.8)\n",
    "j.set_ylabel(\"United States Salaries in US$\",size=14,alpha=0.8)\n",
    "fig = plt.gcf()\n",
    "fig.set_size_inches( 15, 10)"
   ]
  },
  {
   "cell_type": "markdown",
   "metadata": {},
   "source": [
    "From the chart show above, it can be interpreted that by having more coding experience; data scientist would able to earn higher salaries, which seems logical. Even in some salary buckets in the United States, we do not have any data scientist with high coding experience. In the following part of this assignment, we want to see what is the relationship between the primary tool that is used by respondents and coding experience to analyze data:"
   ]
  },
  {
   "cell_type": "code",
   "execution_count": 37,
   "metadata": {},
   "outputs": [
    {
     "data": {
      "text/plain": [
       "<matplotlib.legend.Legend at 0xd62b8b0b8>"
      ]
     },
     "execution_count": 37,
     "metadata": {},
     "output_type": "execute_result"
    },
    {
     "data": {
      "image/png": "[encoded data removed]",
      "text/plain": [
       "<Figure size 936x432 with 1 Axes>"
      ]
     },
     "metadata": {
      "needs_background": "light"
     },
     "output_type": "display_data"
    }
   ],
   "source": [
    "exp_ordered = ['< 1 year','1-2 years','2-3 years','3-4 years','4-5 years','5-10 years','10-15 years',\"20+ years\"]\n",
    "df['Q23'] = pd.Categorical(df['Q23'], exp_ordered)\n",
    "ax = df.groupby(['Q23','Q14']).size().unstack().plot(kind='bar',stacked=True,figsize=(13, 6))\n",
    "ax.set_xlabel('Years of experience coding for data analysis')\n",
    "ax.set_ylabel('Count')\n",
    "ax.set_title('Primary tool that you use at work or school to analyze data')\n",
    "ax.legend(loc='upper right', frameon=False)"
   ]
  },
  {
   "cell_type": "markdown",
   "metadata": {},
   "source": [
    "As we can see, the majority of the primary tool to analyze data is local development environments. We can see that as the years of experience increases, respondents tend not to use basic statistical software such as Excel as first years of experience. However, the importance of cloud-based data software and APIs is still a primary tool (By taken into account that the total area of the bars is also decreasing)"
   ]
  },
  {
   "cell_type": "markdown",
   "metadata": {},
   "source": [
    "Before starting to encode our data frame, I am interested to know whether man have a greater salary than women do. Based on [1], there is a difference salary of data scientists in the world. To better analyze this hypothesis we are going to consider two countries that have the biggest contribution to our data frame, meaning India and USA. We are going to perform a hypothesis test on the mean salary for both gender types. We are using the average of each salary bucket as a representor of that bucket: The reason we are choosing the countries to perform our hypothesis test is that we want to minimize the error associated with different countries salaries."
   ]
  },
  {
   "cell_type": "code",
   "execution_count": 38,
   "metadata": {
    "scrolled": true
   },
   "outputs": [],
   "source": [
    "salary_int = {   '0-9,999': 5000,\n",
    "    '10,000-19,999': 15000,\n",
    "    '20,000-29,999': 25000, \n",
    "    '30,000-39,999': 35000,\n",
    "    '40,000-49,999': 45000,\n",
    "    '50,000-59,999': 55000, \n",
    "    '60,000-69,999': 65000,\n",
    "    '70,000-79,999': 75000,\n",
    "    '80,000-89,999': 85000, \n",
    "    '90,000-99,999': 95000,\n",
    "    '100,000-124,999': 112500,\n",
    "    '125,000-149,9991':137500, \n",
    "    '150,000-199,999': 175000, \n",
    "    '200,000-249,999': 225000,\n",
    "    '>250,000': 300000}\n"
   ]
  },
  {
   "cell_type": "code",
   "execution_count": 39,
   "metadata": {},
   "outputs": [
    {
     "data": {
      "text/plain": [
       "array([    nan,  65000.,  15000.,  85000.,   5000.,  75000., 137500.,\n",
       "        45000.,  25000., 112500.,  95000., 175000.,  55000.,  35000.,\n",
       "       300000., 225000.])"
      ]
     },
     "execution_count": 39,
     "metadata": {},
     "output_type": "execute_result"
    }
   ],
   "source": [
    "df.loc[0:,'salary_int'] = df.loc[0:,'Q10_buckets'].map(salary_int)\n",
    "df.loc[0:,'salary_int']=df.loc[1:,'salary_int'].astype(int)\n",
    "df.salary_int.unique()\n",
    "\n"
   ]
  },
  {
   "cell_type": "code",
   "execution_count": 40,
   "metadata": {},
   "outputs": [],
   "source": [
    "us_data = df[df['Q3']==\"United States of America\"]\n",
    "india_data = df[df['Q3']==\"India\"]\n"
   ]
  },
  {
   "cell_type": "code",
   "execution_count": 41,
   "metadata": {},
   "outputs": [
    {
     "data": {
      "text/plain": [
       "127794.52054794521"
      ]
     },
     "execution_count": 41,
     "metadata": {},
     "output_type": "execute_result"
    }
   ],
   "source": [
    "us_data[us_data['Q2']=='Male']['salary_int'].mean()"
   ]
  },
  {
   "cell_type": "code",
   "execution_count": 42,
   "metadata": {
    "scrolled": true
   },
   "outputs": [
    {
     "data": {
      "text/plain": [
       "107436.17021276595"
      ]
     },
     "execution_count": 42,
     "metadata": {},
     "output_type": "execute_result"
    }
   ],
   "source": [
    "us_data[us_data['Q2']=='Female']['salary_int'].mean()"
   ]
  },
  {
   "cell_type": "code",
   "execution_count": 43,
   "metadata": {},
   "outputs": [
    {
     "name": "stdout",
     "output_type": "stream",
     "text": [
      "t-test: t = -4.37416  p = 1.31433e-05\n"
     ]
    }
   ],
   "source": [
    "from scipy import stats\n",
    "Female_salary = us_data[us_data['Q2']=='Female']['salary_int']\n",
    "Male_salary = us_data[us_data['Q2']=='Male']['salary_int']\n",
    "tc1, pc1 = stats.ttest_ind(Female_salary, Male_salary)\n",
    "print (\"t-test: t = %g  p = %g\" % (tc1, pc1))"
   ]
  },
  {
   "cell_type": "markdown",
   "metadata": {},
   "source": [
    "As we calculated above, salary of male in United States is about 128000 dollars and salary of female data scientists is about 107000 dollars. After performing t-test we can realize that since p-value is very close to 0 (0.00149102) and less than 0.05, the difference is significant. Therefore, we can conclude that men are paid more than female in US. However, in this comparison we excluded other factors such as years of experience, job title, etc. Same as US, in India there is significant difference in annual compensation of data scientist:"
   ]
  },
  {
   "cell_type": "code",
   "execution_count": 44,
   "metadata": {},
   "outputs": [
    {
     "data": {
      "text/plain": [
       "21249.010292953284"
      ]
     },
     "execution_count": 44,
     "metadata": {},
     "output_type": "execute_result"
    }
   ],
   "source": [
    "india_data[india_data['Q2']=='Male']['salary_int'].mean()"
   ]
  },
  {
   "cell_type": "code",
   "execution_count": 45,
   "metadata": {},
   "outputs": [
    {
     "data": {
      "text/plain": [
       "12827.225130890052"
      ]
     },
     "execution_count": 45,
     "metadata": {},
     "output_type": "execute_result"
    }
   ],
   "source": [
    "india_data[india_data['Q2']=='Female']['salary_int'].mean()"
   ]
  },
  {
   "cell_type": "code",
   "execution_count": 46,
   "metadata": {},
   "outputs": [
    {
     "name": "stdout",
     "output_type": "stream",
     "text": [
      "t-test: t = -3.21339  p = 0.00134061\n"
     ]
    }
   ],
   "source": [
    "Female_salary = india_data[india_data['Q2']=='Female']['salary_int']\n",
    "Male_salary = india_data[india_data['Q2']=='Male']['salary_int']\n",
    "tc1, pc1 = stats.ttest_ind(Female_salary, Male_salary)\n",
    "print (\"t-test: t = %g  p = %g\" % (tc1, pc1))"
   ]
  },
  {
   "cell_type": "markdown",
   "metadata": {},
   "source": [
    "We are also going to perform Bootstrap with replacement for only US data frame "
   ]
  },
  {
   "cell_type": "code",
   "execution_count": 47,
   "metadata": {},
   "outputs": [],
   "source": [
    "female_salary_values = np.array(us_data[us_data['Q2']=='Female']['salary_int'].values)\n",
    "male_salary_values = np.array(us_data[us_data['Q2']=='Male']['salary_int'].values)"
   ]
  },
  {
   "cell_type": "code",
   "execution_count": 48,
   "metadata": {},
   "outputs": [],
   "source": [
    "n = 1000\n",
    "m = 10000\n",
    "Nf = len(female_salary_values)\n",
    "Nm = len(male_salary_values)\n",
    "female_average_salary = []\n",
    "male_average_salary = []\n",
    "for i in range(m):\n",
    "    female_average_salary.append(np.mean(female_salary_values[np.random.randint(Nf, size=n)]))\n",
    "    male_average_salary.append(np.mean(male_salary_values[np.random.randint(Nm, size=n)]))"
   ]
  },
  {
   "cell_type": "code",
   "execution_count": 49,
   "metadata": {},
   "outputs": [],
   "source": [
    "x_min = min(np.min(female_average_salary),np.min(male_average_salary))\n",
    "x_max = max(np.max(female_average_salary),np.max(male_average_salary))"
   ]
  },
  {
   "cell_type": "code",
   "execution_count": 50,
   "metadata": {},
   "outputs": [
    {
     "data": {
      "image/png": "[encoded data removed]",
      "text/plain": [
       "<Figure size 432x288 with 1 Axes>"
      ]
     },
     "metadata": {
      "needs_background": "light"
     },
     "output_type": "display_data"
    }
   ],
   "source": [
    "x = female_average_salary\n",
    "y = male_average_salary\n",
    "\n",
    "bins = np.linspace(x_min, x_max, 100)\n",
    "\n",
    "plt.hist(x, bins, alpha=0.5, label=\"Female\")\n",
    "plt.hist(y, bins, alpha=0.5, label=\"Male\")\n",
    "#pyplot.legend(loc='upper right')\n",
    "plt.legend(loc='best')\n",
    "plt.title('Average annual salary in \\$USD')\n",
    "plt.show()"
   ]
  },
  {
   "cell_type": "markdown",
   "metadata": {},
   "source": [
    "We can easily understand that there is a significant difference between male and female's average salary"
   ]
  },
  {
   "cell_type": "markdown",
   "metadata": {},
   "source": [
    "## 2.2 Encoding the data frame\n",
    "In this part of the assignment, we are going to encode our variables. We did some part of the encoding for multiple-choice question in the previous parts and made them binary (if the respondent answer to that question, variable is 1, and if did not answer to that question 0). However, for the other features, such as age, country, etc. we need to figure out a possible approach to encode our data frame:\n"
   ]
  },
  {
   "cell_type": "code",
   "execution_count": 51,
   "metadata": {},
   "outputs": [],
   "source": [
    "# First we are going to drop the first column which represent the time to answer the survey. \n",
    "df_new = df_new.drop(df_new.columns[0], axis=1)\n",
    "#df_new.to_csv(r\"C:\\Users\\ITSLab\\Desktop\\Yaser\\ENCODE.csv\")"
   ]
  },
  {
   "cell_type": "code",
   "execution_count": 52,
   "metadata": {
    "scrolled": true
   },
   "outputs": [
    {
     "data": {
      "text/html": [
       "<div>\n",
       "<style scoped>\n",
       "    .dataframe tbody tr th:only-of-type {\n",
       "        vertical-align: middle;\n",
       "    }\n",
       "\n",
       "    .dataframe tbody tr th {\n",
       "        vertical-align: top;\n",
       "    }\n",
       "\n",
       "    .dataframe thead th {\n",
       "        text-align: right;\n",
       "    }\n",
       "</style>\n",
       "<table border=\"1\" class=\"dataframe\">\n",
       "  <thead>\n",
       "    <tr style=\"text-align: right;\">\n",
       "      <th></th>\n",
       "      <th>Q1</th>\n",
       "      <th>Q2</th>\n",
       "      <th>Q3</th>\n",
       "      <th>Q4</th>\n",
       "      <th>Q5</th>\n",
       "      <th>Q6</th>\n",
       "      <th>Q7</th>\n",
       "      <th>Q8</th>\n",
       "      <th>Q9_Part_1</th>\n",
       "      <th>Q9_Part_2</th>\n",
       "      <th>...</th>\n",
       "      <th>Q31_Part_4</th>\n",
       "      <th>Q31_Part_5</th>\n",
       "      <th>Q31_Part_6</th>\n",
       "      <th>Q31_Part_7</th>\n",
       "      <th>Q31_Part_8</th>\n",
       "      <th>Q31_Part_9</th>\n",
       "      <th>Q31_Part_10</th>\n",
       "      <th>Q31_Part_12</th>\n",
       "      <th>Q10_Encoded</th>\n",
       "      <th>Q10_buckets</th>\n",
       "    </tr>\n",
       "  </thead>\n",
       "  <tbody>\n",
       "    <tr>\n",
       "      <th>0</th>\n",
       "      <td>22-24</td>\n",
       "      <td>Male</td>\n",
       "      <td>France</td>\n",
       "      <td>Master’s degree</td>\n",
       "      <td>Software Engineer</td>\n",
       "      <td>1000-9,999 employees</td>\n",
       "      <td>0</td>\n",
       "      <td>I do not know</td>\n",
       "      <td>0</td>\n",
       "      <td>0</td>\n",
       "      <td>...</td>\n",
       "      <td>0</td>\n",
       "      <td>0</td>\n",
       "      <td>0</td>\n",
       "      <td>0</td>\n",
       "      <td>0</td>\n",
       "      <td>0</td>\n",
       "      <td>0</td>\n",
       "      <td>0</td>\n",
       "      <td>3</td>\n",
       "      <td>30,000-39,999</td>\n",
       "    </tr>\n",
       "    <tr>\n",
       "      <th>4</th>\n",
       "      <td>50-54</td>\n",
       "      <td>Male</td>\n",
       "      <td>France</td>\n",
       "      <td>Master’s degree</td>\n",
       "      <td>Data Scientist</td>\n",
       "      <td>0-49 employees</td>\n",
       "      <td>04-Mar</td>\n",
       "      <td>We have well established ML methods (i.e., mod...</td>\n",
       "      <td>0</td>\n",
       "      <td>0</td>\n",
       "      <td>...</td>\n",
       "      <td>1</td>\n",
       "      <td>0</td>\n",
       "      <td>0</td>\n",
       "      <td>0</td>\n",
       "      <td>0</td>\n",
       "      <td>0</td>\n",
       "      <td>0</td>\n",
       "      <td>0</td>\n",
       "      <td>6</td>\n",
       "      <td>60,000-69,999</td>\n",
       "    </tr>\n",
       "    <tr>\n",
       "      <th>5</th>\n",
       "      <td>22-24</td>\n",
       "      <td>Male</td>\n",
       "      <td>India</td>\n",
       "      <td>Master’s degree</td>\n",
       "      <td>Data Scientist</td>\n",
       "      <td>50-249 employees</td>\n",
       "      <td>20+</td>\n",
       "      <td>We are exploring ML methods (and may one day p...</td>\n",
       "      <td>1</td>\n",
       "      <td>0</td>\n",
       "      <td>...</td>\n",
       "      <td>0</td>\n",
       "      <td>0</td>\n",
       "      <td>0</td>\n",
       "      <td>0</td>\n",
       "      <td>0</td>\n",
       "      <td>0</td>\n",
       "      <td>0</td>\n",
       "      <td>0</td>\n",
       "      <td>1</td>\n",
       "      <td>10,000-19,999</td>\n",
       "    </tr>\n",
       "    <tr>\n",
       "      <th>6</th>\n",
       "      <td>22-24</td>\n",
       "      <td>Female</td>\n",
       "      <td>United States of America</td>\n",
       "      <td>Bachelor’s degree</td>\n",
       "      <td>Data Scientist</td>\n",
       "      <td>&gt; 10,000 employees</td>\n",
       "      <td>20+</td>\n",
       "      <td>We recently started using ML methods (i.e., mo...</td>\n",
       "      <td>1</td>\n",
       "      <td>0</td>\n",
       "      <td>...</td>\n",
       "      <td>0</td>\n",
       "      <td>0</td>\n",
       "      <td>0</td>\n",
       "      <td>0</td>\n",
       "      <td>0</td>\n",
       "      <td>0</td>\n",
       "      <td>0</td>\n",
       "      <td>0</td>\n",
       "      <td>8</td>\n",
       "      <td>80,000-89,999</td>\n",
       "    </tr>\n",
       "    <tr>\n",
       "      <th>8</th>\n",
       "      <td>30-34</td>\n",
       "      <td>Male</td>\n",
       "      <td>Germany</td>\n",
       "      <td>Master’s degree</td>\n",
       "      <td>Statistician</td>\n",
       "      <td>0-49 employees</td>\n",
       "      <td>09-May</td>\n",
       "      <td>We recently started using ML methods (i.e., mo...</td>\n",
       "      <td>1</td>\n",
       "      <td>0</td>\n",
       "      <td>...</td>\n",
       "      <td>0</td>\n",
       "      <td>0</td>\n",
       "      <td>0</td>\n",
       "      <td>1</td>\n",
       "      <td>0</td>\n",
       "      <td>0</td>\n",
       "      <td>0</td>\n",
       "      <td>0</td>\n",
       "      <td>0</td>\n",
       "      <td>0-9,999</td>\n",
       "    </tr>\n",
       "  </tbody>\n",
       "</table>\n",
       "<p>5 rows × 62 columns</p>\n",
       "</div>"
      ],
      "text/plain": [
       "      Q1      Q2                        Q3                 Q4  \\\n",
       "0  22-24    Male                    France    Master’s degree   \n",
       "4  50-54    Male                    France    Master’s degree   \n",
       "5  22-24    Male                     India    Master’s degree   \n",
       "6  22-24  Female  United States of America  Bachelor’s degree   \n",
       "8  30-34    Male                   Germany    Master’s degree   \n",
       "\n",
       "                  Q5                    Q6      Q7  \\\n",
       "0  Software Engineer  1000-9,999 employees       0   \n",
       "4     Data Scientist        0-49 employees  04-Mar   \n",
       "5     Data Scientist      50-249 employees     20+   \n",
       "6     Data Scientist    > 10,000 employees     20+   \n",
       "8       Statistician        0-49 employees  09-May   \n",
       "\n",
       "                                                  Q8  Q9_Part_1  Q9_Part_2  \\\n",
       "0                                      I do not know          0          0   \n",
       "4  We have well established ML methods (i.e., mod...          0          0   \n",
       "5  We are exploring ML methods (and may one day p...          1          0   \n",
       "6  We recently started using ML methods (i.e., mo...          1          0   \n",
       "8  We recently started using ML methods (i.e., mo...          1          0   \n",
       "\n",
       "       ...        Q31_Part_4  Q31_Part_5  Q31_Part_6  Q31_Part_7  Q31_Part_8  \\\n",
       "0      ...                 0           0           0           0           0   \n",
       "4      ...                 1           0           0           0           0   \n",
       "5      ...                 0           0           0           0           0   \n",
       "6      ...                 0           0           0           0           0   \n",
       "8      ...                 0           0           0           1           0   \n",
       "\n",
       "   Q31_Part_9 Q31_Part_10 Q31_Part_12 Q10_Encoded    Q10_buckets  \n",
       "0           0           0           0           3  30,000-39,999  \n",
       "4           0           0           0           6  60,000-69,999  \n",
       "5           0           0           0           1  10,000-19,999  \n",
       "6           0           0           0           8  80,000-89,999  \n",
       "8           0           0           0           0        0-9,999  \n",
       "\n",
       "[5 rows x 62 columns]"
      ]
     },
     "execution_count": 52,
     "metadata": {},
     "output_type": "execute_result"
    }
   ],
   "source": [
    "df_new.head()"
   ]
  },
  {
   "cell_type": "markdown",
   "metadata": {},
   "source": [
    "Before getting to encode our data frame, we want to make sure that we do not have any missing values. Therefore:\n"
   ]
  },
  {
   "cell_type": "code",
   "execution_count": 53,
   "metadata": {
    "scrolled": true
   },
   "outputs": [
    {
     "data": {
      "text/plain": [
       "Q1             0\n",
       "Q2             0\n",
       "Q3             0\n",
       "Q4             0\n",
       "Q5             0\n",
       "Q6             0\n",
       "Q7             0\n",
       "Q8             0\n",
       "Q9_Part_1      0\n",
       "Q9_Part_2      0\n",
       "Q9_Part_3      0\n",
       "Q9_Part_4      0\n",
       "Q9_Part_5      0\n",
       "Q9_Part_6      0\n",
       "Q9_Part_7      0\n",
       "Q9_Part_8      0\n",
       "Q10            0\n",
       "Q11            0\n",
       "Q14            0\n",
       "Q15            0\n",
       "Q18_Part_1     0\n",
       "Q18_Part_2     0\n",
       "Q18_Part_3     0\n",
       "Q18_Part_4     0\n",
       "Q18_Part_5     0\n",
       "Q18_Part_6     0\n",
       "Q18_Part_7     0\n",
       "Q18_Part_8     0\n",
       "Q18_Part_9     0\n",
       "Q18_Part_10    0\n",
       "              ..\n",
       "Q23            0\n",
       "Q24_Part_1     0\n",
       "Q24_Part_2     0\n",
       "Q24_Part_3     0\n",
       "Q24_Part_4     0\n",
       "Q24_Part_5     0\n",
       "Q24_Part_6     0\n",
       "Q24_Part_7     0\n",
       "Q24_Part_8     0\n",
       "Q24_Part_9     0\n",
       "Q24_Part_10    0\n",
       "Q24_Part_12    0\n",
       "Q27_Part_1     0\n",
       "Q27_Part_2     0\n",
       "Q27_Part_3     0\n",
       "Q27_Part_4     0\n",
       "Q27_Part_6     0\n",
       "Q31_Part_1     0\n",
       "Q31_Part_2     0\n",
       "Q31_Part_3     0\n",
       "Q31_Part_4     0\n",
       "Q31_Part_5     0\n",
       "Q31_Part_6     0\n",
       "Q31_Part_7     0\n",
       "Q31_Part_8     0\n",
       "Q31_Part_9     0\n",
       "Q31_Part_10    0\n",
       "Q31_Part_12    0\n",
       "Q10_Encoded    0\n",
       "Q10_buckets    0\n",
       "Length: 62, dtype: int64"
      ]
     },
     "execution_count": 53,
     "metadata": {},
     "output_type": "execute_result"
    }
   ],
   "source": [
    "df_new.isnull().sum()\n"
   ]
  },
  {
   "cell_type": "markdown",
   "metadata": {},
   "source": [
    "It seems that we do not have any missing values in our data set and it is a complete data frame."
   ]
  },
  {
   "cell_type": "code",
   "execution_count": 54,
   "metadata": {},
   "outputs": [
    {
     "data": {
      "text/plain": [
       "array(['22-24', '50-54', '30-34', '18-21', '25-29', '40-44', '35-39',\n",
       "       '45-49', '60-69', '55-59', '70+'], dtype=object)"
      ]
     },
     "execution_count": 54,
     "metadata": {},
     "output_type": "execute_result"
    }
   ],
   "source": [
    "df_new[\"Q1\"].unique()"
   ]
  },
  {
   "cell_type": "markdown",
   "metadata": {},
   "source": [
    "For this encoding we want to distinguish between the ages of each respondent, therefore instead of using ordinarily encoding from 0, we will use the average of age as encode. Our reasoning is that we want to show the differences between each range of age."
   ]
  },
  {
   "cell_type": "code",
   "execution_count": 55,
   "metadata": {},
   "outputs": [
    {
     "data": {
      "text/plain": [
       "array([23, 52, 32, 19, 27, 42, 37, 47, 65, 57, 80], dtype=int64)"
      ]
     },
     "execution_count": 55,
     "metadata": {},
     "output_type": "execute_result"
    }
   ],
   "source": [
    "df_new['Q1']=df_new['Q1'].map({'22-24': 23,'18-21':19,'25-29':27,'30-34':32,'35-39':37,'40-44':42,'45-49':47,'50-54':52,'55-59':57,'60-69':65,'70+':80})\n",
    "df_new.Q1.unique()"
   ]
  },
  {
   "cell_type": "code",
   "execution_count": 56,
   "metadata": {},
   "outputs": [
    {
     "name": "stdout",
     "output_type": "stream",
     "text": [
      "0\n",
      "Male      6715\n",
      "Female    1110\n",
      "Name: Q2, dtype: int64\n"
     ]
    }
   ],
   "source": [
    "#Q2: We need to make the gender binary number\n",
    "print(df_new.Q2.isnull().sum())\n",
    "print(df_new['Q2'].value_counts())\n",
    "# Create dummy features for each categorical feature\n",
    "dummies_gender = pd.get_dummies(df_new['Q2'], prefix='Q2')\n",
    "# Add the new features to the dataframe via concating\n",
    "df_new = pd.concat([df_new, dummies_gender], axis=1)\n",
    "# Drop the original categorical feature columns\n",
    "df_new = df_new.drop(['Q2'],axis=1)\n",
    "# Drop one of each of the dummy variables because its value is implied by the other dummy variable columns\n",
    "df_new = df_new.drop(['Q2_Male'],axis=1)"
   ]
  },
  {
   "cell_type": "markdown",
   "metadata": {},
   "source": [
    "For the countries using ordinarily encoding does not make sense because it means nothing if we say for instance, USA is better than India if we encode it in a higher number. Thus, we will make them as a dummy variables."
   ]
  },
  {
   "cell_type": "code",
   "execution_count": 57,
   "metadata": {},
   "outputs": [
    {
     "name": "stdout",
     "output_type": "stream",
     "text": [
      "0\n",
      "59\n",
      "India                                                   1454\n",
      "United States of America                                1330\n",
      "Other                                                    408\n",
      "Brazil                                                   355\n",
      "Japan                                                    298\n",
      "Russia                                                   288\n",
      "Germany                                                  246\n",
      "United Kingdom of Great Britain and Northern Ireland     219\n",
      "Spain                                                    204\n",
      "France                                                   188\n",
      "Canada                                                   179\n",
      "China                                                    155\n",
      "Nigeria                                                  125\n",
      "Italy                                                    125\n",
      "Australia                                                111\n",
      "Turkey                                                   106\n",
      "Taiwan                                                   105\n",
      "Poland                                                   104\n",
      "Ukraine                                                   95\n",
      "Mexico                                                    94\n",
      "Colombia                                                  91\n",
      "Pakistan                                                  86\n",
      "Indonesia                                                 79\n",
      "Netherlands                                               75\n",
      "South Korea                                               71\n",
      "Argentina                                                 69\n",
      "Singapore                                                 63\n",
      "Portugal                                                  54\n",
      "Israel                                                    52\n",
      "South Africa                                              50\n",
      "Sweden                                                    49\n",
      "Chile                                                     49\n",
      "Viet Nam                                                  48\n",
      "Switzerland                                               46\n",
      "Kenya                                                     43\n",
      "Iran, Islamic Republic of...                              41\n",
      "Greece                                                    38\n",
      "Bangladesh                                                37\n",
      "Romania                                                   37\n",
      "Morocco                                                   36\n",
      "Belgium                                                   36\n",
      "Belarus                                                   34\n",
      "Peru                                                      33\n",
      "Hungary                                                   32\n",
      "Austria                                                   30\n",
      "Egypt                                                     30\n",
      "Thailand                                                  30\n",
      "Hong Kong (S.A.R.)                                        30\n",
      "Ireland                                                   28\n",
      "Norway                                                    27\n",
      "Czech Republic                                            26\n",
      "Denmark                                                   25\n",
      "New Zealand                                               25\n",
      "Philippines                                               24\n",
      "Saudi Arabia                                              24\n",
      "Malaysia                                                  24\n",
      "Republic of Korea                                         24\n",
      "Tunisia                                                   20\n",
      "Algeria                                                   20\n",
      "Name: Q3, dtype: int64\n"
     ]
    }
   ],
   "source": [
    "#Q3: Country. Nominal variable so one hot encode through dummies. \n",
    "print(df_new.Q3.isnull().sum())\n",
    "print(df_new.Q3.nunique())\n",
    "print(df_new['Q3'].value_counts())\n",
    "# Create dummy features for each categorical feature\n",
    "dummies_employer = pd.get_dummies(df_new['Q3'], prefix='Q3')\n",
    "# Add the new features to the dataframe via concating\n",
    "df_new = pd.concat([df_new, dummies_employer], axis=1)\n",
    "# Drop the original categorical feature columns\n",
    "df_new = df_new.drop(['Q3'],axis=1)\n",
    "# Drop one of each of the dummy variables because its value is implied by the other dummy variable columns\n",
    "df_new = df_new.drop(['Q3_United States of America'],axis=1)"
   ]
  },
  {
   "cell_type": "markdown",
   "metadata": {},
   "source": [
    "#### For encoding the educational background we know that as the level of education increases it is superior to the lower education levels. For instance, having a master's degree is better than only having bachelors. However, since we cannot distinguish this difference with numbers, we only use ordinal numbers from 0 to 6"
   ]
  },
  {
   "cell_type": "code",
   "execution_count": 58,
   "metadata": {},
   "outputs": [
    {
     "data": {
      "text/plain": [
       "array(['Master’s degree', 'Bachelor’s degree', 'Doctoral degree',\n",
       "       'Some college/university study without earning a bachelor’s degree',\n",
       "       'I prefer not to answer', 'Professional degree',\n",
       "       'No formal education past high school'], dtype=object)"
      ]
     },
     "execution_count": 58,
     "metadata": {},
     "output_type": "execute_result"
    }
   ],
   "source": [
    "df_new['Q4'].unique()"
   ]
  },
  {
   "cell_type": "code",
   "execution_count": 59,
   "metadata": {
    "scrolled": false
   },
   "outputs": [
    {
     "name": "stdout",
     "output_type": "stream",
     "text": [
      "0\n",
      "Master’s degree                                                      3724\n",
      "Bachelor’s degree                                                    2050\n",
      "Doctoral degree                                                      1427\n",
      "Professional degree                                                   255\n",
      "Some college/university study without earning a bachelor’s degree     218\n",
      "I prefer not to answer                                                 83\n",
      "No formal education past high school                                   68\n",
      "Name: Q4, dtype: int64\n",
      "5    3724\n",
      "4    2050\n",
      "6    1427\n",
      "3     255\n",
      "2     218\n",
      "0      83\n",
      "1      68\n",
      "Name: Q4, dtype: int64\n"
     ]
    }
   ],
   "source": [
    "#Q4: Education.\n",
    "print(df_new.Q4.isnull().sum())\n",
    "print(df_new['Q4'].value_counts())\n",
    "\n",
    "def labelby_order_Q4(x):\n",
    "        if 'I prefer not to answer' in x:\n",
    "            return 0\n",
    "        elif 'No formal education past high school' in x:\n",
    "            return 1\n",
    "        elif 'Some college/university study without earning a bachelor’s degree' in x:\n",
    "            return 2\n",
    "        elif 'Professional degree' in x:\n",
    "            return 3\n",
    "        elif 'Bachelor’s degree' in x:\n",
    "            return 4\n",
    "        elif 'Master’s degree' in x:\n",
    "            return 5\n",
    "        else:\n",
    "            return 6\n",
    "df_new['Q4'] = df_new['Q4'].apply(lambda x:labelby_order_Q4(x))\n",
    "print(df_new['Q4'].value_counts())"
   ]
  },
  {
   "cell_type": "markdown",
   "metadata": {},
   "source": [
    "Same reasoning that we had for countries, apply to question 5. We cannot provide explanation that why each of the job titles should be superior to the others."
   ]
  },
  {
   "cell_type": "code",
   "execution_count": 60,
   "metadata": {
    "scrolled": false
   },
   "outputs": [
    {
     "name": "stdout",
     "output_type": "stream",
     "text": [
      "0\n",
      "8\n",
      "Data Scientist           2981\n",
      "Software Engineer        1701\n",
      "Data Analyst             1023\n",
      "Research Scientist        973\n",
      "Business Analyst          452\n",
      "Data Engineer             408\n",
      "Statistician              184\n",
      "DBA/Database Engineer     103\n",
      "Name: Q5, dtype: int64\n"
     ]
    }
   ],
   "source": [
    "#Q5: Title. Nominal categorical variable so one hot encoded\n",
    "print(df_new.Q5.isnull().sum())\n",
    "print(df_new.Q5.nunique())\n",
    "print(df_new['Q5'].value_counts())\n",
    "\n",
    "# Create dummy features for each categorical feature\n",
    "dummies_title = pd.get_dummies(df_new['Q5'], prefix='Q5')\n",
    "# Add the new features to the dataframe via concating\n",
    "df_new = pd.concat([df_new, dummies_title], axis=1)\n",
    "# Drop the original categorical feature columns\n",
    "df_new = df_new.drop(['Q5'],axis=1)\n",
    "# Drop one of each of the dummy variables because its value is implied by the other dummy variable columns\n",
    "df_new = df_new.drop(['Q5_Data Scientist'],axis=1)"
   ]
  },
  {
   "cell_type": "markdown",
   "metadata": {},
   "source": [
    "For question 6, which asks about number of employees in the company of respondent we are going to encode this question by the average of each range."
   ]
  },
  {
   "cell_type": "code",
   "execution_count": 61,
   "metadata": {},
   "outputs": [
    {
     "data": {
      "text/plain": [
       "0-49 employees          2198\n",
       "> 10,000 employees      1746\n",
       "1000-9,999 employees    1568\n",
       "50-249 employees        1256\n",
       "250-999 employees       1057\n",
       "Name: Q6, dtype: int64"
      ]
     },
     "execution_count": 61,
     "metadata": {},
     "output_type": "execute_result"
    }
   ],
   "source": [
    "df_new['Q6'].value_counts()"
   ]
  },
  {
   "cell_type": "code",
   "execution_count": 62,
   "metadata": {},
   "outputs": [
    {
     "name": "stdout",
     "output_type": "stream",
     "text": [
      "25       2198\n",
      "15000    1746\n",
      "5000     1568\n",
      "150      1256\n",
      "625      1057\n",
      "Name: Q6, dtype: int64\n"
     ]
    }
   ],
   "source": [
    "def labelby_order_Q6(z):\n",
    "        if z=='0-49 employees':\n",
    "            return 25\n",
    "        elif z=='50-249 employees':\n",
    "            return 150\n",
    "        elif z=='250-999 employees':\n",
    "            return 625\n",
    "        elif z=='1000-9,999 employees':\n",
    "            return 5000\n",
    "       \n",
    "        else: \n",
    "            return 15000\n",
    "df_new['Q6'] = df_new['Q6'].apply(lambda z:labelby_order_Q6(z))\n",
    "print(df_new['Q6'].value_counts())"
   ]
  },
  {
   "cell_type": "code",
   "execution_count": 63,
   "metadata": {},
   "outputs": [
    {
     "data": {
      "text/plain": [
       "20+       1854\n",
       "02-Jan    1770\n",
       "04-Mar    1427\n",
       "09-May    1128\n",
       "0          781\n",
       "14-Oct     605\n",
       "15-19      260\n",
       "Name: Q7, dtype: int64"
      ]
     },
     "execution_count": 63,
     "metadata": {},
     "output_type": "execute_result"
    }
   ],
   "source": [
    "df_new['Q7'].value_counts()"
   ]
  },
  {
   "cell_type": "code",
   "execution_count": 64,
   "metadata": {},
   "outputs": [
    {
     "name": "stdout",
     "output_type": "stream",
     "text": [
      "30    1854\n",
      "1     1770\n",
      "3     1427\n",
      "7     1128\n",
      "0      781\n",
      "12     605\n",
      "17     260\n",
      "Name: Q7, dtype: int64\n"
     ]
    }
   ],
   "source": [
    "#Q7. How many individuals are responsible for data sceince workload in your place. We are going to encode it with the same approach of question 6\n",
    "def labelby_order_Q7(z):\n",
    "    if z == '0':\n",
    "        return 0\n",
    "    elif z=='02-Jan':\n",
    "        return 1\n",
    "    elif z=='04-Mar':\n",
    "        return 3\n",
    "    elif z=='09-May':\n",
    "        return 7\n",
    "    elif z=='14-Oct':\n",
    "        return 12\n",
    "    elif z=='15-19':\n",
    "        return 17\n",
    "    else:\n",
    "        return 30\n",
    "df_new['Q7'] = df_new['Q7'].apply(lambda z:labelby_order_Q7(z))\n",
    "print(df_new['Q7'].value_counts())"
   ]
  },
  {
   "cell_type": "code",
   "execution_count": 65,
   "metadata": {},
   "outputs": [
    {
     "data": {
      "text/plain": [
       "We recently started using ML methods (i.e., models in production for less than 2 years)      1822\n",
       "We have well established ML methods (i.e., models in production for more than 2 years)       1698\n",
       "We are exploring ML methods (and may one day put a model into production)                    1688\n",
       "No (we do not use ML methods)                                                                1168\n",
       "We use ML methods for generating insights (but do not put working models into production)     985\n",
       "I do not know                                                                                 464\n",
       "Name: Q8, dtype: int64"
      ]
     },
     "execution_count": 65,
     "metadata": {},
     "output_type": "execute_result"
    }
   ],
   "source": [
    "df_new['Q8'].value_counts()"
   ]
  },
  {
   "cell_type": "code",
   "execution_count": 66,
   "metadata": {
    "scrolled": false
   },
   "outputs": [
    {
     "name": "stdout",
     "output_type": "stream",
     "text": [
      "0\n",
      "6\n",
      "We recently started using ML methods (i.e., models in production for less than 2 years)      1822\n",
      "We have well established ML methods (i.e., models in production for more than 2 years)       1698\n",
      "We are exploring ML methods (and may one day put a model into production)                    1688\n",
      "No (we do not use ML methods)                                                                1168\n",
      "We use ML methods for generating insights (but do not put working models into production)     985\n",
      "I do not know                                                                                 464\n",
      "Name: Q8, dtype: int64\n",
      "4    1822\n",
      "5    1698\n",
      "2    1688\n",
      "1    1168\n",
      "3     985\n",
      "0     464\n",
      "Name: Q8, dtype: int64\n"
     ]
    }
   ],
   "source": [
    "#Q8: Machine learning in business. Label encode in an ordinal manner\n",
    "print(df_new.Q8.isnull().sum())\n",
    "print(df_new.Q8.nunique())\n",
    "print(df_new['Q8'].value_counts())\n",
    "\n",
    "def labelby_order_Q8(z):\n",
    "        if z=='I do not know':\n",
    "            return 0\n",
    "        elif z=='No (we do not use ML methods)':\n",
    "            return 1\n",
    "        elif z=='We are exploring ML methods (and may one day put a model into production)':\n",
    "            return 2\n",
    "        elif z=='We use ML methods for generating insights (but do not put working models into production)':\n",
    "            return 3\n",
    "        elif z=='We recently started using ML methods (i.e., models in production for less than 2 years)':\n",
    "            return 4\n",
    "        else: \n",
    "            return 5\n",
    "df_new['Q8'] = df_new['Q8'].apply(lambda z:labelby_order_Q8(z))\n",
    "print(df_new['Q8'].value_counts())"
   ]
  },
  {
   "cell_type": "code",
   "execution_count": 67,
   "metadata": {},
   "outputs": [
    {
     "data": {
      "text/plain": [
       "$0 (USD)             2256\n",
       "$100-$999            1579\n",
       "$1000-$9,999         1496\n",
       "$1-$99                972\n",
       "$10,000-$99,999       868\n",
       "> $100,000 ($USD)     654\n",
       "Name: Q11, dtype: int64"
      ]
     },
     "execution_count": 67,
     "metadata": {},
     "output_type": "execute_result"
    }
   ],
   "source": [
    "df_new['Q11'].value_counts()"
   ]
  },
  {
   "cell_type": "code",
   "execution_count": 68,
   "metadata": {},
   "outputs": [
    {
     "name": "stdout",
     "output_type": "stream",
     "text": [
      "200000    2910\n",
      "500       1579\n",
      "5000      1496\n",
      "50         972\n",
      "50000      868\n",
      "Name: Q11, dtype: int64\n"
     ]
    }
   ],
   "source": [
    "def labelby_order_Q11(z):\n",
    "        if z=='$0 (USD) ':\n",
    "            return 0\n",
    "        elif z=='$1-$99':\n",
    "            return 50\n",
    "        elif z=='$100-$999':\n",
    "            return 500\n",
    "        elif z=='$1000-$9,999':\n",
    "            return 5000\n",
    "        elif z=='$10,000-$99,999':\n",
    "            return 50000\n",
    "        else: \n",
    "            return 200000\n",
    "df_new['Q11'] = df_new['Q11'].apply(lambda z:labelby_order_Q11(z))\n",
    "print(df_new['Q11'].value_counts())"
   ]
  },
  {
   "cell_type": "code",
   "execution_count": 69,
   "metadata": {
    "scrolled": true
   },
   "outputs": [
    {
     "data": {
      "text/plain": [
       "array(['Basic statistical software (Microsoft Excel, Google Sheets, etc.)',\n",
       "       'Advanced statistical software (SPSS, SAS, etc.)',\n",
       "       'Local development environments (RStudio, JupyterLab, etc.)',\n",
       "       'Other',\n",
       "       'Cloud-based data software & APIs (AWS, GCP, Azure, etc.)',\n",
       "       'Business intelligence software (Salesforce, Tableau, Spotfire, etc.)'],\n",
       "      dtype=object)"
      ]
     },
     "execution_count": 69,
     "metadata": {},
     "output_type": "execute_result"
    }
   ],
   "source": [
    "df_new['Q14'].unique()"
   ]
  },
  {
   "cell_type": "code",
   "execution_count": 70,
   "metadata": {
    "scrolled": true
   },
   "outputs": [
    {
     "name": "stdout",
     "output_type": "stream",
     "text": [
      "0\n",
      "6\n",
      "Local development environments (RStudio, JupyterLab, etc.)              4438\n",
      "Basic statistical software (Microsoft Excel, Google Sheets, etc.)       1055\n",
      "Cloud-based data software & APIs (AWS, GCP, Azure, etc.)                 749\n",
      "Other                                                                    549\n",
      "Business intelligence software (Salesforce, Tableau, Spotfire, etc.)     519\n",
      "Advanced statistical software (SPSS, SAS, etc.)                          515\n",
      "Name: Q14, dtype: int64\n"
     ]
    }
   ],
   "source": [
    "#Q14: primary tool for data analysis. Categorical nominal variable so one hot encoded\n",
    "\n",
    "print(df_new.Q14.isnull().sum())\n",
    "print(df_new.Q14.nunique())\n",
    "print(df_new['Q14'].value_counts())\n",
    "\n",
    "# Create dummy features for each categorical feature\n",
    "dummies_tool = pd.get_dummies(df_new['Q14'], prefix='Q14')\n",
    "# Add the new features to the dataframe via concating\n",
    "df_new = pd.concat([df_new, dummies_tool], axis=1)\n",
    "# Drop the original categorical feature columns\n",
    "df_new = df_new.drop(['Q14'],axis=1)\n",
    "# Drop one of each of the dummy variables because its value is implied by the other dummy variable columns\n",
    "df_new = df_new.drop(['Q14_Other'],axis=1)"
   ]
  },
  {
   "cell_type": "code",
   "execution_count": 71,
   "metadata": {
    "scrolled": true
   },
   "outputs": [
    {
     "data": {
      "text/plain": [
       "array(['1-2 years', '20+ years', '3-5 years', '5-10 years', '10-20 years',\n",
       "       '< 1 years'], dtype=object)"
      ]
     },
     "execution_count": 71,
     "metadata": {},
     "output_type": "execute_result"
    }
   ],
   "source": [
    "df_new['Q15'].unique()"
   ]
  },
  {
   "cell_type": "code",
   "execution_count": 72,
   "metadata": {},
   "outputs": [
    {
     "data": {
      "text/plain": [
       "array([ 1, 30,  4,  8, 15,  0], dtype=int64)"
      ]
     },
     "execution_count": 72,
     "metadata": {},
     "output_type": "execute_result"
    }
   ],
   "source": [
    "#Q15: Years of experience coding. Label encode in an ordinal manner\n",
    "df_new['Q15']=df_new['Q15'].map({'1-2 years': 1,'< 1 years':0,'3-5 years':4,'5-10 years':8,'10-20 years':15,'20+ years':30})\n",
    "df_new.Q15.unique()"
   ]
  },
  {
   "cell_type": "code",
   "execution_count": 73,
   "metadata": {},
   "outputs": [
    {
     "data": {
      "text/plain": [
       "array(['Never', '6-24 times', 'Once', '2-5 times', '> 25 times'],\n",
       "      dtype=object)"
      ]
     },
     "execution_count": 73,
     "metadata": {},
     "output_type": "execute_result"
    }
   ],
   "source": [
    "df_new['Q22'].unique()"
   ]
  },
  {
   "cell_type": "code",
   "execution_count": 74,
   "metadata": {},
   "outputs": [
    {
     "name": "stdout",
     "output_type": "stream",
     "text": [
      "0\n",
      "0     6282\n",
      "1      746\n",
      "4      606\n",
      "15     101\n",
      "35      90\n",
      "Name: Q22, dtype: int64\n"
     ]
    }
   ],
   "source": [
    "#Q22: Whether using TPU or not. Label encode in an ordinal manner\n",
    "# Check NaN responses\n",
    "print(df_new.Q22.isnull().sum())\n",
    "def labelby_order_Q22(x):\n",
    "        if x=='Never':\n",
    "            return 0\n",
    "        elif 'Once' in x:\n",
    "            return 1\n",
    "        elif '2-5 times' in x:\n",
    "            return 4\n",
    "        elif '6-24 times' in x:\n",
    "            return 15\n",
    "        else:               \n",
    "            return 35\n",
    "df_new['Q22'] = df_new['Q22'].apply(lambda x:labelby_order_Q22(x))\n",
    "print(df_new['Q22'].value_counts())"
   ]
  },
  {
   "cell_type": "code",
   "execution_count": 75,
   "metadata": {},
   "outputs": [
    {
     "data": {
      "text/plain": [
       "array(['1-2 years', '10-15 years', '2-3 years', '3-4 years', '4-5 years',\n",
       "       '< 1 years', '5-10 years', '20+ years'], dtype=object)"
      ]
     },
     "execution_count": 75,
     "metadata": {},
     "output_type": "execute_result"
    }
   ],
   "source": [
    "df_new['Q23'].unique()"
   ]
  },
  {
   "cell_type": "code",
   "execution_count": 76,
   "metadata": {},
   "outputs": [
    {
     "name": "stdout",
     "output_type": "stream",
     "text": [
      "0\n",
      "0     2086\n",
      "1     2050\n",
      "2     1197\n",
      "3      767\n",
      "4      670\n",
      "8      651\n",
      "12     265\n",
      "30     139\n",
      "Name: Q23, dtype: int64\n"
     ]
    }
   ],
   "source": [
    "#Q23: Years of experience using machine learning methods. Label encode in an ordinal manner\n",
    "# Check NaN responses\n",
    "print(df_new.Q23.isnull().sum())\n",
    "def labelby_order_Q23(x):\n",
    "        if x=='< 1 years':\n",
    "            return 0\n",
    "        elif '1-2 years' in x:\n",
    "            return 1\n",
    "        elif '2-3 years' in x:\n",
    "            return 2\n",
    "        elif '3-4 years' in x:\n",
    "            return 3\n",
    "        elif '4-5 years' in x:\n",
    "            return 4\n",
    "        elif '5-10 years' in x:\n",
    "            return 8\n",
    "        elif '10-15 years' in x:\n",
    "            return 12\n",
    "        else:\n",
    "            return 30\n",
    "df_new['Q23'] = df_new['Q23'].apply(lambda x:labelby_order_Q23(x))\n",
    "print(df_new['Q23'].value_counts())"
   ]
  },
  {
   "cell_type": "code",
   "execution_count": 77,
   "metadata": {},
   "outputs": [],
   "source": [
    "#df_new.to_csv(r\"C:\\Users\\ITSLab\\Desktop\\Yaser_up\\feature_selection.csv\")\n",
    "df_new.drop('Q10', axis=1, inplace=True)"
   ]
  },
  {
   "cell_type": "markdown",
   "metadata": {},
   "source": [
    "## 2.3 Explanatory analysis of feature importance"
   ]
  },
  {
   "cell_type": "code",
   "execution_count": 78,
   "metadata": {
    "scrolled": false
   },
   "outputs": [
    {
     "data": {
      "text/plain": [
       "Text(0.5, 0.98, 'Ordinal Categorical data Correlation Heatmap')"
      ]
     },
     "execution_count": 78,
     "metadata": {},
     "output_type": "execute_result"
    },
    {
     "data": {
      "image/png": "[encoded data removed]",
      "text/plain": [
       "<Figure size 1008x648 with 2 Axes>"
      ]
     },
     "metadata": {
      "needs_background": "light"
     },
     "output_type": "display_data"
    }
   ],
   "source": [
    "new = df_new.filter(['Q10_Encoded','Q1','Q4','Q6','Q7','Q8','Q11','Q15','Q22', 'Q23'],axis = 1)\n",
    "corr = new.corr()\n",
    "fig, (ax) = plt.subplots(1, 1, figsize=(14,9))\n",
    "hm = sns.heatmap(corr, \n",
    "                 ax=ax,           # Axes in which to draw the plot, otherwise use the currently-active Axes.\n",
    "                 cmap=\"coolwarm\", # Color Map.\n",
    "                 #square=True,    # If True, set the Axes aspect to “equal” so each cell will be square-shaped.\n",
    "                 annot=True, \n",
    "                 fmt='.2f',       # String formatting code to use when adding annotations.\n",
    "                 #annot_kws={\"size\": 14},\n",
    "                 linewidths=.05)\n",
    "\n",
    "fig.subplots_adjust(top=0.83)\n",
    "fig.suptitle('Ordinal Categorical data Correlation Heatmap', \n",
    "              fontsize=12, )"
   ]
  },
  {
   "cell_type": "markdown",
   "metadata": {},
   "source": [
    "As we can see on the heat map there is a high correlation between question 1 and question 15. There is also a high correlation between Q15 and Q23. It seems Q11 and Q22 do not have a high correlation with salary encodes. But, before dropping them we are going to look at the decision based tree for feature importance."
   ]
  },
  {
   "cell_type": "code",
   "execution_count": 79,
   "metadata": {
    "scrolled": false
   },
   "outputs": [
    {
     "name": "stderr",
     "output_type": "stream",
     "text": [
      "D:\\anaconda\\lib\\site-packages\\sklearn\\ensemble\\forest.py:246: FutureWarning:\n",
      "\n",
      "The default value of n_estimators will change from 10 in version 0.20 to 100 in 0.22.\n",
      "\n"
     ]
    },
    {
     "data": {
      "image/png": "[encoded data removed]",
      "text/plain": [
       "<Figure size 936x432 with 1 Axes>"
      ]
     },
     "metadata": {
      "needs_background": "light"
     },
     "output_type": "display_data"
    }
   ],
   "source": [
    "df_n = df_new.drop(['Q10_buckets'],axis=1)\n",
    "y = df_n.Q10_Encoded\n",
    "X= df_n.drop('Q10_Encoded',1)\n",
    "\n",
    "from sklearn.ensemble import ExtraTreesClassifier\n",
    "import matplotlib.pyplot as plt\n",
    "model = ExtraTreesClassifier()\n",
    "model.fit(X,y)\n",
    "#use inbuilt class feature_importances of tree based classifiers\n",
    "#plot graph of feature importances for better visualization\n",
    "feat_importances = pd.Series(model.feature_importances_, index=X.columns)\n",
    "ax= feat_importances.nlargest(10).plot(kind='barh', figsize=(13, 6))\n",
    "ax.set_xlabel('Feature importance')\n",
    "ax.set_ylabel('Variables')\n",
    "ax.set_title('Salary bracket feature importance ranking based on Tree classifier model')\n",
    "plt.show()"
   ]
  },
  {
   "cell_type": "markdown",
   "metadata": {},
   "source": [
    "Based on the tree based model, we can see which features have the highest contribution on salary bucket. So, by looking to decision based model for feature importance and correlation heat map, we decided to drop question question 22 and question 15"
   ]
  },
  {
   "cell_type": "code",
   "execution_count": 80,
   "metadata": {},
   "outputs": [],
   "source": [
    "df_new.drop(['Q22','Q15'], axis=1,inplace=True)"
   ]
  },
  {
   "cell_type": "code",
   "execution_count": 81,
   "metadata": {},
   "outputs": [
    {
     "data": {
      "text/plain": [
       "(7825, 126)"
      ]
     },
     "execution_count": 81,
     "metadata": {},
     "output_type": "execute_result"
    }
   ],
   "source": [
    "df_new.shape"
   ]
  },
  {
   "cell_type": "markdown",
   "metadata": {},
   "source": [
    "Similarly, as we can see from both graphs, Q1 which represent the age of respondents can explain salary bucket more than other variables, Q15 is in the second place which represent coding experience to analyze data. In addition Question 28, which is now represent the number of framework that is being use in ML is also our 4th important feature (On the other hand, although there is a positive correlation between salary bucket and Q28, but it is not that significant). The fifth important feature is incorporating ML in the business."
   ]
  },
  {
   "cell_type": "markdown",
   "metadata": {},
   "source": [
    "## Part 2.Summary\n",
    "In the first stage of part 2 of this assignment, we did some statistical analysis of what is the trend of our data would look like. Different plots used to show the trends. In this part for a couple of analysis, we just focused on United States of America and India, since they had the biggest contribution to our data frame. We saw what is the impact of years of experience on respondent's yearly compensation. In the following part, we started to encode our data set. For some of the questions, we used ordinal encoding and for the other features, we used one hot encoding method since we were not able to encode those features based on the numerical order. In the last part, we used correlation heat map to find which features would have the most impact on the annual salary. Also, we draw decision based feature importance to see which of the features have the highest contribution to a data scientist's income. Based on the correlation heat map and feature importance, we drop some of the columns.\n"
   ]
  },
  {
   "cell_type": "markdown",
   "metadata": {},
   "source": [
    "## 3. Feature selection\n",
    "In this part of the assignment, we need to select features that we want them to be present in our modelling. Also, we need to have in mind that we do not wish to make our model complex. We will use regularization. We want to develop a model that captures the pattern of predicting the salary bucket. Regularization would help us to choose an acceptable complexity for our model so that it would better predict the salary bucket. But, we mentioned overfitting, now we want to provide what it means. The goal of predictive model is to capture the trend or pattern of how salary bucket change, but whenever the model tries to fit the noise in the data frame in addition to the pattern, we would have overfitting. Mainly, regularization would add a penalty term to the objective function and control complexity via the penalty term [3]. There are two techniques for regularization in machine learning: 1) least absolute shrinkage and selection operator, also known as LASSO (l1) 2) Ridge Regression (l2). In this assignment we are going to use LASSO technique due to its advantage. The most important benefit of l1 is that it increases the accuracy of prediction by shrinking and removing coefficients can reduce variance without substantial increase of the bias. So, it can also do the feature selection by putting some coefficients equal to zero. However, it still needs hyperparameter tuning. Unlike l2 regularization, l1 regularization yields sparse feature vectors since most feature weights will be zero. The sparsity, in practice, can be very useful when we have a high-dimension dataset like this one that has many irrelevant features. In a highly correlated data frame, LASSO arbitrarily chooses one of the correlated variables and set the coefficient of others to zero."
   ]
  },
  {
   "cell_type": "code",
   "execution_count": 82,
   "metadata": {},
   "outputs": [],
   "source": [
    "from sklearn.model_selection import train_test_split\n",
    "from sklearn.feature_extraction.text import CountVectorizer\n",
    "from sklearn import linear_model\n",
    "from sklearn.preprocessing import StandardScaler\n",
    "from sklearn.feature_selection import RFE\n",
    "from sklearn.ensemble import GradientBoostingRegressor\n",
    "from sklearn.metrics import mean_squared_error, auc, mean_absolute_error\n",
    "from sklearn.model_selection import GridSearchCV, KFold\n"
   ]
  },
  {
   "cell_type": "code",
   "execution_count": 83,
   "metadata": {},
   "outputs": [],
   "source": [
    "from sklearn.metrics import make_scorer, r2_score, confusion_matrix\n",
    "\n",
    "# Split the data into test and training sets, with 30% of samples being put into the test set\n",
    "X_train, X_test, y_train, y_test = train_test_split(X, y, test_size=0.3, random_state=42)\n",
    "\n",
    "reg_gridsearch = linear_model.Lasso(random_state=42)\n",
    "#Parameters to test\n",
    "parameters = {'alpha':[0.01,0.02,0.03,0.1,0.2,0.4,0.5,1,3,0.04], # Constant that multiplies the L1 term. Defaults to 1.0.\n",
    "             'normalize':[True,False]} #\n",
    "\n",
    "# Compare parameters by score of model (I used R2 here at it is the most reasonable score to use)\n",
    "acc_scorer_lm = make_scorer(r2_score)\n",
    "\n",
    "# Run the grid search\n",
    "grid_obj_lm = GridSearchCV(reg_gridsearch, parameters, scoring=acc_scorer_lm, cv=10)\n",
    "grid_obj_lm = grid_obj_lm.fit(X_train, y_train)\n",
    "\n",
    "reg_gridsearch = grid_obj_lm.best_estimator_  #Select best parameter combination\n"
   ]
  },
  {
   "cell_type": "code",
   "execution_count": 84,
   "metadata": {},
   "outputs": [
    {
     "name": "stdout",
     "output_type": "stream",
     "text": [
      "alpha (Constant that multiplies the L1 term): 0.01\n",
      "normalize: False\n"
     ]
    }
   ],
   "source": [
    "# print out the optimal params so grid search does not need to be rerun\n",
    "print('alpha (Constant that multiplies the L1 term):',grid_obj_lm.best_estimator_.alpha) \n",
    "print('normalize:',grid_obj_lm.best_estimator_.normalize)"
   ]
  },
  {
   "cell_type": "code",
   "execution_count": 85,
   "metadata": {},
   "outputs": [
    {
     "data": {
      "text/plain": [
       "0.526673307809902"
      ]
     },
     "execution_count": 85,
     "metadata": {},
     "output_type": "execute_result"
    }
   ],
   "source": [
    "reg_gridsearch.fit(X_train, y_train)\n",
    "reg_gridsearch.score(X_test, y_test)"
   ]
  },
  {
   "cell_type": "code",
   "execution_count": 86,
   "metadata": {},
   "outputs": [],
   "source": [
    "feature_coefs = sorted(list(zip(reg_gridsearch.coef_, X_test)),reverse=True)\n",
    "#Can see that regularized coefficeints are more reasonable "
   ]
  },
  {
   "cell_type": "code",
   "execution_count": 87,
   "metadata": {
    "scrolled": false
   },
   "outputs": [
    {
     "data": {
      "text/plain": [
       "[(0.9600583298375525, 'Q31_Part_2'),\n",
       " (0.5882901529946202,\n",
       "  'Q14_Cloud-based data software & APIs (AWS, GCP, Azure, etc.)'),\n",
       " (0.4522140837512779, 'Q9_Part_3'),\n",
       " (0.3816702090492431, 'Q18_Part_9'),\n",
       " (0.3718894751013311, 'Q3_Australia'),\n",
       " (0.29565074319153245, 'Q8'),\n",
       " (0.2920058535914022, 'Q3_Switzerland'),\n",
       " (0.2501442203819128, 'Q24_Part_10'),\n",
       " (0.2404763383459819, 'Q31_Part_3'),\n",
       " (0.20735568235767038, 'Q9_Part_2'),\n",
       " (0.19985450469089322, 'Q18_Part_12'),\n",
       " (0.18319330120807975, 'Q18_Part_3'),\n",
       " (0.1673593010712885, 'Q31_Part_12'),\n",
       " (0.15099432655830328, 'Q24_Part_1'),\n",
       " (0.14225608544704932, 'Q4'),\n",
       " (0.13357459387434828, 'Q31_Part_4'),\n",
       " (0.09792120760349107, 'Q27_Part_4'),\n",
       " (0.08730793274131919, 'Q9_Part_5'),\n",
       " (0.08417986408352084, 'Q15'),\n",
       " (0.0805184421013728, 'Q3_Canada'),\n",
       " (0.07252747918754462,\n",
       "  'Q14_Business intelligence software (Salesforce, Tableau, Spotfire, etc.)'),\n",
       " (0.07194305963951443, 'Q24_Part_3'),\n",
       " (0.0694615001028356, 'Q5_Software Engineer'),\n",
       " (0.0693057455175301, 'Q1'),\n",
       " (0.06683281811575083, 'Q31_Part_1'),\n",
       " (0.06436765939146023, 'Q3_Israel'),\n",
       " (0.0459355953330555, 'Q23'),\n",
       " (0.029638910397842586, 'Q27_Part_3'),\n",
       " (0.022784181882417487, 'Q7'),\n",
       " (0.005464233163795014, 'Q18_Part_8'),\n",
       " (4.051634587502283e-05, 'Q6'),\n",
       " (2.519029794193351e-06, 'Q11'),\n",
       " (-0.0, 'Q9_Part_8'),\n",
       " (-0.0, 'Q9_Part_7'),\n",
       " (0.0, 'Q9_Part_4'),\n",
       " (0.0, 'Q9_Part_1'),\n",
       " (-0.0, 'Q5_Data Engineer'),\n",
       " (-0.0, 'Q5_DBA/Database Engineer'),\n",
       " (0.0, 'Q5_Business Analyst'),\n",
       " (-0.0, 'Q3_Tunisia'),\n",
       " (-0.0, 'Q3_Sweden'),\n",
       " (-0.0, 'Q3_Singapore'),\n",
       " (-0.0, 'Q3_Saudi Arabia'),\n",
       " (-0.0, 'Q3_Republic of Korea'),\n",
       " (0.0, 'Q3_Norway'),\n",
       " (0.0, 'Q3_New Zealand'),\n",
       " (-0.0, 'Q3_Netherlands'),\n",
       " (-0.0, 'Q3_Malaysia'),\n",
       " (-0.0, 'Q3_Ireland'),\n",
       " (-0.0, 'Q3_Hong Kong (S.A.R.)'),\n",
       " (-0.0, 'Q3_Germany'),\n",
       " (0.0, 'Q3_Denmark'),\n",
       " (-0.0, 'Q3_Belgium'),\n",
       " (-0.0, 'Q3_Austria'),\n",
       " (-0.0, 'Q3_Algeria'),\n",
       " (0.0, 'Q31_Part_9'),\n",
       " (0.0, 'Q31_Part_8'),\n",
       " (-0.0, 'Q31_Part_7'),\n",
       " (-0.0, 'Q31_Part_6'),\n",
       " (0.0, 'Q31_Part_5'),\n",
       " (0.0, 'Q27_Part_6'),\n",
       " (0.0, 'Q27_Part_2'),\n",
       " (0.0, 'Q27_Part_1'),\n",
       " (-0.0, 'Q24_Part_7'),\n",
       " (-0.0, 'Q24_Part_2'),\n",
       " (-0.0, 'Q24_Part_12'),\n",
       " (-0.0, 'Q18_Part_7'),\n",
       " (-0.0, 'Q18_Part_5'),\n",
       " (-0.0, 'Q14_Local development environments (RStudio, JupyterLab, etc.)'),\n",
       " (-0.006504757521292505, 'Q22'),\n",
       " (-0.017816654928575388,\n",
       "  'Q3_United Kingdom of Great Britain and Northern Ireland'),\n",
       " (-0.04445341005585797, 'Q18_Part_2'),\n",
       " (-0.049969389464646755, 'Q24_Part_4'),\n",
       " (-0.07521392591898879, 'Q18_Part_1'),\n",
       " (-0.08239638925039532, 'Q24_Part_6'),\n",
       " (-0.10087162317888207, 'Q24_Part_9'),\n",
       " (-0.10821207506270974, 'Q24_Part_5'),\n",
       " (-0.14821920800435973, 'Q3_Czech Republic'),\n",
       " (-0.1575005880385127, 'Q5_Statistician'),\n",
       " (-0.1804297328860487, 'Q3_Philippines'),\n",
       " (-0.19813038837475838, 'Q9_Part_6'),\n",
       " (-0.1984092840114792,\n",
       "  'Q14_Basic statistical software (Microsoft Excel, Google Sheets, etc.)'),\n",
       " (-0.21162385094539704, 'Q24_Part_8'),\n",
       " (-0.24058314874135148, 'Q18_Part_6'),\n",
       " (-0.25387979073908196, 'Q14_Advanced statistical software (SPSS, SAS, etc.)'),\n",
       " (-0.2742490548219945, 'Q5_Data Analyst'),\n",
       " (-0.3139155250674494, 'Q18_Part_10'),\n",
       " (-0.39647170153372124, 'Q2_Female'),\n",
       " (-0.3970676582914658, 'Q31_Part_10'),\n",
       " (-0.42273110843483785, 'Q18_Part_4'),\n",
       " (-0.44909498318917074, 'Q5_Research Scientist'),\n",
       " (-0.4596397380544512, 'Q3_Thailand'),\n",
       " (-0.5234206179712606, 'Q3_Hungary'),\n",
       " (-0.5764680823340895, 'Q3_South Africa'),\n",
       " (-0.8448934080577023, 'Q3_Greece'),\n",
       " (-0.9292865940000558, 'Q3_Chile'),\n",
       " (-0.9657932343504567, 'Q3_Belarus'),\n",
       " (-0.9862635493048131, 'Q3_France'),\n",
       " (-0.9883527455756916, 'Q3_Romania'),\n",
       " (-1.050916356993917, 'Q3_South Korea'),\n",
       " (-1.1567649406940401, 'Q3_Bangladesh'),\n",
       " (-1.2418518800004348, 'Q3_Japan'),\n",
       " (-1.3234709040315542, 'Q3_Kenya'),\n",
       " (-1.4142759070256914, 'Q3_Peru'),\n",
       " (-1.5151136662939617, 'Q3_Egypt'),\n",
       " (-1.7244729462823005, 'Q3_Morocco'),\n",
       " (-1.8944626433594445, 'Q3_Italy'),\n",
       " (-1.9004117529118225, 'Q3_Iran, Islamic Republic of...'),\n",
       " (-1.9159152104491308, 'Q3_Portugal'),\n",
       " (-2.038147484221999, 'Q3_China'),\n",
       " (-2.073037155367034, 'Q3_Indonesia'),\n",
       " (-2.1887111517293856, 'Q3_Spain'),\n",
       " (-2.2074416128116994, 'Q3_Viet Nam'),\n",
       " (-2.4062799195856104, 'Q3_Poland'),\n",
       " (-2.4282012435112303, 'Q3_Taiwan'),\n",
       " (-2.471517627963791, 'Q3_Turkey'),\n",
       " (-2.540858144305314, 'Q3_Other'),\n",
       " (-2.6006720075559686, 'Q3_Ukraine'),\n",
       " (-2.6052568945327392, 'Q3_Mexico'),\n",
       " (-2.6661906006140086, 'Q3_Pakistan'),\n",
       " (-2.6819848607712213, 'Q3_Nigeria'),\n",
       " (-2.801419230311886, 'Q3_Colombia'),\n",
       " (-2.8862532021787, 'Q3_Argentina'),\n",
       " (-3.022195117768888, 'Q3_Brazil'),\n",
       " (-3.266374639029045, 'Q3_Russia'),\n",
       " (-3.55978547531756, 'Q3_India')]"
      ]
     },
     "execution_count": 87,
     "metadata": {},
     "output_type": "execute_result"
    }
   ],
   "source": [
    "feature_coefs"
   ]
  },
  {
   "cell_type": "code",
   "execution_count": 88,
   "metadata": {
    "scrolled": true
   },
   "outputs": [
    {
     "name": "stdout",
     "output_type": "stream",
     "text": [
      "Index(['Q9_Part_1', 'Q9_Part_4', 'Q9_Part_7', 'Q9_Part_8', 'Q18_Part_5',\n",
      "       'Q18_Part_7', 'Q24_Part_2', 'Q24_Part_7', 'Q24_Part_12', 'Q27_Part_1',\n",
      "       'Q27_Part_2', 'Q27_Part_6', 'Q31_Part_5', 'Q31_Part_6', 'Q31_Part_7',\n",
      "       'Q31_Part_8', 'Q31_Part_9', 'Q3_Algeria', 'Q3_Austria', 'Q3_Belgium',\n",
      "       'Q3_Denmark', 'Q3_Germany', 'Q3_Hong Kong (S.A.R.)', 'Q3_Ireland',\n",
      "       'Q3_Malaysia', 'Q3_Netherlands', 'Q3_New Zealand', 'Q3_Norway',\n",
      "       'Q3_Republic of Korea', 'Q3_Saudi Arabia', 'Q3_Singapore', 'Q3_Sweden',\n",
      "       'Q3_Tunisia', 'Q5_Business Analyst', 'Q5_DBA/Database Engineer',\n",
      "       'Q5_Data Engineer',\n",
      "       'Q14_Local development environments (RStudio, JupyterLab, etc.)'],\n",
      "      dtype='object')\n"
     ]
    }
   ],
   "source": [
    "removed_feats = X_train.columns[(reg_gridsearch.coef_ == 0).ravel().tolist()]\n",
    "print(removed_feats)"
   ]
  },
  {
   "cell_type": "code",
   "execution_count": 89,
   "metadata": {},
   "outputs": [],
   "source": [
    "#NEW X dataframe with removed features to be used in the following steps!\n",
    "X = X.drop(removed_feats, axis=1)"
   ]
  },
  {
   "cell_type": "code",
   "execution_count": 90,
   "metadata": {},
   "outputs": [
    {
     "data": {
      "text/plain": [
       "(7825, 89)"
      ]
     },
     "execution_count": 90,
     "metadata": {},
     "output_type": "execute_result"
    }
   ],
   "source": [
    "X.shape"
   ]
  },
  {
   "cell_type": "code",
   "execution_count": 91,
   "metadata": {},
   "outputs": [],
   "source": [
    "df_new = df_new.drop(removed_feats, axis=1)"
   ]
  },
  {
   "cell_type": "code",
   "execution_count": 92,
   "metadata": {},
   "outputs": [
    {
     "data": {
      "text/plain": [
       "(7825, 89)"
      ]
     },
     "execution_count": 92,
     "metadata": {},
     "output_type": "execute_result"
    }
   ],
   "source": [
    "df_new.shape"
   ]
  },
  {
   "cell_type": "code",
   "execution_count": 93,
   "metadata": {},
   "outputs": [],
   "source": [
    "df_new = df_new.drop('Q10_buckets', axis=1)"
   ]
  },
  {
   "cell_type": "markdown",
   "metadata": {},
   "source": [
    "## 3. Summary\n",
    "Having and engineering a good features, we help us in to better understand the importance of our data set and it would increase the accuracy of our model. Therefore, the results will be more accurate. In this part in order to reduce the dimensionally of our data frame, we needed to reduce the number of non-important variables in our model. For feature selection, we used LASSO regulation. Searching though different alphas, we find the optimum one and based on the optimum alpha, we implemented our LASSSO regulation. The reason we decided to use LASSO was that it has the benefit of feature selection inside it. It will automatically put non-important variables to zero. After finding zero coefficient variables, we removed them and were left with 89 features for implementing logistic model. We are also able to go one more step forward and remove the features that are between some numbers that are very close to zero. However, since the concept of this assignment is to learn, we decided to use the features that are set to zero to see what would be the complexity of our model\n"
   ]
  },
  {
   "cell_type": "markdown",
   "metadata": {},
   "source": [
    "## 4. Model Implementation"
   ]
  },
  {
   "cell_type": "code",
   "execution_count": 94,
   "metadata": {},
   "outputs": [],
   "source": [
    "df_Train, df_Test = train_test_split(df_new,test_size=0.3, random_state=42)"
   ]
  },
  {
   "cell_type": "markdown",
   "metadata": {},
   "source": [
    "Our salary encodes has 15 different categories. So for the binary regression that we want to do, we need to create 14 models. For finding the probability, we need to deduct each probability by others to get the probability of each bucket. Also, we will tune each of the 14 models and find the the optimal value of 'C' for each of the models. The first model is salary bucket 0 against all the rest, the second would be the first two buckets against all the others and so on. The probability of bucket two will be equal to probability of 0 in the second model minus probability of 0 in the first model and the same procedure for all the other probabilities. "
   ]
  },
  {
   "cell_type": "code",
   "execution_count": 95,
   "metadata": {},
   "outputs": [],
   "source": [
    "from sklearn.preprocessing import StandardScaler\n",
    "from sklearn.linear_model import LogisticRegression\n",
    "from sklearn.model_selection import train_test_split\n",
    "from sklearn.model_selection import KFold\n",
    "from sklearn.metrics import make_scorer, confusion_matrix\n",
    "from sklearn.model_selection import learning_curve\n",
    "\n"
   ]
  },
  {
   "cell_type": "markdown",
   "metadata": {},
   "source": [
    "##### Rescaling values\n",
    "Having features that have different scales can cause problems in some machine learning models since a lot of the models are based on the concept of Euclidean Distances. This means that features with greater scales would have a greater impact on the solution, then those of smaller values. We will scale the values before the implementing all the models"
   ]
  },
  {
   "cell_type": "markdown",
   "metadata": {},
   "source": [
    "In this part of the assignment, we want to find the probability of each bucket using one versus all classification. So, the procedure would be create 14 models for our problem. For instance, the first model would be bucket 0 against all the others, the second model would be the first two buckets against all the models, and when we want to predict our probability, we deduct probability of model 2 from model 1 and it will give us the probability of the second bucket. So, first of all, we need to create 14 models. First, we are going to copy the models into 14 different data frames that are going to be used for our modeling"
   ]
  },
  {
   "cell_type": "code",
   "execution_count": 96,
   "metadata": {},
   "outputs": [],
   "source": [
    "import copy\n",
    "d0 = copy.deepcopy(df_Train)\n",
    "d1 = copy.deepcopy(df_Train)\n",
    "d2 = copy.deepcopy(df_Train)\n",
    "d3 = copy.deepcopy(df_Train)\n",
    "d4 = copy.deepcopy(df_Train)\n",
    "d5 = copy.deepcopy(df_Train)\n",
    "d6 = copy.deepcopy(df_Train)\n",
    "d7 = copy.deepcopy(df_Train)\n",
    "d8 = copy.deepcopy(df_Train)\n",
    "d9 = copy.deepcopy(df_Train)\n",
    "d10= copy.deepcopy(df_Train)\n",
    "d11= copy.deepcopy(df_Train)\n",
    "d12= copy.deepcopy(df_Train)\n",
    "d13 = copy.deepcopy(df_Train)\n"
   ]
  },
  {
   "cell_type": "markdown",
   "metadata": {},
   "source": [
    "In the next step, we are going to make the salary encode to a binary variables in each of the 14 models. Meaning that for instance, in the first model, bucket 0 will be encoded as 1 and all the other buckets will be encoded as 0. For the second bucket, we are going to encode the first two bucket 0 and all the other 13 buckets will be encoded as 1. With this procedure, we are going to be able to find the probability of each of the buckets after model 14th bucket."
   ]
  },
  {
   "cell_type": "code",
   "execution_count": 97,
   "metadata": {},
   "outputs": [],
   "source": [
    "d0['Q10_Encoded'] = d0['Q10_Encoded'].apply(lambda x: 1 if x == 0 else 0)\n",
    "d1['Q10_Encoded'] = d1['Q10_Encoded'].apply(lambda x: 1 if x <= 1 else 0)\n",
    "d2['Q10_Encoded'] = d2['Q10_Encoded'].apply(lambda x: 1 if x <= 2 else 0)\n",
    "d3['Q10_Encoded'] = d3['Q10_Encoded'].apply(lambda x: 1 if x <= 3 else 0)\n",
    "d4['Q10_Encoded'] = d4['Q10_Encoded'].apply(lambda x: 1 if x <= 4 else 0)\n",
    "d5['Q10_Encoded'] = d5['Q10_Encoded'].apply(lambda x: 1 if x <= 5 else 0)\n",
    "d6['Q10_Encoded'] = d6['Q10_Encoded'].apply(lambda x: 1 if x <= 6 else 0)\n",
    "d7['Q10_Encoded'] = d7['Q10_Encoded'].apply(lambda x: 1 if x <= 7 else 0)\n",
    "d8['Q10_Encoded'] = d8['Q10_Encoded'].apply(lambda x: 1 if x <= 8 else 0)\n",
    "d9['Q10_Encoded'] = d9['Q10_Encoded'].apply(lambda x: 1 if x <= 9 else 0)\n",
    "d10['Q10_Encoded'] = d10['Q10_Encoded'].apply(lambda x: 1 if x <= 10 else 0)\n",
    "d11['Q10_Encoded'] = d11['Q10_Encoded'].apply(lambda x: 1 if x <= 11 else 0)\n",
    "d12['Q10_Encoded'] = d12['Q10_Encoded'].apply(lambda x: 1 if x <= 12 else 0)\n",
    "d13['Q10_Encoded'] = d13['Q10_Encoded'].apply(lambda x: 1 if x <= 13 else 0)"
   ]
  },
  {
   "cell_type": "markdown",
   "metadata": {},
   "source": [
    "In this step we would like to create 14 models first without tuning them and see what is their accuracy. For this assignment we are going to use accuracy as our metric to evaluate our model"
   ]
  },
  {
   "cell_type": "code",
   "execution_count": 98,
   "metadata": {},
   "outputs": [],
   "source": [
    "import warnings\n",
    "#warnings.filterwarnings(\"ignore\", category=ConvergenceWarning)\n",
    "warnings.filterwarnings(\"ignore\")"
   ]
  },
  {
   "cell_type": "markdown",
   "metadata": {},
   "source": [
    "To make our model more efficient, I am going to define a function that would fit a logistic regression to the model using 10 fold cross-validation. But why we are using cross validation in our model?\n",
    "There is always a need to validate the stability of your machine learning model. You need some kind of assurance that your model has got most of the patterns from the data correct, and its not picking up too much on the noise, or in other words its low on bias and variance. We know that there is not enough samples for training the model, if we remove some of the samples and put them in the training set, we might not be able correctly fit a model to the trend of our data. This would increase the error that is induced by bias. So, what we require is a method that provides ample data for training the model and also leaves ample data for validation. K Fold cross validation does exactly that.\"In K Fold cross validation, the data is divided into k subsets. Now the holdout method is repeated k times, such that each time, one of the k subsets is used as the test set/ validation set and the other k-1 subsets are put together to form a training set. The error estimation is averaged over all k trials to get total effectiveness of our model. As can be seen, every data point gets to be in a validation set exactly once, and gets to be in a training set k-1 times. This significantly reduces bias as we are using most of the data for fitting, and also significantly reduces variance as most of the data is also being used in validation set\"[4]."
   ]
  },
  {
   "cell_type": "markdown",
   "metadata": {},
   "source": [
    "### Rescaling values\n",
    "Having features that have different scales can cause problems in some machine learning models since a lot of the models are based on the concept of Euclidean Distances. This means that features with greater scales would have a greater impact on the solution, then those of smaller values."
   ]
  },
  {
   "cell_type": "code",
   "execution_count": 99,
   "metadata": {},
   "outputs": [],
   "source": [
    "def log (dataset):\n",
    "    \n",
    "    X = dataset.drop(['Q10_Encoded'],axis=1)\n",
    "    y = dataset['Q10_Encoded']\n",
    "\n",
    "    model = LogisticRegression()\n",
    "    scaler = StandardScaler()\n",
    "    kfold = KFold(n_splits=10)\n",
    "    kfold.get_n_splits(X)\n",
    "\n",
    "    accuracy = np.zeros(10)\n",
    "    np_idx = 0\n",
    "    \n",
    "    accuracy_list = []\n",
    "\n",
    "    for train_idx, test_idx in kfold.split(X):\n",
    "        X_train, X_test = X.values[train_idx], X.values[test_idx]\n",
    "        y_train, y_test = y.values[train_idx], y.values[test_idx]\n",
    "\n",
    "        X_train = scaler.fit_transform(X_train)\n",
    "        X_test = scaler.transform(X_test)\n",
    "\n",
    "        model.fit(X_train, y_train)\n",
    "\n",
    "        predictions = model.predict(X_test)\n",
    "\n",
    "        TN = confusion_matrix(y_test, predictions)[0][0]\n",
    "        FP = confusion_matrix(y_test, predictions)[0][1]\n",
    "        FN = confusion_matrix(y_test, predictions)[1][0]\n",
    "        TP = confusion_matrix(y_test, predictions)[1][1]\n",
    "        total = TN + FP + FN + TP\n",
    "        ACC = (TP + TN) / float(total)\n",
    "\n",
    "        accuracy[np_idx] = ACC*100\n",
    "        np_idx += 1\n",
    "        accuracy_list.append(round(ACC,4)*100)\n",
    "    \n",
    "    return accuracy_list\n"
   ]
  },
  {
   "cell_type": "markdown",
   "metadata": {},
   "source": [
    "Since we now have defined a function to fit a model using 10-fold cross-validation technique, we know need to call this function and performed it on the 14 data frames that we created above. To do this, we are going to use a for loop on the data frame. After fitting the logistic model on all of the 14 models, we will now create a table to show the accuracy of all fold for each model and standard deviation of each of them."
   ]
  },
  {
   "cell_type": "code",
   "execution_count": 100,
   "metadata": {},
   "outputs": [
    {
     "name": "stdout",
     "output_type": "stream",
     "text": [
      "Model 0:\n",
      "[('k=1', 74.82), ('k=2', 77.55), ('k=3', 77.37), ('k=4', 80.28999999999999), ('k=5', 76.82), ('k=6', 77.55), ('k=7', 79.2), ('k=8', 81.89999999999999), ('k=9', 77.51), ('k=10', 79.16)]\n",
      "Average =  78.217\n",
      "Std = 1.8792447951238276\n",
      "Model 1:\n",
      "[('k=1', 78.47), ('k=2', 77.92), ('k=3', 78.64999999999999), ('k=4', 80.47), ('k=5', 76.82), ('k=6', 78.64999999999999), ('k=7', 81.57), ('k=8', 81.54), ('k=9', 79.71000000000001), ('k=10', 80.44)]\n",
      "Average =  79.424\n",
      "Std = 1.4980667541868773\n",
      "Model 2:\n",
      "[('k=1', 80.66), ('k=2', 80.66), ('k=3', 81.2), ('k=4', 82.85), ('k=5', 79.56), ('k=6', 81.2), ('k=7', 80.66), ('k=8', 82.08), ('k=9', 81.17), ('k=10', 80.62)]\n",
      "Average =  81.066\n",
      "Std = 0.8496493394336263\n",
      "Model 3:\n",
      "[('k=1', 83.21), ('k=2', 82.3), ('k=3', 83.58), ('k=4', 84.11999999999999), ('k=5', 81.57), ('k=6', 81.57), ('k=7', 83.94), ('k=8', 85.00999999999999), ('k=9', 81.54), ('k=10', 83.36)]\n",
      "Average =  83.02\n",
      "Std = 1.1573936236216251\n",
      "Model 4:\n",
      "[('k=1', 85.22), ('k=2', 83.39), ('k=3', 84.11999999999999), ('k=4', 84.85000000000001), ('k=5', 82.85), ('k=6', 83.03), ('k=7', 86.86), ('k=8', 85.00999999999999), ('k=9', 84.64), ('k=10', 84.46000000000001)]\n",
      "Average =  84.44300000000001\n",
      "Std = 1.1277947508301327\n",
      "Model 5:\n",
      "[('k=1', 85.22), ('k=2', 85.39999999999999), ('k=3', 82.66), ('k=4', 87.03999999999999), ('k=5', 85.95), ('k=6', 82.85), ('k=7', 87.22999999999999), ('k=8', 85.92), ('k=9', 84.83000000000001), ('k=10', 84.64)]\n",
      "Average =  85.174\n",
      "Std = 1.4507115495507703\n",
      "Model 6:\n",
      "[('k=1', 86.5), ('k=2', 86.68), ('k=3', 83.94), ('k=4', 86.13), ('k=5', 85.77), ('k=6', 83.58), ('k=7', 84.85000000000001), ('k=8', 84.46000000000001), ('k=9', 85.37), ('k=10', 84.64)]\n",
      "Average =  85.192\n",
      "Std = 1.0146013995653662\n",
      "Model 7:\n",
      "[('k=1', 88.14), ('k=2', 84.49), ('k=3', 84.31), ('k=4', 85.95), ('k=5', 85.95), ('k=6', 83.21), ('k=7', 86.31), ('k=8', 85.92), ('k=9', 87.39), ('k=10', 85.92)]\n",
      "Average =  85.75899999999999\n",
      "Std = 1.377137974205927\n",
      "Model 8:\n",
      "[('k=1', 87.59), ('k=2', 85.95), ('k=3', 85.04), ('k=4', 86.31), ('k=5', 88.5), ('k=6', 82.66), ('k=7', 84.11999999999999), ('k=8', 86.65), ('k=9', 87.57000000000001), ('k=10', 86.11)]\n",
      "Average =  86.05\n",
      "Std = 1.6541704869813174\n",
      "Model 9:\n",
      "[('k=1', 88.14), ('k=2', 87.41), ('k=3', 86.5), ('k=4', 87.59), ('k=5', 89.78), ('k=6', 85.04), ('k=7', 86.5), ('k=8', 87.02), ('k=9', 88.12), ('k=10', 86.29)]\n",
      "Average =  87.239\n",
      "Std = 1.2277414222872818\n",
      "Model 10:\n",
      "[('k=1', 94.16), ('k=2', 89.60000000000001), ('k=3', 91.97), ('k=4', 91.42), ('k=5', 90.14999999999999), ('k=6', 92.15), ('k=7', 89.23), ('k=8', 89.21), ('k=9', 93.60000000000001), ('k=10', 90.68)]\n",
      "Average =  91.21700000000001\n",
      "Std = 1.6684247061225155\n",
      "Model 11:\n",
      "[('k=1', 95.8), ('k=2', 93.43), ('k=3', 95.44), ('k=4', 94.71000000000001), ('k=5', 93.07), ('k=6', 94.89), ('k=7', 91.79), ('k=8', 92.86999999999999), ('k=9', 95.61), ('k=10', 95.61)]\n",
      "Average =  94.322\n",
      "Std = 1.3456582032596536\n",
      "Model 12:\n",
      "[('k=1', 97.99), ('k=2', 97.63), ('k=3', 97.08), ('k=4', 97.45), ('k=5', 97.26), ('k=6', 97.63), ('k=7', 96.17), ('k=8', 98.17), ('k=9', 98.72), ('k=10', 97.07000000000001)]\n",
      "Average =  97.51700000000001\n",
      "Std = 0.6632201746026714\n",
      "Model 13:\n",
      "[('k=1', 98.72), ('k=2', 99.09), ('k=3', 98.36), ('k=4', 98.54), ('k=5', 98.54), ('k=6', 98.18), ('k=7', 98.18), ('k=8', 98.9), ('k=9', 99.27), ('k=10', 98.35000000000001)]\n",
      "Average =  98.61300000000001\n",
      "Std = 0.3566244523304569\n"
     ]
    }
   ],
   "source": [
    "j=0\n",
    "for i in [d0,d1,d2,d3,d4,d5,d6,d7,d8,d9,d10,d11,d12,d13]:\n",
    "    print('Model %d:'%j)\n",
    "    print(list(zip(['k=1','k=2','k=3','k=4','k=5','k=6','k=7','k=8','k=9','k=10'],log(i))))\n",
    "    print('Average = ', np.mean(log(i)))\n",
    "    print('Std =', np.std(log(i)))\n",
    "    j +=1\n",
    "\n"
   ]
  },
  {
   "cell_type": "markdown",
   "metadata": {},
   "source": [
    "As we can see from above shown table, our models have almost consistent accuracy among their 10 folds. Also, another fact that seems to be interesting is that as the models number increases average accuracy is almost increasing. For instance, for the last model(model 13), which the first 14 columns are labeled as 1 and column 15 is labeled as 0, the accuracy of 98.631 which is very high number. However, we all know that having a high accuracy does not mean necessarily we have a good model. This is due to the fact that we might be able to fit a good model to our training sets, which will reduce the bias and makes the model complex, but we are not sure if the model captures the test set quite accurately. Therefore, we have reduced the bias, but increased the variance significantly. In the next part, we are going to tune our model see, which solver and what Parameter C would improve our model. Before jumping to the 5th part of assignment, we need to first tune or model and then take the probabilities of each bucket. At the end, we are able to test our model to see what is the accuracy of our test set. But from the above mentioned ideas, we can say that our model is complex and over-fitted. This means, we will have a low bias, but our variance is significantly high. If we reduce number of variables to half, we can reduce the complexity of our model. However, this will increase our bias, since we are making some simplifying assumptions, but in the meantime, we are decreasing variance too. So, we can say there is a tradeoff that we need to consider."
   ]
  },
  {
   "cell_type": "markdown",
   "metadata": {},
   "source": [
    "## 4. Summary\n",
    "In the implementing part, we know that since we have 15 buckets, we need to have 14 binary models. For instace, the first model would have the first bucket as 1 and the all 14 other buckets as 0. The model would calculate the probability for both classes. For the next model, we would have the first two buckets as 0 and the rest as 1. The probability of the second model class 0 minus probability of the first model calss 0, will give us the probability of the second class. With the same procedure, we would find all the buckets' probability in the next section. We defined a function that uses 10-fold cross-validation to implement the model and run it over a loop to get the 14 models at the end. The results of each of the models are shown above. We can interpret that as the index of model increases, the accuracy would also increase. meaning that our models are overfitted and they are quite complex models since they involve many features. However, this would reduce our bias but at the same time it is increasing our variance significantly. By reducing number of features weare able to reduce the variance which would increase the bias. However, since our data set includes different countries that have different GPD and average salary, our model is not able to capture the trend very well. Therefore, if we only focused on a single country, or at least a number of countries that have a similar characteristics, we would be able to increase our accuracy on both on the training set and test set.\n"
   ]
  },
  {
   "cell_type": "markdown",
   "metadata": {},
   "source": [
    "## 5. Model Tuning\n",
    "Optimize Model: Grid Search\n",
    "Grid searching is a well known method for selecting hyperparameters that optimize your model. Hyper-parameters are parameters that are not directly learnt within estimators. In scikit-learn they are passed as arguments to the constructor of the estimator classes\n",
    "\n",
    "Grid search just builds several models with all the parameter combinations specified, and runs cross validation to return the set of parameters that had the highest cv score on the validation set. Sklearn has a GridSearchCV function that does all this. As other part of assignemt, we are using accuracy metric for our analysis of the model."
   ]
  },
  {
   "cell_type": "code",
   "execution_count": 101,
   "metadata": {},
   "outputs": [],
   "source": [
    "def grid_s(data_set):\n",
    "    \n",
    "    X = data_set.drop(['Q10_Encoded'],axis=1)\n",
    "    y = data_set['Q10_Encoded']\n",
    "\n",
    "    model = LogisticRegression()\n",
    "    scaler = StandardScaler()\n",
    "    kfold = KFold(n_splits=10)\n",
    "    kfold.get_n_splits(X)\n",
    "\n",
    "    best_model = model\n",
    "    best_params = {}\n",
    "    best_accuracy = 0\n",
    "    best_std = 0\n",
    "    \n",
    "    best_parameters = []\n",
    "\n",
    "    for C in [0.001,0.01,0.05,0.1,0.5,1,5,10,100]:\n",
    "        for solver in ['newton-cg','lbfgs','liblinear','sag']:\n",
    "\n",
    "            model = LogisticRegression(C=C, solver=solver)\n",
    "            accuracy = np.zeros(10)\n",
    "            np_idx = 0\n",
    "\n",
    "            for train_idx, test_idx in kfold.split(X):\n",
    "                X_train, X_test = X.values[train_idx], X.values[test_idx]\n",
    "                y_train, y_test = y.values[train_idx], y.values[test_idx]\n",
    "\n",
    "                X_train = scaler.fit_transform(X_train)\n",
    "                X_test = scaler.transform(X_test)\n",
    "\n",
    "                model.fit(X_train, y_train)\n",
    "\n",
    "                predictions = model.predict(X_test)\n",
    "\n",
    "                TN = confusion_matrix(y_test, predictions)[0][0]\n",
    "                FP = confusion_matrix(y_test, predictions)[0][1]\n",
    "                FN = confusion_matrix(y_test, predictions)[1][0]\n",
    "                TP = confusion_matrix(y_test, predictions)[1][1]\n",
    "                total = TN + FP + FN + TP\n",
    "                ACC = (TP + TN) / float(total)\n",
    "\n",
    "                accuracy[np_idx] = ACC*100\n",
    "                np_idx += 1\n",
    "\n",
    "            if np.mean(accuracy) > best_accuracy:\n",
    "                best_model = model\n",
    "                best_params = {'C':C, 'solver':solver}\n",
    "                best_accuracy = np.mean(accuracy)\n",
    "                best_std = np.std(accuracy)\n",
    "\n",
    "    best_parameters.append(best_params['C'])\n",
    "    best_parameters.append(best_params['solver'])\n",
    "    best_parameters.append(best_accuracy)\n",
    "    best_parameters.append(best_std)\n",
    "\n",
    "    return best_parameters\n",
    "    \n",
    "    return grid_s"
   ]
  },
  {
   "cell_type": "code",
   "execution_count": 102,
   "metadata": {},
   "outputs": [],
   "source": [
    "#grids=[]\n",
    "\n",
    "#for i in [d0,d1,d2,d3,d4,d5,d6,d7,d8,d9,d10,d11,d12,d13]:\n",
    "   # grids.append(grid_s(i))"
   ]
  },
  {
   "cell_type": "code",
   "execution_count": 103,
   "metadata": {
    "scrolled": false
   },
   "outputs": [],
   "source": [
    "#df_grids = pd.DataFrame(grids, index=['Model {}'.format(i) for i in range(1,len(grids)+1)], \n",
    "#             columns=['C', \"Solver\", 'Best Accuracy', 'Best std'])\n",
    "\n",
    "\n",
    "#df_grids['Best Accuracy']=df_grids['Best Accuracy'].apply(lambda x: '{}%'.format(round(x,2)))\n",
    "\n",
    "#df_grids"
   ]
  },
  {
   "cell_type": "markdown",
   "metadata": {},
   "source": [
    "From aboved table, we can see for what value of C and what kind of solver, we would have the highest accuracy. Based on the tuned model, we are going to build our model and find the probability of each bucket in the next part. If you did not run the model, the best parameters that are tuned are shown in the model#_optimized. (The table might have disappeared since I have rerun the code and made it as comment since it  would take a long time to run. However, I put the optimal values in the following model implemenation.)\n",
    "In the next part, we are going to use the training data to implement our model and based on the test set, optimal hyperparameters and optimal solver, we calculate the probability of each model. For consistency with other parts, we used accuracy as our metric."
   ]
  },
  {
   "cell_type": "code",
   "execution_count": 104,
   "metadata": {},
   "outputs": [],
   "source": [
    "X = df_Test.drop(['Q10_Encoded'],axis=1)\n",
    "y = df_Test['Q10_Encoded']\n",
    "X1 = df_Train.drop(['Q10_Encoded'],axis=1)"
   ]
  },
  {
   "cell_type": "code",
   "execution_count": 105,
   "metadata": {},
   "outputs": [],
   "source": [
    "scaler = StandardScaler()\n",
    "X1_scaled = scaler.fit_transform(X1)\n",
    "X_scaled = scaler.transform(X)\n"
   ]
  },
  {
   "cell_type": "code",
   "execution_count": 106,
   "metadata": {},
   "outputs": [],
   "source": [
    "#model1_optimized with accuracy 78.58 and std 1.57\n",
    "y1 = d0.Q10_Encoded\n",
    "X1= d0.drop('Q10_Encoded',1)\n",
    "reg1 = LogisticRegression(random_state=42, C=0.01, solver='newton-cg')\n",
    "reg1.fit(X1, y1)\n",
    "p1= reg1.predict_proba(X_scaled)"
   ]
  },
  {
   "cell_type": "code",
   "execution_count": 107,
   "metadata": {},
   "outputs": [],
   "source": [
    "#model2_optimized with accuracy 79.5% and std 1.55\n",
    "y2 = d1.Q10_Encoded\n",
    "X2= d1.drop('Q10_Encoded',1)\n",
    "reg2 = LogisticRegression(random_state=42, C=0.05, solver='newton-cg')\n",
    "reg2.fit(X2, y2)\n",
    "p2= reg2.predict_proba(X_scaled)"
   ]
  },
  {
   "cell_type": "code",
   "execution_count": 108,
   "metadata": {},
   "outputs": [],
   "source": [
    "#model3_optimized with accuracy 81.18% and std 1.55\n",
    "y3 = d2.Q10_Encoded\n",
    "X3= d2.drop('Q10_Encoded',1)\n",
    "reg3 = LogisticRegression(random_state=42, C=0.100, solver='newton-cg')\n",
    "reg3.fit(X3, y3)\n",
    "p3= reg3.predict_proba(X_scaled)"
   ]
  },
  {
   "cell_type": "code",
   "execution_count": 109,
   "metadata": {},
   "outputs": [],
   "source": [
    "#model4_optimized with accuracy 83.06% and std 1.23\n",
    "y4 = d3.Q10_Encoded\n",
    "X4= d3.drop('Q10_Encoded',1)\n",
    "reg4 = LogisticRegression(random_state=42, C=0.050, solver='newton-cg')\n",
    "reg4.fit(X4, y4)\n",
    "p4= reg4.predict_proba(X_scaled)"
   ]
  },
  {
   "cell_type": "code",
   "execution_count": 110,
   "metadata": {},
   "outputs": [],
   "source": [
    "#model5_optimized with accuracy 84.5 and std .98\n",
    "y5 = d4.Q10_Encoded\n",
    "X5= d4.drop('Q10_Encoded',1)\n",
    "reg5 = LogisticRegression(random_state=42, C=0.05, solver='liblinear')\n",
    "reg5.fit(X5, y5)\n",
    "p5= reg5.predict_proba(X_scaled)"
   ]
  },
  {
   "cell_type": "code",
   "execution_count": 111,
   "metadata": {},
   "outputs": [],
   "source": [
    "#model6_optimized with accuracy 85.17 and std 1.45\n",
    "y6 = d5.Q10_Encoded\n",
    "X6= d5.drop('Q10_Encoded',1)\n",
    "reg6 = LogisticRegression(random_state=42, C=1, solver='newton-cg')\n",
    "reg6.fit(X6, y6)\n",
    "p6= reg6.predict_proba(X_scaled)"
   ]
  },
  {
   "cell_type": "code",
   "execution_count": 112,
   "metadata": {},
   "outputs": [],
   "source": [
    "#model7_optimized with accuracy 85.59 and std 1.28\n",
    "y7 = d6.Q10_Encoded\n",
    "X7= d6.drop('Q10_Encoded',1)\n",
    "reg7 = LogisticRegression(random_state=42, C=0.01, solver='liblinear')\n",
    "reg7.fit(X7, y7)\n",
    "p7= reg7.predict_proba(X_scaled)"
   ]
  },
  {
   "cell_type": "code",
   "execution_count": 113,
   "metadata": {},
   "outputs": [],
   "source": [
    "#model8_optimized with accuracy 85.76 and std 1.37\n",
    "y8 = d7.Q10_Encoded\n",
    "X8= d7.drop('Q10_Encoded',1)\n",
    "reg8 = LogisticRegression(random_state=42, C=1, solver='liblinear')\n",
    "reg8.fit(X8, y8)\n",
    "p8= reg8.predict_proba(X_scaled)"
   ]
  },
  {
   "cell_type": "code",
   "execution_count": 114,
   "metadata": {},
   "outputs": [],
   "source": [
    "#model9_optimized with accuracy 86.11 and std 1.89\n",
    "y9 = d8.Q10_Encoded\n",
    "X9= d8.drop('Q10_Encoded',1)\n",
    "reg9 = LogisticRegression(random_state=42, C=0.05, solver='liblinear')\n",
    "reg9.fit(X9, y9)\n",
    "p9= reg9.predict_proba(X_scaled)"
   ]
  },
  {
   "cell_type": "code",
   "execution_count": 115,
   "metadata": {},
   "outputs": [],
   "source": [
    "#model10_optimized with accuracy 87.53 and std .99\n",
    "y10 = d9.Q10_Encoded\n",
    "X10= d9.drop('Q10_Encoded',1)\n",
    "reg10 = LogisticRegression(random_state=42, C=0.01, solver='newton-cg')\n",
    "reg10.fit(X10, y10)\n",
    "p10= reg10.predict_proba(X_scaled)"
   ]
  },
  {
   "cell_type": "code",
   "execution_count": 116,
   "metadata": {},
   "outputs": [],
   "source": [
    "#model11_optimized with accuracy 91.49 and std 1.68\n",
    "y11 = d10.Q10_Encoded\n",
    "X11= d10.drop('Q10_Encoded',1)\n",
    "reg11 = LogisticRegression(random_state=42, C=0.05, solver='newton-cg')\n",
    "reg11.fit(X11, y11)\n",
    "p11= reg11.predict_proba(X_scaled)"
   ]
  },
  {
   "cell_type": "code",
   "execution_count": 117,
   "metadata": {},
   "outputs": [],
   "source": [
    "#model12_optimized with accuracy 94.41 and std 1.38\n",
    "y12 = d11.Q10_Encoded\n",
    "X12= d11.drop('Q10_Encoded',1)\n",
    "reg12 = LogisticRegression(random_state=42, C=0.05, solver='liblinear')\n",
    "reg12.fit(X12, y12)\n",
    "p12= reg12.predict_proba(X_scaled)"
   ]
  },
  {
   "cell_type": "code",
   "execution_count": 118,
   "metadata": {},
   "outputs": [],
   "source": [
    "#model13_optimized with accuracy 97.64 and std 0.66\n",
    "y13 = d12.Q10_Encoded\n",
    "X13= d12.drop('Q10_Encoded',1)\n",
    "reg13 = LogisticRegression(random_state=42, C=0.001, solver='newton-cg')\n",
    "reg13.fit(X13, y13)\n",
    "p13= reg13.predict_proba(X_scaled)"
   ]
  },
  {
   "cell_type": "code",
   "execution_count": 119,
   "metadata": {},
   "outputs": [],
   "source": [
    "#model14_optimized with accuracy 98.76 and std 0.38\n",
    "y14 = d13.Q10_Encoded\n",
    "X14= d13.drop('Q10_Encoded',1)\n",
    "reg14 = LogisticRegression(random_state=42, C=0.001, solver='newton-cg')\n",
    "reg14.fit(X14, y14)\n",
    "p14= reg14.predict_proba(X_scaled)"
   ]
  },
  {
   "cell_type": "markdown",
   "metadata": {},
   "source": [
    "Now, we are going to find the probability of each bucket with the procedure explain before. "
   ]
  },
  {
   "cell_type": "markdown",
   "metadata": {},
   "source": [
    "## 6. Testing and discussion\n",
    "In this part of assignment, since we have all the probabilities of each model we can calculate the whole probability of each bucket. The following list would contain the probabilities and as we said in all the models we need to only deduct one of the classes. "
   ]
  },
  {
   "cell_type": "code",
   "execution_count": 120,
   "metadata": {
    "scrolled": false
   },
   "outputs": [
    {
     "data": {
      "text/html": [
       "<div>\n",
       "<style scoped>\n",
       "    .dataframe tbody tr th:only-of-type {\n",
       "        vertical-align: middle;\n",
       "    }\n",
       "\n",
       "    .dataframe tbody tr th {\n",
       "        vertical-align: top;\n",
       "    }\n",
       "\n",
       "    .dataframe thead th {\n",
       "        text-align: right;\n",
       "    }\n",
       "</style>\n",
       "<table border=\"1\" class=\"dataframe\">\n",
       "  <thead>\n",
       "    <tr style=\"text-align: right;\">\n",
       "      <th>Bucket Probability</th>\n",
       "      <th>Bucket 0</th>\n",
       "      <th>Bucket 1</th>\n",
       "      <th>Bucket 2</th>\n",
       "      <th>Bucket 3</th>\n",
       "      <th>Bucket 4</th>\n",
       "      <th>Bucket 5</th>\n",
       "      <th>Bucket 6</th>\n",
       "      <th>Bucket 7</th>\n",
       "      <th>Bucket 8</th>\n",
       "      <th>Bucket 9</th>\n",
       "      <th>Bucket 10</th>\n",
       "      <th>Bucket 11</th>\n",
       "      <th>Bucket 12</th>\n",
       "      <th>Bucket 13</th>\n",
       "      <th>Bucket 14</th>\n",
       "    </tr>\n",
       "    <tr>\n",
       "      <th>samples</th>\n",
       "      <th></th>\n",
       "      <th></th>\n",
       "      <th></th>\n",
       "      <th></th>\n",
       "      <th></th>\n",
       "      <th></th>\n",
       "      <th></th>\n",
       "      <th></th>\n",
       "      <th></th>\n",
       "      <th></th>\n",
       "      <th></th>\n",
       "      <th></th>\n",
       "      <th></th>\n",
       "      <th></th>\n",
       "      <th></th>\n",
       "    </tr>\n",
       "  </thead>\n",
       "  <tbody>\n",
       "    <tr>\n",
       "      <th>0</th>\n",
       "      <td>0.934374</td>\n",
       "      <td>0.063195</td>\n",
       "      <td>0.002091</td>\n",
       "      <td>0.000000e+00</td>\n",
       "      <td>0.000000</td>\n",
       "      <td>0.535220</td>\n",
       "      <td>0.000000</td>\n",
       "      <td>0.068584</td>\n",
       "      <td>0.000000</td>\n",
       "      <td>0.551200</td>\n",
       "      <td>0.000000</td>\n",
       "      <td>0.000000</td>\n",
       "      <td>0.572432</td>\n",
       "      <td>0.0</td>\n",
       "      <td>0.029114</td>\n",
       "    </tr>\n",
       "    <tr>\n",
       "      <th>1</th>\n",
       "      <td>0.993799</td>\n",
       "      <td>0.006083</td>\n",
       "      <td>0.000023</td>\n",
       "      <td>0.000000e+00</td>\n",
       "      <td>0.000000</td>\n",
       "      <td>0.454837</td>\n",
       "      <td>0.000000</td>\n",
       "      <td>0.000000</td>\n",
       "      <td>0.028429</td>\n",
       "      <td>0.447082</td>\n",
       "      <td>0.000000</td>\n",
       "      <td>0.000000</td>\n",
       "      <td>0.442877</td>\n",
       "      <td>0.0</td>\n",
       "      <td>0.023285</td>\n",
       "    </tr>\n",
       "    <tr>\n",
       "      <th>2</th>\n",
       "      <td>0.992006</td>\n",
       "      <td>0.007892</td>\n",
       "      <td>0.000086</td>\n",
       "      <td>0.000000e+00</td>\n",
       "      <td>0.000000</td>\n",
       "      <td>0.489529</td>\n",
       "      <td>0.000000</td>\n",
       "      <td>0.000000</td>\n",
       "      <td>0.029453</td>\n",
       "      <td>0.467300</td>\n",
       "      <td>0.000000</td>\n",
       "      <td>0.000000</td>\n",
       "      <td>0.428466</td>\n",
       "      <td>0.0</td>\n",
       "      <td>0.026652</td>\n",
       "    </tr>\n",
       "    <tr>\n",
       "      <th>3</th>\n",
       "      <td>0.973206</td>\n",
       "      <td>0.018066</td>\n",
       "      <td>0.000000</td>\n",
       "      <td>2.563186e-02</td>\n",
       "      <td>0.000000</td>\n",
       "      <td>0.218101</td>\n",
       "      <td>0.000000</td>\n",
       "      <td>0.000000</td>\n",
       "      <td>0.037599</td>\n",
       "      <td>0.429258</td>\n",
       "      <td>0.000000</td>\n",
       "      <td>0.000000</td>\n",
       "      <td>0.424532</td>\n",
       "      <td>0.0</td>\n",
       "      <td>0.024947</td>\n",
       "    </tr>\n",
       "    <tr>\n",
       "      <th>4</th>\n",
       "      <td>0.561616</td>\n",
       "      <td>0.000000</td>\n",
       "      <td>0.000000</td>\n",
       "      <td>2.264584e-01</td>\n",
       "      <td>0.194812</td>\n",
       "      <td>0.000000</td>\n",
       "      <td>0.536355</td>\n",
       "      <td>0.000000</td>\n",
       "      <td>0.014342</td>\n",
       "      <td>0.446567</td>\n",
       "      <td>0.000000</td>\n",
       "      <td>0.000000</td>\n",
       "      <td>0.452289</td>\n",
       "      <td>0.0</td>\n",
       "      <td>0.027196</td>\n",
       "    </tr>\n",
       "    <tr>\n",
       "      <th>5</th>\n",
       "      <td>0.915683</td>\n",
       "      <td>0.000000</td>\n",
       "      <td>0.000000</td>\n",
       "      <td>3.833197e-01</td>\n",
       "      <td>0.000000</td>\n",
       "      <td>0.000000</td>\n",
       "      <td>0.483768</td>\n",
       "      <td>0.020002</td>\n",
       "      <td>0.001109</td>\n",
       "      <td>0.488780</td>\n",
       "      <td>0.000000</td>\n",
       "      <td>0.000000</td>\n",
       "      <td>0.496464</td>\n",
       "      <td>0.0</td>\n",
       "      <td>0.025405</td>\n",
       "    </tr>\n",
       "    <tr>\n",
       "      <th>6</th>\n",
       "      <td>0.904089</td>\n",
       "      <td>0.092943</td>\n",
       "      <td>0.002664</td>\n",
       "      <td>0.000000e+00</td>\n",
       "      <td>0.000000</td>\n",
       "      <td>0.501160</td>\n",
       "      <td>0.000000</td>\n",
       "      <td>0.000000</td>\n",
       "      <td>0.007113</td>\n",
       "      <td>0.488170</td>\n",
       "      <td>0.002068</td>\n",
       "      <td>0.000000</td>\n",
       "      <td>0.459137</td>\n",
       "      <td>0.0</td>\n",
       "      <td>0.025943</td>\n",
       "    </tr>\n",
       "    <tr>\n",
       "      <th>7</th>\n",
       "      <td>0.917104</td>\n",
       "      <td>0.000000</td>\n",
       "      <td>0.000000</td>\n",
       "      <td>1.759592e-01</td>\n",
       "      <td>0.000000</td>\n",
       "      <td>0.000000</td>\n",
       "      <td>0.504324</td>\n",
       "      <td>0.000000</td>\n",
       "      <td>0.003834</td>\n",
       "      <td>0.497829</td>\n",
       "      <td>0.000000</td>\n",
       "      <td>0.000000</td>\n",
       "      <td>0.472547</td>\n",
       "      <td>0.0</td>\n",
       "      <td>0.026182</td>\n",
       "    </tr>\n",
       "    <tr>\n",
       "      <th>8</th>\n",
       "      <td>0.859042</td>\n",
       "      <td>0.000000</td>\n",
       "      <td>0.000000</td>\n",
       "      <td>3.792465e-01</td>\n",
       "      <td>0.000000</td>\n",
       "      <td>0.000000</td>\n",
       "      <td>0.502126</td>\n",
       "      <td>0.010493</td>\n",
       "      <td>0.007467</td>\n",
       "      <td>0.474404</td>\n",
       "      <td>0.000000</td>\n",
       "      <td>0.000000</td>\n",
       "      <td>0.466674</td>\n",
       "      <td>0.0</td>\n",
       "      <td>0.024760</td>\n",
       "    </tr>\n",
       "    <tr>\n",
       "      <th>9</th>\n",
       "      <td>0.858053</td>\n",
       "      <td>0.000000</td>\n",
       "      <td>0.000000</td>\n",
       "      <td>4.092365e-01</td>\n",
       "      <td>0.000000</td>\n",
       "      <td>0.000000</td>\n",
       "      <td>0.461709</td>\n",
       "      <td>0.033040</td>\n",
       "      <td>0.000000</td>\n",
       "      <td>0.512641</td>\n",
       "      <td>0.000000</td>\n",
       "      <td>0.000000</td>\n",
       "      <td>0.514347</td>\n",
       "      <td>0.0</td>\n",
       "      <td>0.027434</td>\n",
       "    </tr>\n",
       "    <tr>\n",
       "      <th>10</th>\n",
       "      <td>0.764619</td>\n",
       "      <td>0.069842</td>\n",
       "      <td>0.162531</td>\n",
       "      <td>1.502131e-03</td>\n",
       "      <td>0.000000</td>\n",
       "      <td>0.541524</td>\n",
       "      <td>0.000000</td>\n",
       "      <td>0.129391</td>\n",
       "      <td>0.000000</td>\n",
       "      <td>0.565312</td>\n",
       "      <td>0.000000</td>\n",
       "      <td>0.000000</td>\n",
       "      <td>0.598013</td>\n",
       "      <td>0.0</td>\n",
       "      <td>0.030160</td>\n",
       "    </tr>\n",
       "    <tr>\n",
       "      <th>11</th>\n",
       "      <td>0.972218</td>\n",
       "      <td>0.021767</td>\n",
       "      <td>0.002685</td>\n",
       "      <td>0.000000e+00</td>\n",
       "      <td>0.000000</td>\n",
       "      <td>0.573700</td>\n",
       "      <td>0.000000</td>\n",
       "      <td>0.172631</td>\n",
       "      <td>0.000000</td>\n",
       "      <td>0.619538</td>\n",
       "      <td>0.000000</td>\n",
       "      <td>0.000000</td>\n",
       "      <td>0.672804</td>\n",
       "      <td>0.0</td>\n",
       "      <td>0.035233</td>\n",
       "    </tr>\n",
       "    <tr>\n",
       "      <th>12</th>\n",
       "      <td>0.859013</td>\n",
       "      <td>0.105429</td>\n",
       "      <td>0.025317</td>\n",
       "      <td>5.108164e-03</td>\n",
       "      <td>0.000000</td>\n",
       "      <td>0.461654</td>\n",
       "      <td>0.000000</td>\n",
       "      <td>0.000000</td>\n",
       "      <td>0.016843</td>\n",
       "      <td>0.461520</td>\n",
       "      <td>0.000000</td>\n",
       "      <td>0.000000</td>\n",
       "      <td>0.460306</td>\n",
       "      <td>0.0</td>\n",
       "      <td>0.023897</td>\n",
       "    </tr>\n",
       "    <tr>\n",
       "      <th>13</th>\n",
       "      <td>0.629362</td>\n",
       "      <td>0.000000</td>\n",
       "      <td>0.000000</td>\n",
       "      <td>3.253831e-01</td>\n",
       "      <td>0.094921</td>\n",
       "      <td>0.000000</td>\n",
       "      <td>0.561280</td>\n",
       "      <td>0.000000</td>\n",
       "      <td>0.012264</td>\n",
       "      <td>0.463001</td>\n",
       "      <td>0.000000</td>\n",
       "      <td>0.000000</td>\n",
       "      <td>0.460305</td>\n",
       "      <td>0.0</td>\n",
       "      <td>0.030128</td>\n",
       "    </tr>\n",
       "    <tr>\n",
       "      <th>14</th>\n",
       "      <td>0.872808</td>\n",
       "      <td>0.000000</td>\n",
       "      <td>0.231522</td>\n",
       "      <td>8.106715e-03</td>\n",
       "      <td>0.000000</td>\n",
       "      <td>0.515805</td>\n",
       "      <td>0.000000</td>\n",
       "      <td>0.074060</td>\n",
       "      <td>0.000000</td>\n",
       "      <td>0.523300</td>\n",
       "      <td>0.000000</td>\n",
       "      <td>0.000000</td>\n",
       "      <td>0.530699</td>\n",
       "      <td>0.0</td>\n",
       "      <td>0.028548</td>\n",
       "    </tr>\n",
       "    <tr>\n",
       "      <th>15</th>\n",
       "      <td>0.929600</td>\n",
       "      <td>0.044107</td>\n",
       "      <td>0.004862</td>\n",
       "      <td>1.073497e-02</td>\n",
       "      <td>0.000000</td>\n",
       "      <td>0.237175</td>\n",
       "      <td>0.000000</td>\n",
       "      <td>0.000000</td>\n",
       "      <td>0.019712</td>\n",
       "      <td>0.471729</td>\n",
       "      <td>0.000289</td>\n",
       "      <td>0.000000</td>\n",
       "      <td>0.470900</td>\n",
       "      <td>0.0</td>\n",
       "      <td>0.024480</td>\n",
       "    </tr>\n",
       "    <tr>\n",
       "      <th>16</th>\n",
       "      <td>0.611100</td>\n",
       "      <td>0.000000</td>\n",
       "      <td>0.000000</td>\n",
       "      <td>1.310161e-01</td>\n",
       "      <td>0.319207</td>\n",
       "      <td>0.000000</td>\n",
       "      <td>0.130969</td>\n",
       "      <td>0.000000</td>\n",
       "      <td>0.000000</td>\n",
       "      <td>0.526042</td>\n",
       "      <td>0.000468</td>\n",
       "      <td>0.000000</td>\n",
       "      <td>0.474035</td>\n",
       "      <td>0.0</td>\n",
       "      <td>0.029577</td>\n",
       "    </tr>\n",
       "    <tr>\n",
       "      <th>17</th>\n",
       "      <td>0.777778</td>\n",
       "      <td>0.000000</td>\n",
       "      <td>0.000000</td>\n",
       "      <td>2.619305e-01</td>\n",
       "      <td>0.000000</td>\n",
       "      <td>0.000000</td>\n",
       "      <td>0.459274</td>\n",
       "      <td>0.009333</td>\n",
       "      <td>0.000000</td>\n",
       "      <td>0.532703</td>\n",
       "      <td>0.000000</td>\n",
       "      <td>0.000000</td>\n",
       "      <td>0.547183</td>\n",
       "      <td>0.0</td>\n",
       "      <td>0.031535</td>\n",
       "    </tr>\n",
       "    <tr>\n",
       "      <th>18</th>\n",
       "      <td>0.940084</td>\n",
       "      <td>0.035765</td>\n",
       "      <td>0.009963</td>\n",
       "      <td>5.107334e-03</td>\n",
       "      <td>0.000000</td>\n",
       "      <td>0.030532</td>\n",
       "      <td>0.000699</td>\n",
       "      <td>0.000000</td>\n",
       "      <td>0.000000</td>\n",
       "      <td>0.534344</td>\n",
       "      <td>0.000000</td>\n",
       "      <td>0.000000</td>\n",
       "      <td>0.515891</td>\n",
       "      <td>0.0</td>\n",
       "      <td>0.030204</td>\n",
       "    </tr>\n",
       "    <tr>\n",
       "      <th>19</th>\n",
       "      <td>0.929640</td>\n",
       "      <td>0.068162</td>\n",
       "      <td>0.002054</td>\n",
       "      <td>0.000000e+00</td>\n",
       "      <td>0.000000</td>\n",
       "      <td>0.515234</td>\n",
       "      <td>0.000000</td>\n",
       "      <td>0.035906</td>\n",
       "      <td>0.000000</td>\n",
       "      <td>0.510600</td>\n",
       "      <td>0.000000</td>\n",
       "      <td>0.000000</td>\n",
       "      <td>0.500363</td>\n",
       "      <td>0.0</td>\n",
       "      <td>0.026616</td>\n",
       "    </tr>\n",
       "    <tr>\n",
       "      <th>20</th>\n",
       "      <td>0.672699</td>\n",
       "      <td>0.205255</td>\n",
       "      <td>0.087622</td>\n",
       "      <td>1.598509e-02</td>\n",
       "      <td>0.000000</td>\n",
       "      <td>0.480863</td>\n",
       "      <td>0.000000</td>\n",
       "      <td>0.000000</td>\n",
       "      <td>0.018138</td>\n",
       "      <td>0.466575</td>\n",
       "      <td>0.000000</td>\n",
       "      <td>0.000000</td>\n",
       "      <td>0.462002</td>\n",
       "      <td>0.0</td>\n",
       "      <td>0.025471</td>\n",
       "    </tr>\n",
       "    <tr>\n",
       "      <th>21</th>\n",
       "      <td>0.833928</td>\n",
       "      <td>0.000000</td>\n",
       "      <td>0.000000</td>\n",
       "      <td>3.491314e-01</td>\n",
       "      <td>0.000000</td>\n",
       "      <td>0.000000</td>\n",
       "      <td>0.453521</td>\n",
       "      <td>0.046272</td>\n",
       "      <td>0.000000</td>\n",
       "      <td>0.501421</td>\n",
       "      <td>0.000000</td>\n",
       "      <td>0.000000</td>\n",
       "      <td>0.506511</td>\n",
       "      <td>0.0</td>\n",
       "      <td>0.025555</td>\n",
       "    </tr>\n",
       "    <tr>\n",
       "      <th>22</th>\n",
       "      <td>0.627115</td>\n",
       "      <td>0.000000</td>\n",
       "      <td>0.000000</td>\n",
       "      <td>1.122039e-01</td>\n",
       "      <td>0.376337</td>\n",
       "      <td>0.000000</td>\n",
       "      <td>0.511527</td>\n",
       "      <td>0.004073</td>\n",
       "      <td>0.014959</td>\n",
       "      <td>0.424033</td>\n",
       "      <td>0.000000</td>\n",
       "      <td>0.000000</td>\n",
       "      <td>0.439901</td>\n",
       "      <td>0.0</td>\n",
       "      <td>0.023835</td>\n",
       "    </tr>\n",
       "    <tr>\n",
       "      <th>23</th>\n",
       "      <td>0.976802</td>\n",
       "      <td>0.015727</td>\n",
       "      <td>0.000000</td>\n",
       "      <td>5.812966e-03</td>\n",
       "      <td>0.000000</td>\n",
       "      <td>0.098985</td>\n",
       "      <td>0.000000</td>\n",
       "      <td>0.000000</td>\n",
       "      <td>0.006060</td>\n",
       "      <td>0.495967</td>\n",
       "      <td>0.000000</td>\n",
       "      <td>0.000000</td>\n",
       "      <td>0.504493</td>\n",
       "      <td>0.0</td>\n",
       "      <td>0.028603</td>\n",
       "    </tr>\n",
       "    <tr>\n",
       "      <th>24</th>\n",
       "      <td>0.900466</td>\n",
       "      <td>0.096052</td>\n",
       "      <td>0.003240</td>\n",
       "      <td>0.000000e+00</td>\n",
       "      <td>0.000000</td>\n",
       "      <td>0.505408</td>\n",
       "      <td>0.000000</td>\n",
       "      <td>0.000000</td>\n",
       "      <td>0.013475</td>\n",
       "      <td>0.494920</td>\n",
       "      <td>0.001028</td>\n",
       "      <td>0.000000</td>\n",
       "      <td>0.450278</td>\n",
       "      <td>0.0</td>\n",
       "      <td>0.027209</td>\n",
       "    </tr>\n",
       "    <tr>\n",
       "      <th>25</th>\n",
       "      <td>0.947235</td>\n",
       "      <td>0.000000</td>\n",
       "      <td>0.000000</td>\n",
       "      <td>1.207534e-01</td>\n",
       "      <td>0.000000</td>\n",
       "      <td>0.000000</td>\n",
       "      <td>0.556392</td>\n",
       "      <td>0.000000</td>\n",
       "      <td>0.019498</td>\n",
       "      <td>0.440876</td>\n",
       "      <td>0.000000</td>\n",
       "      <td>0.000000</td>\n",
       "      <td>0.418006</td>\n",
       "      <td>0.0</td>\n",
       "      <td>0.025443</td>\n",
       "    </tr>\n",
       "    <tr>\n",
       "      <th>26</th>\n",
       "      <td>0.990289</td>\n",
       "      <td>0.007434</td>\n",
       "      <td>0.001279</td>\n",
       "      <td>5.109276e-04</td>\n",
       "      <td>0.000000</td>\n",
       "      <td>0.336368</td>\n",
       "      <td>0.000000</td>\n",
       "      <td>0.000000</td>\n",
       "      <td>0.024787</td>\n",
       "      <td>0.464887</td>\n",
       "      <td>0.000077</td>\n",
       "      <td>0.000000</td>\n",
       "      <td>0.486240</td>\n",
       "      <td>0.0</td>\n",
       "      <td>0.026433</td>\n",
       "    </tr>\n",
       "    <tr>\n",
       "      <th>27</th>\n",
       "      <td>0.892285</td>\n",
       "      <td>0.087195</td>\n",
       "      <td>0.020436</td>\n",
       "      <td>0.000000e+00</td>\n",
       "      <td>0.000000</td>\n",
       "      <td>0.512231</td>\n",
       "      <td>0.000000</td>\n",
       "      <td>0.100428</td>\n",
       "      <td>0.000000</td>\n",
       "      <td>0.523080</td>\n",
       "      <td>0.000000</td>\n",
       "      <td>0.000000</td>\n",
       "      <td>0.541063</td>\n",
       "      <td>0.0</td>\n",
       "      <td>0.026972</td>\n",
       "    </tr>\n",
       "    <tr>\n",
       "      <th>28</th>\n",
       "      <td>0.993446</td>\n",
       "      <td>0.004677</td>\n",
       "      <td>0.000403</td>\n",
       "      <td>1.041497e-03</td>\n",
       "      <td>0.000000</td>\n",
       "      <td>0.388490</td>\n",
       "      <td>0.000000</td>\n",
       "      <td>0.000000</td>\n",
       "      <td>0.048365</td>\n",
       "      <td>0.425679</td>\n",
       "      <td>0.000072</td>\n",
       "      <td>0.000000</td>\n",
       "      <td>0.428442</td>\n",
       "      <td>0.0</td>\n",
       "      <td>0.023380</td>\n",
       "    </tr>\n",
       "    <tr>\n",
       "      <th>29</th>\n",
       "      <td>0.240231</td>\n",
       "      <td>0.000000</td>\n",
       "      <td>0.000000</td>\n",
       "      <td>1.261649e-02</td>\n",
       "      <td>0.454098</td>\n",
       "      <td>0.000000</td>\n",
       "      <td>0.435433</td>\n",
       "      <td>0.000000</td>\n",
       "      <td>0.003102</td>\n",
       "      <td>0.491707</td>\n",
       "      <td>0.000000</td>\n",
       "      <td>0.000000</td>\n",
       "      <td>0.477790</td>\n",
       "      <td>0.0</td>\n",
       "      <td>0.026851</td>\n",
       "    </tr>\n",
       "    <tr>\n",
       "      <th>...</th>\n",
       "      <td>...</td>\n",
       "      <td>...</td>\n",
       "      <td>...</td>\n",
       "      <td>...</td>\n",
       "      <td>...</td>\n",
       "      <td>...</td>\n",
       "      <td>...</td>\n",
       "      <td>...</td>\n",
       "      <td>...</td>\n",
       "      <td>...</td>\n",
       "      <td>...</td>\n",
       "      <td>...</td>\n",
       "      <td>...</td>\n",
       "      <td>...</td>\n",
       "      <td>...</td>\n",
       "    </tr>\n",
       "    <tr>\n",
       "      <th>2318</th>\n",
       "      <td>0.960355</td>\n",
       "      <td>0.000000</td>\n",
       "      <td>0.000000</td>\n",
       "      <td>1.494106e-01</td>\n",
       "      <td>0.000000</td>\n",
       "      <td>0.000000</td>\n",
       "      <td>0.589193</td>\n",
       "      <td>0.000000</td>\n",
       "      <td>0.044064</td>\n",
       "      <td>0.427597</td>\n",
       "      <td>0.000000</td>\n",
       "      <td>0.000000</td>\n",
       "      <td>0.414204</td>\n",
       "      <td>0.0</td>\n",
       "      <td>0.022915</td>\n",
       "    </tr>\n",
       "    <tr>\n",
       "      <th>2319</th>\n",
       "      <td>0.962773</td>\n",
       "      <td>0.019829</td>\n",
       "      <td>0.003572</td>\n",
       "      <td>8.685757e-03</td>\n",
       "      <td>0.000000</td>\n",
       "      <td>0.396355</td>\n",
       "      <td>0.000000</td>\n",
       "      <td>0.017519</td>\n",
       "      <td>0.000000</td>\n",
       "      <td>0.501519</td>\n",
       "      <td>0.000000</td>\n",
       "      <td>0.000000</td>\n",
       "      <td>0.518505</td>\n",
       "      <td>0.0</td>\n",
       "      <td>0.025930</td>\n",
       "    </tr>\n",
       "    <tr>\n",
       "      <th>2320</th>\n",
       "      <td>0.956063</td>\n",
       "      <td>0.000000</td>\n",
       "      <td>0.000000</td>\n",
       "      <td>1.186837e-01</td>\n",
       "      <td>0.000000</td>\n",
       "      <td>0.000000</td>\n",
       "      <td>0.554129</td>\n",
       "      <td>0.000000</td>\n",
       "      <td>0.019925</td>\n",
       "      <td>0.477923</td>\n",
       "      <td>0.000000</td>\n",
       "      <td>0.000000</td>\n",
       "      <td>0.467645</td>\n",
       "      <td>0.0</td>\n",
       "      <td>0.026666</td>\n",
       "    </tr>\n",
       "    <tr>\n",
       "      <th>2321</th>\n",
       "      <td>0.979776</td>\n",
       "      <td>0.013646</td>\n",
       "      <td>0.002049</td>\n",
       "      <td>3.169051e-03</td>\n",
       "      <td>0.000000</td>\n",
       "      <td>0.353723</td>\n",
       "      <td>0.000000</td>\n",
       "      <td>0.000000</td>\n",
       "      <td>0.023777</td>\n",
       "      <td>0.464755</td>\n",
       "      <td>0.000000</td>\n",
       "      <td>0.000000</td>\n",
       "      <td>0.471781</td>\n",
       "      <td>0.0</td>\n",
       "      <td>0.024697</td>\n",
       "    </tr>\n",
       "    <tr>\n",
       "      <th>2322</th>\n",
       "      <td>0.824309</td>\n",
       "      <td>0.000000</td>\n",
       "      <td>0.495429</td>\n",
       "      <td>1.550923e-01</td>\n",
       "      <td>0.000000</td>\n",
       "      <td>0.621593</td>\n",
       "      <td>0.000000</td>\n",
       "      <td>0.173581</td>\n",
       "      <td>0.000000</td>\n",
       "      <td>0.656714</td>\n",
       "      <td>0.000336</td>\n",
       "      <td>0.000000</td>\n",
       "      <td>0.669721</td>\n",
       "      <td>0.0</td>\n",
       "      <td>0.035842</td>\n",
       "    </tr>\n",
       "    <tr>\n",
       "      <th>2323</th>\n",
       "      <td>0.532828</td>\n",
       "      <td>0.000000</td>\n",
       "      <td>0.000000</td>\n",
       "      <td>1.629641e-01</td>\n",
       "      <td>0.231150</td>\n",
       "      <td>0.000000</td>\n",
       "      <td>0.454081</td>\n",
       "      <td>0.073594</td>\n",
       "      <td>0.000000</td>\n",
       "      <td>0.403448</td>\n",
       "      <td>0.000000</td>\n",
       "      <td>0.267883</td>\n",
       "      <td>0.432894</td>\n",
       "      <td>0.0</td>\n",
       "      <td>0.025177</td>\n",
       "    </tr>\n",
       "    <tr>\n",
       "      <th>2324</th>\n",
       "      <td>0.811919</td>\n",
       "      <td>0.088788</td>\n",
       "      <td>0.035450</td>\n",
       "      <td>4.243648e-02</td>\n",
       "      <td>0.000000</td>\n",
       "      <td>0.352198</td>\n",
       "      <td>0.000000</td>\n",
       "      <td>0.015195</td>\n",
       "      <td>0.000000</td>\n",
       "      <td>0.501540</td>\n",
       "      <td>0.000000</td>\n",
       "      <td>0.000000</td>\n",
       "      <td>0.511144</td>\n",
       "      <td>0.0</td>\n",
       "      <td>0.026803</td>\n",
       "    </tr>\n",
       "    <tr>\n",
       "      <th>2325</th>\n",
       "      <td>0.820997</td>\n",
       "      <td>0.130583</td>\n",
       "      <td>0.035953</td>\n",
       "      <td>1.959187e-03</td>\n",
       "      <td>0.000000</td>\n",
       "      <td>0.481562</td>\n",
       "      <td>0.000000</td>\n",
       "      <td>0.000000</td>\n",
       "      <td>0.017292</td>\n",
       "      <td>0.468661</td>\n",
       "      <td>0.000000</td>\n",
       "      <td>0.000000</td>\n",
       "      <td>0.470071</td>\n",
       "      <td>0.0</td>\n",
       "      <td>0.025849</td>\n",
       "    </tr>\n",
       "    <tr>\n",
       "      <th>2326</th>\n",
       "      <td>0.989028</td>\n",
       "      <td>0.009509</td>\n",
       "      <td>0.000395</td>\n",
       "      <td>6.339142e-04</td>\n",
       "      <td>0.000000</td>\n",
       "      <td>0.414321</td>\n",
       "      <td>0.000000</td>\n",
       "      <td>0.000000</td>\n",
       "      <td>0.024043</td>\n",
       "      <td>0.469911</td>\n",
       "      <td>0.000000</td>\n",
       "      <td>0.000000</td>\n",
       "      <td>0.494160</td>\n",
       "      <td>0.0</td>\n",
       "      <td>0.028404</td>\n",
       "    </tr>\n",
       "    <tr>\n",
       "      <th>2327</th>\n",
       "      <td>0.929604</td>\n",
       "      <td>0.043675</td>\n",
       "      <td>0.007522</td>\n",
       "      <td>7.695669e-03</td>\n",
       "      <td>0.000000</td>\n",
       "      <td>0.442577</td>\n",
       "      <td>0.000000</td>\n",
       "      <td>0.000000</td>\n",
       "      <td>0.013602</td>\n",
       "      <td>0.478673</td>\n",
       "      <td>0.000000</td>\n",
       "      <td>0.000000</td>\n",
       "      <td>0.472542</td>\n",
       "      <td>0.0</td>\n",
       "      <td>0.025896</td>\n",
       "    </tr>\n",
       "    <tr>\n",
       "      <th>2328</th>\n",
       "      <td>0.892089</td>\n",
       "      <td>0.000000</td>\n",
       "      <td>0.000000</td>\n",
       "      <td>6.076444e-02</td>\n",
       "      <td>0.484432</td>\n",
       "      <td>0.000000</td>\n",
       "      <td>0.599797</td>\n",
       "      <td>0.000000</td>\n",
       "      <td>0.043727</td>\n",
       "      <td>0.424231</td>\n",
       "      <td>0.000763</td>\n",
       "      <td>0.000000</td>\n",
       "      <td>0.398064</td>\n",
       "      <td>0.0</td>\n",
       "      <td>0.022327</td>\n",
       "    </tr>\n",
       "    <tr>\n",
       "      <th>2329</th>\n",
       "      <td>0.964729</td>\n",
       "      <td>0.034839</td>\n",
       "      <td>0.000331</td>\n",
       "      <td>0.000000e+00</td>\n",
       "      <td>0.000000</td>\n",
       "      <td>0.462928</td>\n",
       "      <td>0.000000</td>\n",
       "      <td>0.000000</td>\n",
       "      <td>0.032520</td>\n",
       "      <td>0.437384</td>\n",
       "      <td>0.000000</td>\n",
       "      <td>0.000000</td>\n",
       "      <td>0.404939</td>\n",
       "      <td>0.0</td>\n",
       "      <td>0.024851</td>\n",
       "    </tr>\n",
       "    <tr>\n",
       "      <th>2330</th>\n",
       "      <td>0.975313</td>\n",
       "      <td>0.000000</td>\n",
       "      <td>0.000000</td>\n",
       "      <td>5.498702e-02</td>\n",
       "      <td>0.000000</td>\n",
       "      <td>0.000000</td>\n",
       "      <td>0.431299</td>\n",
       "      <td>0.000000</td>\n",
       "      <td>0.000000</td>\n",
       "      <td>0.665620</td>\n",
       "      <td>0.000000</td>\n",
       "      <td>0.000000</td>\n",
       "      <td>0.584848</td>\n",
       "      <td>0.0</td>\n",
       "      <td>0.041286</td>\n",
       "    </tr>\n",
       "    <tr>\n",
       "      <th>2331</th>\n",
       "      <td>0.859759</td>\n",
       "      <td>0.000000</td>\n",
       "      <td>0.000000</td>\n",
       "      <td>3.039590e-01</td>\n",
       "      <td>0.000000</td>\n",
       "      <td>0.000000</td>\n",
       "      <td>0.510336</td>\n",
       "      <td>0.006082</td>\n",
       "      <td>0.013029</td>\n",
       "      <td>0.464298</td>\n",
       "      <td>0.000000</td>\n",
       "      <td>0.000000</td>\n",
       "      <td>0.455699</td>\n",
       "      <td>0.0</td>\n",
       "      <td>0.023875</td>\n",
       "    </tr>\n",
       "    <tr>\n",
       "      <th>2332</th>\n",
       "      <td>0.814288</td>\n",
       "      <td>0.000000</td>\n",
       "      <td>0.620925</td>\n",
       "      <td>1.652283e-01</td>\n",
       "      <td>0.000000</td>\n",
       "      <td>0.474852</td>\n",
       "      <td>0.000000</td>\n",
       "      <td>0.000000</td>\n",
       "      <td>0.019491</td>\n",
       "      <td>0.465447</td>\n",
       "      <td>0.001087</td>\n",
       "      <td>0.000000</td>\n",
       "      <td>0.455676</td>\n",
       "      <td>0.0</td>\n",
       "      <td>0.024075</td>\n",
       "    </tr>\n",
       "    <tr>\n",
       "      <th>2333</th>\n",
       "      <td>0.656459</td>\n",
       "      <td>0.000000</td>\n",
       "      <td>0.536646</td>\n",
       "      <td>3.604799e-01</td>\n",
       "      <td>0.000000</td>\n",
       "      <td>0.441945</td>\n",
       "      <td>0.000000</td>\n",
       "      <td>0.000000</td>\n",
       "      <td>0.041282</td>\n",
       "      <td>0.406397</td>\n",
       "      <td>0.001500</td>\n",
       "      <td>0.000000</td>\n",
       "      <td>0.371964</td>\n",
       "      <td>0.0</td>\n",
       "      <td>0.021187</td>\n",
       "    </tr>\n",
       "    <tr>\n",
       "      <th>2334</th>\n",
       "      <td>0.649156</td>\n",
       "      <td>0.000000</td>\n",
       "      <td>0.000000</td>\n",
       "      <td>2.958436e-01</td>\n",
       "      <td>0.080439</td>\n",
       "      <td>0.000000</td>\n",
       "      <td>0.517760</td>\n",
       "      <td>0.000000</td>\n",
       "      <td>0.016322</td>\n",
       "      <td>0.456157</td>\n",
       "      <td>0.000000</td>\n",
       "      <td>0.000000</td>\n",
       "      <td>0.450724</td>\n",
       "      <td>0.0</td>\n",
       "      <td>0.024249</td>\n",
       "    </tr>\n",
       "    <tr>\n",
       "      <th>2335</th>\n",
       "      <td>0.963834</td>\n",
       "      <td>0.000000</td>\n",
       "      <td>0.024331</td>\n",
       "      <td>6.128653e-03</td>\n",
       "      <td>0.000000</td>\n",
       "      <td>0.000000</td>\n",
       "      <td>0.598705</td>\n",
       "      <td>0.000000</td>\n",
       "      <td>0.046635</td>\n",
       "      <td>0.426060</td>\n",
       "      <td>0.000000</td>\n",
       "      <td>0.000000</td>\n",
       "      <td>0.390484</td>\n",
       "      <td>0.0</td>\n",
       "      <td>0.023953</td>\n",
       "    </tr>\n",
       "    <tr>\n",
       "      <th>2336</th>\n",
       "      <td>0.834091</td>\n",
       "      <td>0.159618</td>\n",
       "      <td>0.005031</td>\n",
       "      <td>0.000000e+00</td>\n",
       "      <td>0.000000</td>\n",
       "      <td>0.498327</td>\n",
       "      <td>0.000000</td>\n",
       "      <td>0.006843</td>\n",
       "      <td>0.003898</td>\n",
       "      <td>0.480063</td>\n",
       "      <td>0.000000</td>\n",
       "      <td>0.000000</td>\n",
       "      <td>0.477841</td>\n",
       "      <td>0.0</td>\n",
       "      <td>0.025879</td>\n",
       "    </tr>\n",
       "    <tr>\n",
       "      <th>2337</th>\n",
       "      <td>0.462663</td>\n",
       "      <td>0.000000</td>\n",
       "      <td>0.344698</td>\n",
       "      <td>5.061169e-01</td>\n",
       "      <td>0.000000</td>\n",
       "      <td>0.504743</td>\n",
       "      <td>0.000000</td>\n",
       "      <td>0.010179</td>\n",
       "      <td>0.000000</td>\n",
       "      <td>0.500739</td>\n",
       "      <td>0.001064</td>\n",
       "      <td>0.000000</td>\n",
       "      <td>0.512341</td>\n",
       "      <td>0.0</td>\n",
       "      <td>0.025652</td>\n",
       "    </tr>\n",
       "    <tr>\n",
       "      <th>2338</th>\n",
       "      <td>0.957283</td>\n",
       "      <td>0.036531</td>\n",
       "      <td>0.004692</td>\n",
       "      <td>2.275289e-04</td>\n",
       "      <td>0.000000</td>\n",
       "      <td>0.477913</td>\n",
       "      <td>0.000000</td>\n",
       "      <td>0.014298</td>\n",
       "      <td>0.000000</td>\n",
       "      <td>0.487959</td>\n",
       "      <td>0.000065</td>\n",
       "      <td>0.000000</td>\n",
       "      <td>0.497821</td>\n",
       "      <td>0.0</td>\n",
       "      <td>0.025028</td>\n",
       "    </tr>\n",
       "    <tr>\n",
       "      <th>2339</th>\n",
       "      <td>0.985931</td>\n",
       "      <td>0.009520</td>\n",
       "      <td>0.001443</td>\n",
       "      <td>1.648441e-03</td>\n",
       "      <td>0.000000</td>\n",
       "      <td>0.352536</td>\n",
       "      <td>0.000000</td>\n",
       "      <td>0.000000</td>\n",
       "      <td>0.012229</td>\n",
       "      <td>0.488516</td>\n",
       "      <td>0.000000</td>\n",
       "      <td>0.000000</td>\n",
       "      <td>0.488560</td>\n",
       "      <td>0.0</td>\n",
       "      <td>0.028268</td>\n",
       "    </tr>\n",
       "    <tr>\n",
       "      <th>2340</th>\n",
       "      <td>0.989559</td>\n",
       "      <td>0.007553</td>\n",
       "      <td>0.000663</td>\n",
       "      <td>1.424715e-03</td>\n",
       "      <td>0.000000</td>\n",
       "      <td>0.385382</td>\n",
       "      <td>0.000000</td>\n",
       "      <td>0.000000</td>\n",
       "      <td>0.013991</td>\n",
       "      <td>0.477463</td>\n",
       "      <td>0.000003</td>\n",
       "      <td>0.000000</td>\n",
       "      <td>0.495984</td>\n",
       "      <td>0.0</td>\n",
       "      <td>0.025395</td>\n",
       "    </tr>\n",
       "    <tr>\n",
       "      <th>2341</th>\n",
       "      <td>0.996833</td>\n",
       "      <td>0.002907</td>\n",
       "      <td>0.000091</td>\n",
       "      <td>8.227530e-07</td>\n",
       "      <td>0.000000</td>\n",
       "      <td>0.427169</td>\n",
       "      <td>0.000000</td>\n",
       "      <td>0.000000</td>\n",
       "      <td>0.035894</td>\n",
       "      <td>0.443489</td>\n",
       "      <td>0.000000</td>\n",
       "      <td>0.000000</td>\n",
       "      <td>0.452305</td>\n",
       "      <td>0.0</td>\n",
       "      <td>0.025801</td>\n",
       "    </tr>\n",
       "    <tr>\n",
       "      <th>2342</th>\n",
       "      <td>0.883926</td>\n",
       "      <td>0.000000</td>\n",
       "      <td>0.000000</td>\n",
       "      <td>3.050963e-01</td>\n",
       "      <td>0.000000</td>\n",
       "      <td>0.000000</td>\n",
       "      <td>0.493514</td>\n",
       "      <td>0.009803</td>\n",
       "      <td>0.001151</td>\n",
       "      <td>0.487830</td>\n",
       "      <td>0.000000</td>\n",
       "      <td>0.000000</td>\n",
       "      <td>0.504152</td>\n",
       "      <td>0.0</td>\n",
       "      <td>0.025012</td>\n",
       "    </tr>\n",
       "    <tr>\n",
       "      <th>2343</th>\n",
       "      <td>0.979608</td>\n",
       "      <td>0.013870</td>\n",
       "      <td>0.003139</td>\n",
       "      <td>2.093114e-03</td>\n",
       "      <td>0.000000</td>\n",
       "      <td>0.321991</td>\n",
       "      <td>0.000000</td>\n",
       "      <td>0.000000</td>\n",
       "      <td>0.007841</td>\n",
       "      <td>0.482769</td>\n",
       "      <td>0.000000</td>\n",
       "      <td>0.000000</td>\n",
       "      <td>0.487339</td>\n",
       "      <td>0.0</td>\n",
       "      <td>0.027500</td>\n",
       "    </tr>\n",
       "    <tr>\n",
       "      <th>2344</th>\n",
       "      <td>0.988840</td>\n",
       "      <td>0.010935</td>\n",
       "      <td>0.000101</td>\n",
       "      <td>0.000000e+00</td>\n",
       "      <td>0.000000</td>\n",
       "      <td>0.480405</td>\n",
       "      <td>0.000000</td>\n",
       "      <td>0.002808</td>\n",
       "      <td>0.000074</td>\n",
       "      <td>0.493416</td>\n",
       "      <td>0.000000</td>\n",
       "      <td>0.000000</td>\n",
       "      <td>0.511547</td>\n",
       "      <td>0.0</td>\n",
       "      <td>0.025998</td>\n",
       "    </tr>\n",
       "    <tr>\n",
       "      <th>2345</th>\n",
       "      <td>0.894333</td>\n",
       "      <td>0.046973</td>\n",
       "      <td>0.011175</td>\n",
       "      <td>3.046629e-02</td>\n",
       "      <td>0.000000</td>\n",
       "      <td>0.432636</td>\n",
       "      <td>0.000000</td>\n",
       "      <td>0.158312</td>\n",
       "      <td>0.000000</td>\n",
       "      <td>0.597810</td>\n",
       "      <td>0.000000</td>\n",
       "      <td>0.000000</td>\n",
       "      <td>0.632168</td>\n",
       "      <td>0.0</td>\n",
       "      <td>0.031031</td>\n",
       "    </tr>\n",
       "    <tr>\n",
       "      <th>2346</th>\n",
       "      <td>0.971090</td>\n",
       "      <td>0.023658</td>\n",
       "      <td>0.001478</td>\n",
       "      <td>8.999581e-04</td>\n",
       "      <td>0.000000</td>\n",
       "      <td>0.404711</td>\n",
       "      <td>0.000000</td>\n",
       "      <td>0.000000</td>\n",
       "      <td>0.049801</td>\n",
       "      <td>0.419628</td>\n",
       "      <td>0.000000</td>\n",
       "      <td>0.000000</td>\n",
       "      <td>0.400450</td>\n",
       "      <td>0.0</td>\n",
       "      <td>0.024711</td>\n",
       "    </tr>\n",
       "    <tr>\n",
       "      <th>2347</th>\n",
       "      <td>0.861905</td>\n",
       "      <td>0.000000</td>\n",
       "      <td>0.000000</td>\n",
       "      <td>3.598161e-01</td>\n",
       "      <td>0.000000</td>\n",
       "      <td>0.000000</td>\n",
       "      <td>0.549582</td>\n",
       "      <td>0.000000</td>\n",
       "      <td>0.027128</td>\n",
       "      <td>0.450007</td>\n",
       "      <td>0.000000</td>\n",
       "      <td>0.000000</td>\n",
       "      <td>0.451741</td>\n",
       "      <td>0.0</td>\n",
       "      <td>0.023794</td>\n",
       "    </tr>\n",
       "  </tbody>\n",
       "</table>\n",
       "<p>2348 rows × 15 columns</p>\n",
       "</div>"
      ],
      "text/plain": [
       "Bucket Probability  Bucket 0  Bucket 1  Bucket 2      Bucket 3  Bucket 4  \\\n",
       "samples                                                                    \n",
       "0                   0.934374  0.063195  0.002091  0.000000e+00  0.000000   \n",
       "1                   0.993799  0.006083  0.000023  0.000000e+00  0.000000   \n",
       "2                   0.992006  0.007892  0.000086  0.000000e+00  0.000000   \n",
       "3                   0.973206  0.018066  0.000000  2.563186e-02  0.000000   \n",
       "4                   0.561616  0.000000  0.000000  2.264584e-01  0.194812   \n",
       "5                   0.915683  0.000000  0.000000  3.833197e-01  0.000000   \n",
       "6                   0.904089  0.092943  0.002664  0.000000e+00  0.000000   \n",
       "7                   0.917104  0.000000  0.000000  1.759592e-01  0.000000   \n",
       "8                   0.859042  0.000000  0.000000  3.792465e-01  0.000000   \n",
       "9                   0.858053  0.000000  0.000000  4.092365e-01  0.000000   \n",
       "10                  0.764619  0.069842  0.162531  1.502131e-03  0.000000   \n",
       "11                  0.972218  0.021767  0.002685  0.000000e+00  0.000000   \n",
       "12                  0.859013  0.105429  0.025317  5.108164e-03  0.000000   \n",
       "13                  0.629362  0.000000  0.000000  3.253831e-01  0.094921   \n",
       "14                  0.872808  0.000000  0.231522  8.106715e-03  0.000000   \n",
       "15                  0.929600  0.044107  0.004862  1.073497e-02  0.000000   \n",
       "16                  0.611100  0.000000  0.000000  1.310161e-01  0.319207   \n",
       "17                  0.777778  0.000000  0.000000  2.619305e-01  0.000000   \n",
       "18                  0.940084  0.035765  0.009963  5.107334e-03  0.000000   \n",
       "19                  0.929640  0.068162  0.002054  0.000000e+00  0.000000   \n",
       "20                  0.672699  0.205255  0.087622  1.598509e-02  0.000000   \n",
       "21                  0.833928  0.000000  0.000000  3.491314e-01  0.000000   \n",
       "22                  0.627115  0.000000  0.000000  1.122039e-01  0.376337   \n",
       "23                  0.976802  0.015727  0.000000  5.812966e-03  0.000000   \n",
       "24                  0.900466  0.096052  0.003240  0.000000e+00  0.000000   \n",
       "25                  0.947235  0.000000  0.000000  1.207534e-01  0.000000   \n",
       "26                  0.990289  0.007434  0.001279  5.109276e-04  0.000000   \n",
       "27                  0.892285  0.087195  0.020436  0.000000e+00  0.000000   \n",
       "28                  0.993446  0.004677  0.000403  1.041497e-03  0.000000   \n",
       "29                  0.240231  0.000000  0.000000  1.261649e-02  0.454098   \n",
       "...                      ...       ...       ...           ...       ...   \n",
       "2318                0.960355  0.000000  0.000000  1.494106e-01  0.000000   \n",
       "2319                0.962773  0.019829  0.003572  8.685757e-03  0.000000   \n",
       "2320                0.956063  0.000000  0.000000  1.186837e-01  0.000000   \n",
       "2321                0.979776  0.013646  0.002049  3.169051e-03  0.000000   \n",
       "2322                0.824309  0.000000  0.495429  1.550923e-01  0.000000   \n",
       "2323                0.532828  0.000000  0.000000  1.629641e-01  0.231150   \n",
       "2324                0.811919  0.088788  0.035450  4.243648e-02  0.000000   \n",
       "2325                0.820997  0.130583  0.035953  1.959187e-03  0.000000   \n",
       "2326                0.989028  0.009509  0.000395  6.339142e-04  0.000000   \n",
       "2327                0.929604  0.043675  0.007522  7.695669e-03  0.000000   \n",
       "2328                0.892089  0.000000  0.000000  6.076444e-02  0.484432   \n",
       "2329                0.964729  0.034839  0.000331  0.000000e+00  0.000000   \n",
       "2330                0.975313  0.000000  0.000000  5.498702e-02  0.000000   \n",
       "2331                0.859759  0.000000  0.000000  3.039590e-01  0.000000   \n",
       "2332                0.814288  0.000000  0.620925  1.652283e-01  0.000000   \n",
       "2333                0.656459  0.000000  0.536646  3.604799e-01  0.000000   \n",
       "2334                0.649156  0.000000  0.000000  2.958436e-01  0.080439   \n",
       "2335                0.963834  0.000000  0.024331  6.128653e-03  0.000000   \n",
       "2336                0.834091  0.159618  0.005031  0.000000e+00  0.000000   \n",
       "2337                0.462663  0.000000  0.344698  5.061169e-01  0.000000   \n",
       "2338                0.957283  0.036531  0.004692  2.275289e-04  0.000000   \n",
       "2339                0.985931  0.009520  0.001443  1.648441e-03  0.000000   \n",
       "2340                0.989559  0.007553  0.000663  1.424715e-03  0.000000   \n",
       "2341                0.996833  0.002907  0.000091  8.227530e-07  0.000000   \n",
       "2342                0.883926  0.000000  0.000000  3.050963e-01  0.000000   \n",
       "2343                0.979608  0.013870  0.003139  2.093114e-03  0.000000   \n",
       "2344                0.988840  0.010935  0.000101  0.000000e+00  0.000000   \n",
       "2345                0.894333  0.046973  0.011175  3.046629e-02  0.000000   \n",
       "2346                0.971090  0.023658  0.001478  8.999581e-04  0.000000   \n",
       "2347                0.861905  0.000000  0.000000  3.598161e-01  0.000000   \n",
       "\n",
       "Bucket Probability  Bucket 5  Bucket 6  Bucket 7  Bucket 8  Bucket 9  \\\n",
       "samples                                                                \n",
       "0                   0.535220  0.000000  0.068584  0.000000  0.551200   \n",
       "1                   0.454837  0.000000  0.000000  0.028429  0.447082   \n",
       "2                   0.489529  0.000000  0.000000  0.029453  0.467300   \n",
       "3                   0.218101  0.000000  0.000000  0.037599  0.429258   \n",
       "4                   0.000000  0.536355  0.000000  0.014342  0.446567   \n",
       "5                   0.000000  0.483768  0.020002  0.001109  0.488780   \n",
       "6                   0.501160  0.000000  0.000000  0.007113  0.488170   \n",
       "7                   0.000000  0.504324  0.000000  0.003834  0.497829   \n",
       "8                   0.000000  0.502126  0.010493  0.007467  0.474404   \n",
       "9                   0.000000  0.461709  0.033040  0.000000  0.512641   \n",
       "10                  0.541524  0.000000  0.129391  0.000000  0.565312   \n",
       "11                  0.573700  0.000000  0.172631  0.000000  0.619538   \n",
       "12                  0.461654  0.000000  0.000000  0.016843  0.461520   \n",
       "13                  0.000000  0.561280  0.000000  0.012264  0.463001   \n",
       "14                  0.515805  0.000000  0.074060  0.000000  0.523300   \n",
       "15                  0.237175  0.000000  0.000000  0.019712  0.471729   \n",
       "16                  0.000000  0.130969  0.000000  0.000000  0.526042   \n",
       "17                  0.000000  0.459274  0.009333  0.000000  0.532703   \n",
       "18                  0.030532  0.000699  0.000000  0.000000  0.534344   \n",
       "19                  0.515234  0.000000  0.035906  0.000000  0.510600   \n",
       "20                  0.480863  0.000000  0.000000  0.018138  0.466575   \n",
       "21                  0.000000  0.453521  0.046272  0.000000  0.501421   \n",
       "22                  0.000000  0.511527  0.004073  0.014959  0.424033   \n",
       "23                  0.098985  0.000000  0.000000  0.006060  0.495967   \n",
       "24                  0.505408  0.000000  0.000000  0.013475  0.494920   \n",
       "25                  0.000000  0.556392  0.000000  0.019498  0.440876   \n",
       "26                  0.336368  0.000000  0.000000  0.024787  0.464887   \n",
       "27                  0.512231  0.000000  0.100428  0.000000  0.523080   \n",
       "28                  0.388490  0.000000  0.000000  0.048365  0.425679   \n",
       "29                  0.000000  0.435433  0.000000  0.003102  0.491707   \n",
       "...                      ...       ...       ...       ...       ...   \n",
       "2318                0.000000  0.589193  0.000000  0.044064  0.427597   \n",
       "2319                0.396355  0.000000  0.017519  0.000000  0.501519   \n",
       "2320                0.000000  0.554129  0.000000  0.019925  0.477923   \n",
       "2321                0.353723  0.000000  0.000000  0.023777  0.464755   \n",
       "2322                0.621593  0.000000  0.173581  0.000000  0.656714   \n",
       "2323                0.000000  0.454081  0.073594  0.000000  0.403448   \n",
       "2324                0.352198  0.000000  0.015195  0.000000  0.501540   \n",
       "2325                0.481562  0.000000  0.000000  0.017292  0.468661   \n",
       "2326                0.414321  0.000000  0.000000  0.024043  0.469911   \n",
       "2327                0.442577  0.000000  0.000000  0.013602  0.478673   \n",
       "2328                0.000000  0.599797  0.000000  0.043727  0.424231   \n",
       "2329                0.462928  0.000000  0.000000  0.032520  0.437384   \n",
       "2330                0.000000  0.431299  0.000000  0.000000  0.665620   \n",
       "2331                0.000000  0.510336  0.006082  0.013029  0.464298   \n",
       "2332                0.474852  0.000000  0.000000  0.019491  0.465447   \n",
       "2333                0.441945  0.000000  0.000000  0.041282  0.406397   \n",
       "2334                0.000000  0.517760  0.000000  0.016322  0.456157   \n",
       "2335                0.000000  0.598705  0.000000  0.046635  0.426060   \n",
       "2336                0.498327  0.000000  0.006843  0.003898  0.480063   \n",
       "2337                0.504743  0.000000  0.010179  0.000000  0.500739   \n",
       "2338                0.477913  0.000000  0.014298  0.000000  0.487959   \n",
       "2339                0.352536  0.000000  0.000000  0.012229  0.488516   \n",
       "2340                0.385382  0.000000  0.000000  0.013991  0.477463   \n",
       "2341                0.427169  0.000000  0.000000  0.035894  0.443489   \n",
       "2342                0.000000  0.493514  0.009803  0.001151  0.487830   \n",
       "2343                0.321991  0.000000  0.000000  0.007841  0.482769   \n",
       "2344                0.480405  0.000000  0.002808  0.000074  0.493416   \n",
       "2345                0.432636  0.000000  0.158312  0.000000  0.597810   \n",
       "2346                0.404711  0.000000  0.000000  0.049801  0.419628   \n",
       "2347                0.000000  0.549582  0.000000  0.027128  0.450007   \n",
       "\n",
       "Bucket Probability  Bucket 10  Bucket 11  Bucket 12  Bucket 13  Bucket 14  \n",
       "samples                                                                    \n",
       "0                    0.000000   0.000000   0.572432        0.0   0.029114  \n",
       "1                    0.000000   0.000000   0.442877        0.0   0.023285  \n",
       "2                    0.000000   0.000000   0.428466        0.0   0.026652  \n",
       "3                    0.000000   0.000000   0.424532        0.0   0.024947  \n",
       "4                    0.000000   0.000000   0.452289        0.0   0.027196  \n",
       "5                    0.000000   0.000000   0.496464        0.0   0.025405  \n",
       "6                    0.002068   0.000000   0.459137        0.0   0.025943  \n",
       "7                    0.000000   0.000000   0.472547        0.0   0.026182  \n",
       "8                    0.000000   0.000000   0.466674        0.0   0.024760  \n",
       "9                    0.000000   0.000000   0.514347        0.0   0.027434  \n",
       "10                   0.000000   0.000000   0.598013        0.0   0.030160  \n",
       "11                   0.000000   0.000000   0.672804        0.0   0.035233  \n",
       "12                   0.000000   0.000000   0.460306        0.0   0.023897  \n",
       "13                   0.000000   0.000000   0.460305        0.0   0.030128  \n",
       "14                   0.000000   0.000000   0.530699        0.0   0.028548  \n",
       "15                   0.000289   0.000000   0.470900        0.0   0.024480  \n",
       "16                   0.000468   0.000000   0.474035        0.0   0.029577  \n",
       "17                   0.000000   0.000000   0.547183        0.0   0.031535  \n",
       "18                   0.000000   0.000000   0.515891        0.0   0.030204  \n",
       "19                   0.000000   0.000000   0.500363        0.0   0.026616  \n",
       "20                   0.000000   0.000000   0.462002        0.0   0.025471  \n",
       "21                   0.000000   0.000000   0.506511        0.0   0.025555  \n",
       "22                   0.000000   0.000000   0.439901        0.0   0.023835  \n",
       "23                   0.000000   0.000000   0.504493        0.0   0.028603  \n",
       "24                   0.001028   0.000000   0.450278        0.0   0.027209  \n",
       "25                   0.000000   0.000000   0.418006        0.0   0.025443  \n",
       "26                   0.000077   0.000000   0.486240        0.0   0.026433  \n",
       "27                   0.000000   0.000000   0.541063        0.0   0.026972  \n",
       "28                   0.000072   0.000000   0.428442        0.0   0.023380  \n",
       "29                   0.000000   0.000000   0.477790        0.0   0.026851  \n",
       "...                       ...        ...        ...        ...        ...  \n",
       "2318                 0.000000   0.000000   0.414204        0.0   0.022915  \n",
       "2319                 0.000000   0.000000   0.518505        0.0   0.025930  \n",
       "2320                 0.000000   0.000000   0.467645        0.0   0.026666  \n",
       "2321                 0.000000   0.000000   0.471781        0.0   0.024697  \n",
       "2322                 0.000336   0.000000   0.669721        0.0   0.035842  \n",
       "2323                 0.000000   0.267883   0.432894        0.0   0.025177  \n",
       "2324                 0.000000   0.000000   0.511144        0.0   0.026803  \n",
       "2325                 0.000000   0.000000   0.470071        0.0   0.025849  \n",
       "2326                 0.000000   0.000000   0.494160        0.0   0.028404  \n",
       "2327                 0.000000   0.000000   0.472542        0.0   0.025896  \n",
       "2328                 0.000763   0.000000   0.398064        0.0   0.022327  \n",
       "2329                 0.000000   0.000000   0.404939        0.0   0.024851  \n",
       "2330                 0.000000   0.000000   0.584848        0.0   0.041286  \n",
       "2331                 0.000000   0.000000   0.455699        0.0   0.023875  \n",
       "2332                 0.001087   0.000000   0.455676        0.0   0.024075  \n",
       "2333                 0.001500   0.000000   0.371964        0.0   0.021187  \n",
       "2334                 0.000000   0.000000   0.450724        0.0   0.024249  \n",
       "2335                 0.000000   0.000000   0.390484        0.0   0.023953  \n",
       "2336                 0.000000   0.000000   0.477841        0.0   0.025879  \n",
       "2337                 0.001064   0.000000   0.512341        0.0   0.025652  \n",
       "2338                 0.000065   0.000000   0.497821        0.0   0.025028  \n",
       "2339                 0.000000   0.000000   0.488560        0.0   0.028268  \n",
       "2340                 0.000003   0.000000   0.495984        0.0   0.025395  \n",
       "2341                 0.000000   0.000000   0.452305        0.0   0.025801  \n",
       "2342                 0.000000   0.000000   0.504152        0.0   0.025012  \n",
       "2343                 0.000000   0.000000   0.487339        0.0   0.027500  \n",
       "2344                 0.000000   0.000000   0.511547        0.0   0.025998  \n",
       "2345                 0.000000   0.000000   0.632168        0.0   0.031031  \n",
       "2346                 0.000000   0.000000   0.400450        0.0   0.024711  \n",
       "2347                 0.000000   0.000000   0.451741        0.0   0.023794  \n",
       "\n",
       "[2348 rows x 15 columns]"
      ]
     },
     "execution_count": 120,
     "metadata": {},
     "output_type": "execute_result"
    }
   ],
   "source": [
    "prob_list=[p1,p2,p3,p4,p5,p6,p7,p8,p9,p10,p11,p12,p13,p14]\n",
    "\n",
    "bucket_probability={'Bucket 0':p1[:,1].clip(min=0), 'Bucket 1': (p2-p1)[:,1].clip(min=0), 'Bucket 2': (p3-p2)[:,1].clip(min=0),\n",
    "                    'Bucket 3':(p4-p3)[:,1].clip(min=0),\n",
    "                    'Bucket 4': (p5-p4)[:,1].clip(min=0),\n",
    "                    'Bucket 5': (p6-p5)[:,1].clip(min=0),\n",
    "                    'Bucket 6': (p7-p6)[:,1].clip(min=0),\n",
    "                    'Bucket 7': (p8-p7)[:,1].clip(min=0),\n",
    "                    'Bucket 8': (p9-p8)[:,1].clip(min=0),\n",
    "                    'Bucket 9': (p10-p9)[:,1].clip(min=0),\n",
    "                    'Bucket 10': (p11-p10)[:,1].clip(min=0),\n",
    "                    'Bucket 11': (p12-p11)[:,1].clip(min=0),\n",
    "                    'Bucket 12': (p13-p12)[:,1].clip(min=0),\n",
    "                    'Bucket 13': (p14-p13)[:,1].clip(min=0),\n",
    "                    'Bucket 14': (1-p14)[:,1].clip(min=0)}\n",
    "df_probability=pd.DataFrame(bucket_probability)\n",
    "df_probability.columns.name='Bucket Probability'\n",
    "df_probability.index.name='samples'\n",
    "\n",
    "df_probability"
   ]
  },
  {
   "cell_type": "markdown",
   "metadata": {},
   "source": [
    "As it is shown in the upper table, we can see that what is the probability of belonging to each bucket. Based on the maximum probability in each of the samples, we can interpret that what is the probability of each sample. Therefore, we are going to use the following code to find the predicted bucket."
   ]
  },
  {
   "cell_type": "code",
   "execution_count": 121,
   "metadata": {
    "scrolled": true
   },
   "outputs": [
    {
     "data": {
      "text/plain": [
       "samples\n",
       "0       0.934374\n",
       "1       0.993799\n",
       "2       0.992006\n",
       "3       0.973206\n",
       "4       0.561616\n",
       "5       0.915683\n",
       "6       0.904089\n",
       "7       0.917104\n",
       "8       0.859042\n",
       "9       0.858053\n",
       "10      0.764619\n",
       "11      0.972218\n",
       "12      0.859013\n",
       "13      0.629362\n",
       "14      0.872808\n",
       "15      0.929600\n",
       "16      0.611100\n",
       "17      0.777778\n",
       "18      0.940084\n",
       "19      0.929640\n",
       "20      0.672699\n",
       "21      0.833928\n",
       "22      0.627115\n",
       "23      0.976802\n",
       "24      0.900466\n",
       "25      0.947235\n",
       "26      0.990289\n",
       "27      0.892285\n",
       "28      0.993446\n",
       "29      0.491707\n",
       "          ...   \n",
       "2318    0.960355\n",
       "2319    0.962773\n",
       "2320    0.956063\n",
       "2321    0.979776\n",
       "2322    0.824309\n",
       "2323    0.532828\n",
       "2324    0.811919\n",
       "2325    0.820997\n",
       "2326    0.989028\n",
       "2327    0.929604\n",
       "2328    0.892089\n",
       "2329    0.964729\n",
       "2330    0.975313\n",
       "2331    0.859759\n",
       "2332    0.814288\n",
       "2333    0.656459\n",
       "2334    0.649156\n",
       "2335    0.963834\n",
       "2336    0.834091\n",
       "2337    0.512341\n",
       "2338    0.957283\n",
       "2339    0.985931\n",
       "2340    0.989559\n",
       "2341    0.996833\n",
       "2342    0.883926\n",
       "2343    0.979608\n",
       "2344    0.988840\n",
       "2345    0.894333\n",
       "2346    0.971090\n",
       "2347    0.861905\n",
       "Length: 2348, dtype: float64"
      ]
     },
     "execution_count": 121,
     "metadata": {},
     "output_type": "execute_result"
    }
   ],
   "source": [
    "df_probability.max(axis=1)"
   ]
  },
  {
   "cell_type": "code",
   "execution_count": 122,
   "metadata": {
    "scrolled": false
   },
   "outputs": [
    {
     "data": {
      "text/html": [
       "<div>\n",
       "<style scoped>\n",
       "    .dataframe tbody tr th:only-of-type {\n",
       "        vertical-align: middle;\n",
       "    }\n",
       "\n",
       "    .dataframe tbody tr th {\n",
       "        vertical-align: top;\n",
       "    }\n",
       "\n",
       "    .dataframe thead th {\n",
       "        text-align: right;\n",
       "    }\n",
       "</style>\n",
       "<table border=\"1\" class=\"dataframe\">\n",
       "  <thead>\n",
       "    <tr style=\"text-align: right;\">\n",
       "      <th>Bucket Probability</th>\n",
       "      <th>Bucket 0</th>\n",
       "      <th>Bucket 1</th>\n",
       "      <th>Bucket 2</th>\n",
       "      <th>Bucket 3</th>\n",
       "      <th>Bucket 4</th>\n",
       "      <th>Bucket 5</th>\n",
       "      <th>Bucket 6</th>\n",
       "      <th>Bucket 7</th>\n",
       "      <th>Bucket 8</th>\n",
       "      <th>Bucket 9</th>\n",
       "      <th>Bucket 10</th>\n",
       "      <th>Bucket 11</th>\n",
       "      <th>Bucket 12</th>\n",
       "      <th>Bucket 13</th>\n",
       "      <th>Bucket 14</th>\n",
       "      <th>Predicted Bucket</th>\n",
       "    </tr>\n",
       "    <tr>\n",
       "      <th>samples</th>\n",
       "      <th></th>\n",
       "      <th></th>\n",
       "      <th></th>\n",
       "      <th></th>\n",
       "      <th></th>\n",
       "      <th></th>\n",
       "      <th></th>\n",
       "      <th></th>\n",
       "      <th></th>\n",
       "      <th></th>\n",
       "      <th></th>\n",
       "      <th></th>\n",
       "      <th></th>\n",
       "      <th></th>\n",
       "      <th></th>\n",
       "      <th></th>\n",
       "    </tr>\n",
       "  </thead>\n",
       "  <tbody>\n",
       "    <tr>\n",
       "      <th>0</th>\n",
       "      <td>0.934374</td>\n",
       "      <td>0.063195</td>\n",
       "      <td>0.002091</td>\n",
       "      <td>0.000000e+00</td>\n",
       "      <td>0.000000</td>\n",
       "      <td>0.535220</td>\n",
       "      <td>0.000000</td>\n",
       "      <td>0.068584</td>\n",
       "      <td>0.000000</td>\n",
       "      <td>0.551200</td>\n",
       "      <td>0.000000</td>\n",
       "      <td>0.000000</td>\n",
       "      <td>0.572432</td>\n",
       "      <td>0.0</td>\n",
       "      <td>0.029114</td>\n",
       "      <td>Bucket 0</td>\n",
       "    </tr>\n",
       "    <tr>\n",
       "      <th>1</th>\n",
       "      <td>0.993799</td>\n",
       "      <td>0.006083</td>\n",
       "      <td>0.000023</td>\n",
       "      <td>0.000000e+00</td>\n",
       "      <td>0.000000</td>\n",
       "      <td>0.454837</td>\n",
       "      <td>0.000000</td>\n",
       "      <td>0.000000</td>\n",
       "      <td>0.028429</td>\n",
       "      <td>0.447082</td>\n",
       "      <td>0.000000</td>\n",
       "      <td>0.000000</td>\n",
       "      <td>0.442877</td>\n",
       "      <td>0.0</td>\n",
       "      <td>0.023285</td>\n",
       "      <td>Bucket 0</td>\n",
       "    </tr>\n",
       "    <tr>\n",
       "      <th>2</th>\n",
       "      <td>0.992006</td>\n",
       "      <td>0.007892</td>\n",
       "      <td>0.000086</td>\n",
       "      <td>0.000000e+00</td>\n",
       "      <td>0.000000</td>\n",
       "      <td>0.489529</td>\n",
       "      <td>0.000000</td>\n",
       "      <td>0.000000</td>\n",
       "      <td>0.029453</td>\n",
       "      <td>0.467300</td>\n",
       "      <td>0.000000</td>\n",
       "      <td>0.000000</td>\n",
       "      <td>0.428466</td>\n",
       "      <td>0.0</td>\n",
       "      <td>0.026652</td>\n",
       "      <td>Bucket 0</td>\n",
       "    </tr>\n",
       "    <tr>\n",
       "      <th>3</th>\n",
       "      <td>0.973206</td>\n",
       "      <td>0.018066</td>\n",
       "      <td>0.000000</td>\n",
       "      <td>2.563186e-02</td>\n",
       "      <td>0.000000</td>\n",
       "      <td>0.218101</td>\n",
       "      <td>0.000000</td>\n",
       "      <td>0.000000</td>\n",
       "      <td>0.037599</td>\n",
       "      <td>0.429258</td>\n",
       "      <td>0.000000</td>\n",
       "      <td>0.000000</td>\n",
       "      <td>0.424532</td>\n",
       "      <td>0.0</td>\n",
       "      <td>0.024947</td>\n",
       "      <td>Bucket 0</td>\n",
       "    </tr>\n",
       "    <tr>\n",
       "      <th>4</th>\n",
       "      <td>0.561616</td>\n",
       "      <td>0.000000</td>\n",
       "      <td>0.000000</td>\n",
       "      <td>2.264584e-01</td>\n",
       "      <td>0.194812</td>\n",
       "      <td>0.000000</td>\n",
       "      <td>0.536355</td>\n",
       "      <td>0.000000</td>\n",
       "      <td>0.014342</td>\n",
       "      <td>0.446567</td>\n",
       "      <td>0.000000</td>\n",
       "      <td>0.000000</td>\n",
       "      <td>0.452289</td>\n",
       "      <td>0.0</td>\n",
       "      <td>0.027196</td>\n",
       "      <td>Bucket 0</td>\n",
       "    </tr>\n",
       "    <tr>\n",
       "      <th>5</th>\n",
       "      <td>0.915683</td>\n",
       "      <td>0.000000</td>\n",
       "      <td>0.000000</td>\n",
       "      <td>3.833197e-01</td>\n",
       "      <td>0.000000</td>\n",
       "      <td>0.000000</td>\n",
       "      <td>0.483768</td>\n",
       "      <td>0.020002</td>\n",
       "      <td>0.001109</td>\n",
       "      <td>0.488780</td>\n",
       "      <td>0.000000</td>\n",
       "      <td>0.000000</td>\n",
       "      <td>0.496464</td>\n",
       "      <td>0.0</td>\n",
       "      <td>0.025405</td>\n",
       "      <td>Bucket 0</td>\n",
       "    </tr>\n",
       "    <tr>\n",
       "      <th>6</th>\n",
       "      <td>0.904089</td>\n",
       "      <td>0.092943</td>\n",
       "      <td>0.002664</td>\n",
       "      <td>0.000000e+00</td>\n",
       "      <td>0.000000</td>\n",
       "      <td>0.501160</td>\n",
       "      <td>0.000000</td>\n",
       "      <td>0.000000</td>\n",
       "      <td>0.007113</td>\n",
       "      <td>0.488170</td>\n",
       "      <td>0.002068</td>\n",
       "      <td>0.000000</td>\n",
       "      <td>0.459137</td>\n",
       "      <td>0.0</td>\n",
       "      <td>0.025943</td>\n",
       "      <td>Bucket 0</td>\n",
       "    </tr>\n",
       "    <tr>\n",
       "      <th>7</th>\n",
       "      <td>0.917104</td>\n",
       "      <td>0.000000</td>\n",
       "      <td>0.000000</td>\n",
       "      <td>1.759592e-01</td>\n",
       "      <td>0.000000</td>\n",
       "      <td>0.000000</td>\n",
       "      <td>0.504324</td>\n",
       "      <td>0.000000</td>\n",
       "      <td>0.003834</td>\n",
       "      <td>0.497829</td>\n",
       "      <td>0.000000</td>\n",
       "      <td>0.000000</td>\n",
       "      <td>0.472547</td>\n",
       "      <td>0.0</td>\n",
       "      <td>0.026182</td>\n",
       "      <td>Bucket 0</td>\n",
       "    </tr>\n",
       "    <tr>\n",
       "      <th>8</th>\n",
       "      <td>0.859042</td>\n",
       "      <td>0.000000</td>\n",
       "      <td>0.000000</td>\n",
       "      <td>3.792465e-01</td>\n",
       "      <td>0.000000</td>\n",
       "      <td>0.000000</td>\n",
       "      <td>0.502126</td>\n",
       "      <td>0.010493</td>\n",
       "      <td>0.007467</td>\n",
       "      <td>0.474404</td>\n",
       "      <td>0.000000</td>\n",
       "      <td>0.000000</td>\n",
       "      <td>0.466674</td>\n",
       "      <td>0.0</td>\n",
       "      <td>0.024760</td>\n",
       "      <td>Bucket 0</td>\n",
       "    </tr>\n",
       "    <tr>\n",
       "      <th>9</th>\n",
       "      <td>0.858053</td>\n",
       "      <td>0.000000</td>\n",
       "      <td>0.000000</td>\n",
       "      <td>4.092365e-01</td>\n",
       "      <td>0.000000</td>\n",
       "      <td>0.000000</td>\n",
       "      <td>0.461709</td>\n",
       "      <td>0.033040</td>\n",
       "      <td>0.000000</td>\n",
       "      <td>0.512641</td>\n",
       "      <td>0.000000</td>\n",
       "      <td>0.000000</td>\n",
       "      <td>0.514347</td>\n",
       "      <td>0.0</td>\n",
       "      <td>0.027434</td>\n",
       "      <td>Bucket 0</td>\n",
       "    </tr>\n",
       "    <tr>\n",
       "      <th>10</th>\n",
       "      <td>0.764619</td>\n",
       "      <td>0.069842</td>\n",
       "      <td>0.162531</td>\n",
       "      <td>1.502131e-03</td>\n",
       "      <td>0.000000</td>\n",
       "      <td>0.541524</td>\n",
       "      <td>0.000000</td>\n",
       "      <td>0.129391</td>\n",
       "      <td>0.000000</td>\n",
       "      <td>0.565312</td>\n",
       "      <td>0.000000</td>\n",
       "      <td>0.000000</td>\n",
       "      <td>0.598013</td>\n",
       "      <td>0.0</td>\n",
       "      <td>0.030160</td>\n",
       "      <td>Bucket 0</td>\n",
       "    </tr>\n",
       "    <tr>\n",
       "      <th>11</th>\n",
       "      <td>0.972218</td>\n",
       "      <td>0.021767</td>\n",
       "      <td>0.002685</td>\n",
       "      <td>0.000000e+00</td>\n",
       "      <td>0.000000</td>\n",
       "      <td>0.573700</td>\n",
       "      <td>0.000000</td>\n",
       "      <td>0.172631</td>\n",
       "      <td>0.000000</td>\n",
       "      <td>0.619538</td>\n",
       "      <td>0.000000</td>\n",
       "      <td>0.000000</td>\n",
       "      <td>0.672804</td>\n",
       "      <td>0.0</td>\n",
       "      <td>0.035233</td>\n",
       "      <td>Bucket 0</td>\n",
       "    </tr>\n",
       "    <tr>\n",
       "      <th>12</th>\n",
       "      <td>0.859013</td>\n",
       "      <td>0.105429</td>\n",
       "      <td>0.025317</td>\n",
       "      <td>5.108164e-03</td>\n",
       "      <td>0.000000</td>\n",
       "      <td>0.461654</td>\n",
       "      <td>0.000000</td>\n",
       "      <td>0.000000</td>\n",
       "      <td>0.016843</td>\n",
       "      <td>0.461520</td>\n",
       "      <td>0.000000</td>\n",
       "      <td>0.000000</td>\n",
       "      <td>0.460306</td>\n",
       "      <td>0.0</td>\n",
       "      <td>0.023897</td>\n",
       "      <td>Bucket 0</td>\n",
       "    </tr>\n",
       "    <tr>\n",
       "      <th>13</th>\n",
       "      <td>0.629362</td>\n",
       "      <td>0.000000</td>\n",
       "      <td>0.000000</td>\n",
       "      <td>3.253831e-01</td>\n",
       "      <td>0.094921</td>\n",
       "      <td>0.000000</td>\n",
       "      <td>0.561280</td>\n",
       "      <td>0.000000</td>\n",
       "      <td>0.012264</td>\n",
       "      <td>0.463001</td>\n",
       "      <td>0.000000</td>\n",
       "      <td>0.000000</td>\n",
       "      <td>0.460305</td>\n",
       "      <td>0.0</td>\n",
       "      <td>0.030128</td>\n",
       "      <td>Bucket 0</td>\n",
       "    </tr>\n",
       "    <tr>\n",
       "      <th>14</th>\n",
       "      <td>0.872808</td>\n",
       "      <td>0.000000</td>\n",
       "      <td>0.231522</td>\n",
       "      <td>8.106715e-03</td>\n",
       "      <td>0.000000</td>\n",
       "      <td>0.515805</td>\n",
       "      <td>0.000000</td>\n",
       "      <td>0.074060</td>\n",
       "      <td>0.000000</td>\n",
       "      <td>0.523300</td>\n",
       "      <td>0.000000</td>\n",
       "      <td>0.000000</td>\n",
       "      <td>0.530699</td>\n",
       "      <td>0.0</td>\n",
       "      <td>0.028548</td>\n",
       "      <td>Bucket 0</td>\n",
       "    </tr>\n",
       "    <tr>\n",
       "      <th>15</th>\n",
       "      <td>0.929600</td>\n",
       "      <td>0.044107</td>\n",
       "      <td>0.004862</td>\n",
       "      <td>1.073497e-02</td>\n",
       "      <td>0.000000</td>\n",
       "      <td>0.237175</td>\n",
       "      <td>0.000000</td>\n",
       "      <td>0.000000</td>\n",
       "      <td>0.019712</td>\n",
       "      <td>0.471729</td>\n",
       "      <td>0.000289</td>\n",
       "      <td>0.000000</td>\n",
       "      <td>0.470900</td>\n",
       "      <td>0.0</td>\n",
       "      <td>0.024480</td>\n",
       "      <td>Bucket 0</td>\n",
       "    </tr>\n",
       "    <tr>\n",
       "      <th>16</th>\n",
       "      <td>0.611100</td>\n",
       "      <td>0.000000</td>\n",
       "      <td>0.000000</td>\n",
       "      <td>1.310161e-01</td>\n",
       "      <td>0.319207</td>\n",
       "      <td>0.000000</td>\n",
       "      <td>0.130969</td>\n",
       "      <td>0.000000</td>\n",
       "      <td>0.000000</td>\n",
       "      <td>0.526042</td>\n",
       "      <td>0.000468</td>\n",
       "      <td>0.000000</td>\n",
       "      <td>0.474035</td>\n",
       "      <td>0.0</td>\n",
       "      <td>0.029577</td>\n",
       "      <td>Bucket 0</td>\n",
       "    </tr>\n",
       "    <tr>\n",
       "      <th>17</th>\n",
       "      <td>0.777778</td>\n",
       "      <td>0.000000</td>\n",
       "      <td>0.000000</td>\n",
       "      <td>2.619305e-01</td>\n",
       "      <td>0.000000</td>\n",
       "      <td>0.000000</td>\n",
       "      <td>0.459274</td>\n",
       "      <td>0.009333</td>\n",
       "      <td>0.000000</td>\n",
       "      <td>0.532703</td>\n",
       "      <td>0.000000</td>\n",
       "      <td>0.000000</td>\n",
       "      <td>0.547183</td>\n",
       "      <td>0.0</td>\n",
       "      <td>0.031535</td>\n",
       "      <td>Bucket 0</td>\n",
       "    </tr>\n",
       "    <tr>\n",
       "      <th>18</th>\n",
       "      <td>0.940084</td>\n",
       "      <td>0.035765</td>\n",
       "      <td>0.009963</td>\n",
       "      <td>5.107334e-03</td>\n",
       "      <td>0.000000</td>\n",
       "      <td>0.030532</td>\n",
       "      <td>0.000699</td>\n",
       "      <td>0.000000</td>\n",
       "      <td>0.000000</td>\n",
       "      <td>0.534344</td>\n",
       "      <td>0.000000</td>\n",
       "      <td>0.000000</td>\n",
       "      <td>0.515891</td>\n",
       "      <td>0.0</td>\n",
       "      <td>0.030204</td>\n",
       "      <td>Bucket 0</td>\n",
       "    </tr>\n",
       "    <tr>\n",
       "      <th>19</th>\n",
       "      <td>0.929640</td>\n",
       "      <td>0.068162</td>\n",
       "      <td>0.002054</td>\n",
       "      <td>0.000000e+00</td>\n",
       "      <td>0.000000</td>\n",
       "      <td>0.515234</td>\n",
       "      <td>0.000000</td>\n",
       "      <td>0.035906</td>\n",
       "      <td>0.000000</td>\n",
       "      <td>0.510600</td>\n",
       "      <td>0.000000</td>\n",
       "      <td>0.000000</td>\n",
       "      <td>0.500363</td>\n",
       "      <td>0.0</td>\n",
       "      <td>0.026616</td>\n",
       "      <td>Bucket 0</td>\n",
       "    </tr>\n",
       "    <tr>\n",
       "      <th>20</th>\n",
       "      <td>0.672699</td>\n",
       "      <td>0.205255</td>\n",
       "      <td>0.087622</td>\n",
       "      <td>1.598509e-02</td>\n",
       "      <td>0.000000</td>\n",
       "      <td>0.480863</td>\n",
       "      <td>0.000000</td>\n",
       "      <td>0.000000</td>\n",
       "      <td>0.018138</td>\n",
       "      <td>0.466575</td>\n",
       "      <td>0.000000</td>\n",
       "      <td>0.000000</td>\n",
       "      <td>0.462002</td>\n",
       "      <td>0.0</td>\n",
       "      <td>0.025471</td>\n",
       "      <td>Bucket 0</td>\n",
       "    </tr>\n",
       "    <tr>\n",
       "      <th>21</th>\n",
       "      <td>0.833928</td>\n",
       "      <td>0.000000</td>\n",
       "      <td>0.000000</td>\n",
       "      <td>3.491314e-01</td>\n",
       "      <td>0.000000</td>\n",
       "      <td>0.000000</td>\n",
       "      <td>0.453521</td>\n",
       "      <td>0.046272</td>\n",
       "      <td>0.000000</td>\n",
       "      <td>0.501421</td>\n",
       "      <td>0.000000</td>\n",
       "      <td>0.000000</td>\n",
       "      <td>0.506511</td>\n",
       "      <td>0.0</td>\n",
       "      <td>0.025555</td>\n",
       "      <td>Bucket 0</td>\n",
       "    </tr>\n",
       "    <tr>\n",
       "      <th>22</th>\n",
       "      <td>0.627115</td>\n",
       "      <td>0.000000</td>\n",
       "      <td>0.000000</td>\n",
       "      <td>1.122039e-01</td>\n",
       "      <td>0.376337</td>\n",
       "      <td>0.000000</td>\n",
       "      <td>0.511527</td>\n",
       "      <td>0.004073</td>\n",
       "      <td>0.014959</td>\n",
       "      <td>0.424033</td>\n",
       "      <td>0.000000</td>\n",
       "      <td>0.000000</td>\n",
       "      <td>0.439901</td>\n",
       "      <td>0.0</td>\n",
       "      <td>0.023835</td>\n",
       "      <td>Bucket 0</td>\n",
       "    </tr>\n",
       "    <tr>\n",
       "      <th>23</th>\n",
       "      <td>0.976802</td>\n",
       "      <td>0.015727</td>\n",
       "      <td>0.000000</td>\n",
       "      <td>5.812966e-03</td>\n",
       "      <td>0.000000</td>\n",
       "      <td>0.098985</td>\n",
       "      <td>0.000000</td>\n",
       "      <td>0.000000</td>\n",
       "      <td>0.006060</td>\n",
       "      <td>0.495967</td>\n",
       "      <td>0.000000</td>\n",
       "      <td>0.000000</td>\n",
       "      <td>0.504493</td>\n",
       "      <td>0.0</td>\n",
       "      <td>0.028603</td>\n",
       "      <td>Bucket 0</td>\n",
       "    </tr>\n",
       "    <tr>\n",
       "      <th>24</th>\n",
       "      <td>0.900466</td>\n",
       "      <td>0.096052</td>\n",
       "      <td>0.003240</td>\n",
       "      <td>0.000000e+00</td>\n",
       "      <td>0.000000</td>\n",
       "      <td>0.505408</td>\n",
       "      <td>0.000000</td>\n",
       "      <td>0.000000</td>\n",
       "      <td>0.013475</td>\n",
       "      <td>0.494920</td>\n",
       "      <td>0.001028</td>\n",
       "      <td>0.000000</td>\n",
       "      <td>0.450278</td>\n",
       "      <td>0.0</td>\n",
       "      <td>0.027209</td>\n",
       "      <td>Bucket 0</td>\n",
       "    </tr>\n",
       "    <tr>\n",
       "      <th>25</th>\n",
       "      <td>0.947235</td>\n",
       "      <td>0.000000</td>\n",
       "      <td>0.000000</td>\n",
       "      <td>1.207534e-01</td>\n",
       "      <td>0.000000</td>\n",
       "      <td>0.000000</td>\n",
       "      <td>0.556392</td>\n",
       "      <td>0.000000</td>\n",
       "      <td>0.019498</td>\n",
       "      <td>0.440876</td>\n",
       "      <td>0.000000</td>\n",
       "      <td>0.000000</td>\n",
       "      <td>0.418006</td>\n",
       "      <td>0.0</td>\n",
       "      <td>0.025443</td>\n",
       "      <td>Bucket 0</td>\n",
       "    </tr>\n",
       "    <tr>\n",
       "      <th>26</th>\n",
       "      <td>0.990289</td>\n",
       "      <td>0.007434</td>\n",
       "      <td>0.001279</td>\n",
       "      <td>5.109276e-04</td>\n",
       "      <td>0.000000</td>\n",
       "      <td>0.336368</td>\n",
       "      <td>0.000000</td>\n",
       "      <td>0.000000</td>\n",
       "      <td>0.024787</td>\n",
       "      <td>0.464887</td>\n",
       "      <td>0.000077</td>\n",
       "      <td>0.000000</td>\n",
       "      <td>0.486240</td>\n",
       "      <td>0.0</td>\n",
       "      <td>0.026433</td>\n",
       "      <td>Bucket 0</td>\n",
       "    </tr>\n",
       "    <tr>\n",
       "      <th>27</th>\n",
       "      <td>0.892285</td>\n",
       "      <td>0.087195</td>\n",
       "      <td>0.020436</td>\n",
       "      <td>0.000000e+00</td>\n",
       "      <td>0.000000</td>\n",
       "      <td>0.512231</td>\n",
       "      <td>0.000000</td>\n",
       "      <td>0.100428</td>\n",
       "      <td>0.000000</td>\n",
       "      <td>0.523080</td>\n",
       "      <td>0.000000</td>\n",
       "      <td>0.000000</td>\n",
       "      <td>0.541063</td>\n",
       "      <td>0.0</td>\n",
       "      <td>0.026972</td>\n",
       "      <td>Bucket 0</td>\n",
       "    </tr>\n",
       "    <tr>\n",
       "      <th>28</th>\n",
       "      <td>0.993446</td>\n",
       "      <td>0.004677</td>\n",
       "      <td>0.000403</td>\n",
       "      <td>1.041497e-03</td>\n",
       "      <td>0.000000</td>\n",
       "      <td>0.388490</td>\n",
       "      <td>0.000000</td>\n",
       "      <td>0.000000</td>\n",
       "      <td>0.048365</td>\n",
       "      <td>0.425679</td>\n",
       "      <td>0.000072</td>\n",
       "      <td>0.000000</td>\n",
       "      <td>0.428442</td>\n",
       "      <td>0.0</td>\n",
       "      <td>0.023380</td>\n",
       "      <td>Bucket 0</td>\n",
       "    </tr>\n",
       "    <tr>\n",
       "      <th>29</th>\n",
       "      <td>0.240231</td>\n",
       "      <td>0.000000</td>\n",
       "      <td>0.000000</td>\n",
       "      <td>1.261649e-02</td>\n",
       "      <td>0.454098</td>\n",
       "      <td>0.000000</td>\n",
       "      <td>0.435433</td>\n",
       "      <td>0.000000</td>\n",
       "      <td>0.003102</td>\n",
       "      <td>0.491707</td>\n",
       "      <td>0.000000</td>\n",
       "      <td>0.000000</td>\n",
       "      <td>0.477790</td>\n",
       "      <td>0.0</td>\n",
       "      <td>0.026851</td>\n",
       "      <td>Bucket 9</td>\n",
       "    </tr>\n",
       "    <tr>\n",
       "      <th>...</th>\n",
       "      <td>...</td>\n",
       "      <td>...</td>\n",
       "      <td>...</td>\n",
       "      <td>...</td>\n",
       "      <td>...</td>\n",
       "      <td>...</td>\n",
       "      <td>...</td>\n",
       "      <td>...</td>\n",
       "      <td>...</td>\n",
       "      <td>...</td>\n",
       "      <td>...</td>\n",
       "      <td>...</td>\n",
       "      <td>...</td>\n",
       "      <td>...</td>\n",
       "      <td>...</td>\n",
       "      <td>...</td>\n",
       "    </tr>\n",
       "    <tr>\n",
       "      <th>2318</th>\n",
       "      <td>0.960355</td>\n",
       "      <td>0.000000</td>\n",
       "      <td>0.000000</td>\n",
       "      <td>1.494106e-01</td>\n",
       "      <td>0.000000</td>\n",
       "      <td>0.000000</td>\n",
       "      <td>0.589193</td>\n",
       "      <td>0.000000</td>\n",
       "      <td>0.044064</td>\n",
       "      <td>0.427597</td>\n",
       "      <td>0.000000</td>\n",
       "      <td>0.000000</td>\n",
       "      <td>0.414204</td>\n",
       "      <td>0.0</td>\n",
       "      <td>0.022915</td>\n",
       "      <td>Bucket 0</td>\n",
       "    </tr>\n",
       "    <tr>\n",
       "      <th>2319</th>\n",
       "      <td>0.962773</td>\n",
       "      <td>0.019829</td>\n",
       "      <td>0.003572</td>\n",
       "      <td>8.685757e-03</td>\n",
       "      <td>0.000000</td>\n",
       "      <td>0.396355</td>\n",
       "      <td>0.000000</td>\n",
       "      <td>0.017519</td>\n",
       "      <td>0.000000</td>\n",
       "      <td>0.501519</td>\n",
       "      <td>0.000000</td>\n",
       "      <td>0.000000</td>\n",
       "      <td>0.518505</td>\n",
       "      <td>0.0</td>\n",
       "      <td>0.025930</td>\n",
       "      <td>Bucket 0</td>\n",
       "    </tr>\n",
       "    <tr>\n",
       "      <th>2320</th>\n",
       "      <td>0.956063</td>\n",
       "      <td>0.000000</td>\n",
       "      <td>0.000000</td>\n",
       "      <td>1.186837e-01</td>\n",
       "      <td>0.000000</td>\n",
       "      <td>0.000000</td>\n",
       "      <td>0.554129</td>\n",
       "      <td>0.000000</td>\n",
       "      <td>0.019925</td>\n",
       "      <td>0.477923</td>\n",
       "      <td>0.000000</td>\n",
       "      <td>0.000000</td>\n",
       "      <td>0.467645</td>\n",
       "      <td>0.0</td>\n",
       "      <td>0.026666</td>\n",
       "      <td>Bucket 0</td>\n",
       "    </tr>\n",
       "    <tr>\n",
       "      <th>2321</th>\n",
       "      <td>0.979776</td>\n",
       "      <td>0.013646</td>\n",
       "      <td>0.002049</td>\n",
       "      <td>3.169051e-03</td>\n",
       "      <td>0.000000</td>\n",
       "      <td>0.353723</td>\n",
       "      <td>0.000000</td>\n",
       "      <td>0.000000</td>\n",
       "      <td>0.023777</td>\n",
       "      <td>0.464755</td>\n",
       "      <td>0.000000</td>\n",
       "      <td>0.000000</td>\n",
       "      <td>0.471781</td>\n",
       "      <td>0.0</td>\n",
       "      <td>0.024697</td>\n",
       "      <td>Bucket 0</td>\n",
       "    </tr>\n",
       "    <tr>\n",
       "      <th>2322</th>\n",
       "      <td>0.824309</td>\n",
       "      <td>0.000000</td>\n",
       "      <td>0.495429</td>\n",
       "      <td>1.550923e-01</td>\n",
       "      <td>0.000000</td>\n",
       "      <td>0.621593</td>\n",
       "      <td>0.000000</td>\n",
       "      <td>0.173581</td>\n",
       "      <td>0.000000</td>\n",
       "      <td>0.656714</td>\n",
       "      <td>0.000336</td>\n",
       "      <td>0.000000</td>\n",
       "      <td>0.669721</td>\n",
       "      <td>0.0</td>\n",
       "      <td>0.035842</td>\n",
       "      <td>Bucket 0</td>\n",
       "    </tr>\n",
       "    <tr>\n",
       "      <th>2323</th>\n",
       "      <td>0.532828</td>\n",
       "      <td>0.000000</td>\n",
       "      <td>0.000000</td>\n",
       "      <td>1.629641e-01</td>\n",
       "      <td>0.231150</td>\n",
       "      <td>0.000000</td>\n",
       "      <td>0.454081</td>\n",
       "      <td>0.073594</td>\n",
       "      <td>0.000000</td>\n",
       "      <td>0.403448</td>\n",
       "      <td>0.000000</td>\n",
       "      <td>0.267883</td>\n",
       "      <td>0.432894</td>\n",
       "      <td>0.0</td>\n",
       "      <td>0.025177</td>\n",
       "      <td>Bucket 0</td>\n",
       "    </tr>\n",
       "    <tr>\n",
       "      <th>2324</th>\n",
       "      <td>0.811919</td>\n",
       "      <td>0.088788</td>\n",
       "      <td>0.035450</td>\n",
       "      <td>4.243648e-02</td>\n",
       "      <td>0.000000</td>\n",
       "      <td>0.352198</td>\n",
       "      <td>0.000000</td>\n",
       "      <td>0.015195</td>\n",
       "      <td>0.000000</td>\n",
       "      <td>0.501540</td>\n",
       "      <td>0.000000</td>\n",
       "      <td>0.000000</td>\n",
       "      <td>0.511144</td>\n",
       "      <td>0.0</td>\n",
       "      <td>0.026803</td>\n",
       "      <td>Bucket 0</td>\n",
       "    </tr>\n",
       "    <tr>\n",
       "      <th>2325</th>\n",
       "      <td>0.820997</td>\n",
       "      <td>0.130583</td>\n",
       "      <td>0.035953</td>\n",
       "      <td>1.959187e-03</td>\n",
       "      <td>0.000000</td>\n",
       "      <td>0.481562</td>\n",
       "      <td>0.000000</td>\n",
       "      <td>0.000000</td>\n",
       "      <td>0.017292</td>\n",
       "      <td>0.468661</td>\n",
       "      <td>0.000000</td>\n",
       "      <td>0.000000</td>\n",
       "      <td>0.470071</td>\n",
       "      <td>0.0</td>\n",
       "      <td>0.025849</td>\n",
       "      <td>Bucket 0</td>\n",
       "    </tr>\n",
       "    <tr>\n",
       "      <th>2326</th>\n",
       "      <td>0.989028</td>\n",
       "      <td>0.009509</td>\n",
       "      <td>0.000395</td>\n",
       "      <td>6.339142e-04</td>\n",
       "      <td>0.000000</td>\n",
       "      <td>0.414321</td>\n",
       "      <td>0.000000</td>\n",
       "      <td>0.000000</td>\n",
       "      <td>0.024043</td>\n",
       "      <td>0.469911</td>\n",
       "      <td>0.000000</td>\n",
       "      <td>0.000000</td>\n",
       "      <td>0.494160</td>\n",
       "      <td>0.0</td>\n",
       "      <td>0.028404</td>\n",
       "      <td>Bucket 0</td>\n",
       "    </tr>\n",
       "    <tr>\n",
       "      <th>2327</th>\n",
       "      <td>0.929604</td>\n",
       "      <td>0.043675</td>\n",
       "      <td>0.007522</td>\n",
       "      <td>7.695669e-03</td>\n",
       "      <td>0.000000</td>\n",
       "      <td>0.442577</td>\n",
       "      <td>0.000000</td>\n",
       "      <td>0.000000</td>\n",
       "      <td>0.013602</td>\n",
       "      <td>0.478673</td>\n",
       "      <td>0.000000</td>\n",
       "      <td>0.000000</td>\n",
       "      <td>0.472542</td>\n",
       "      <td>0.0</td>\n",
       "      <td>0.025896</td>\n",
       "      <td>Bucket 0</td>\n",
       "    </tr>\n",
       "    <tr>\n",
       "      <th>2328</th>\n",
       "      <td>0.892089</td>\n",
       "      <td>0.000000</td>\n",
       "      <td>0.000000</td>\n",
       "      <td>6.076444e-02</td>\n",
       "      <td>0.484432</td>\n",
       "      <td>0.000000</td>\n",
       "      <td>0.599797</td>\n",
       "      <td>0.000000</td>\n",
       "      <td>0.043727</td>\n",
       "      <td>0.424231</td>\n",
       "      <td>0.000763</td>\n",
       "      <td>0.000000</td>\n",
       "      <td>0.398064</td>\n",
       "      <td>0.0</td>\n",
       "      <td>0.022327</td>\n",
       "      <td>Bucket 0</td>\n",
       "    </tr>\n",
       "    <tr>\n",
       "      <th>2329</th>\n",
       "      <td>0.964729</td>\n",
       "      <td>0.034839</td>\n",
       "      <td>0.000331</td>\n",
       "      <td>0.000000e+00</td>\n",
       "      <td>0.000000</td>\n",
       "      <td>0.462928</td>\n",
       "      <td>0.000000</td>\n",
       "      <td>0.000000</td>\n",
       "      <td>0.032520</td>\n",
       "      <td>0.437384</td>\n",
       "      <td>0.000000</td>\n",
       "      <td>0.000000</td>\n",
       "      <td>0.404939</td>\n",
       "      <td>0.0</td>\n",
       "      <td>0.024851</td>\n",
       "      <td>Bucket 0</td>\n",
       "    </tr>\n",
       "    <tr>\n",
       "      <th>2330</th>\n",
       "      <td>0.975313</td>\n",
       "      <td>0.000000</td>\n",
       "      <td>0.000000</td>\n",
       "      <td>5.498702e-02</td>\n",
       "      <td>0.000000</td>\n",
       "      <td>0.000000</td>\n",
       "      <td>0.431299</td>\n",
       "      <td>0.000000</td>\n",
       "      <td>0.000000</td>\n",
       "      <td>0.665620</td>\n",
       "      <td>0.000000</td>\n",
       "      <td>0.000000</td>\n",
       "      <td>0.584848</td>\n",
       "      <td>0.0</td>\n",
       "      <td>0.041286</td>\n",
       "      <td>Bucket 0</td>\n",
       "    </tr>\n",
       "    <tr>\n",
       "      <th>2331</th>\n",
       "      <td>0.859759</td>\n",
       "      <td>0.000000</td>\n",
       "      <td>0.000000</td>\n",
       "      <td>3.039590e-01</td>\n",
       "      <td>0.000000</td>\n",
       "      <td>0.000000</td>\n",
       "      <td>0.510336</td>\n",
       "      <td>0.006082</td>\n",
       "      <td>0.013029</td>\n",
       "      <td>0.464298</td>\n",
       "      <td>0.000000</td>\n",
       "      <td>0.000000</td>\n",
       "      <td>0.455699</td>\n",
       "      <td>0.0</td>\n",
       "      <td>0.023875</td>\n",
       "      <td>Bucket 0</td>\n",
       "    </tr>\n",
       "    <tr>\n",
       "      <th>2332</th>\n",
       "      <td>0.814288</td>\n",
       "      <td>0.000000</td>\n",
       "      <td>0.620925</td>\n",
       "      <td>1.652283e-01</td>\n",
       "      <td>0.000000</td>\n",
       "      <td>0.474852</td>\n",
       "      <td>0.000000</td>\n",
       "      <td>0.000000</td>\n",
       "      <td>0.019491</td>\n",
       "      <td>0.465447</td>\n",
       "      <td>0.001087</td>\n",
       "      <td>0.000000</td>\n",
       "      <td>0.455676</td>\n",
       "      <td>0.0</td>\n",
       "      <td>0.024075</td>\n",
       "      <td>Bucket 0</td>\n",
       "    </tr>\n",
       "    <tr>\n",
       "      <th>2333</th>\n",
       "      <td>0.656459</td>\n",
       "      <td>0.000000</td>\n",
       "      <td>0.536646</td>\n",
       "      <td>3.604799e-01</td>\n",
       "      <td>0.000000</td>\n",
       "      <td>0.441945</td>\n",
       "      <td>0.000000</td>\n",
       "      <td>0.000000</td>\n",
       "      <td>0.041282</td>\n",
       "      <td>0.406397</td>\n",
       "      <td>0.001500</td>\n",
       "      <td>0.000000</td>\n",
       "      <td>0.371964</td>\n",
       "      <td>0.0</td>\n",
       "      <td>0.021187</td>\n",
       "      <td>Bucket 0</td>\n",
       "    </tr>\n",
       "    <tr>\n",
       "      <th>2334</th>\n",
       "      <td>0.649156</td>\n",
       "      <td>0.000000</td>\n",
       "      <td>0.000000</td>\n",
       "      <td>2.958436e-01</td>\n",
       "      <td>0.080439</td>\n",
       "      <td>0.000000</td>\n",
       "      <td>0.517760</td>\n",
       "      <td>0.000000</td>\n",
       "      <td>0.016322</td>\n",
       "      <td>0.456157</td>\n",
       "      <td>0.000000</td>\n",
       "      <td>0.000000</td>\n",
       "      <td>0.450724</td>\n",
       "      <td>0.0</td>\n",
       "      <td>0.024249</td>\n",
       "      <td>Bucket 0</td>\n",
       "    </tr>\n",
       "    <tr>\n",
       "      <th>2335</th>\n",
       "      <td>0.963834</td>\n",
       "      <td>0.000000</td>\n",
       "      <td>0.024331</td>\n",
       "      <td>6.128653e-03</td>\n",
       "      <td>0.000000</td>\n",
       "      <td>0.000000</td>\n",
       "      <td>0.598705</td>\n",
       "      <td>0.000000</td>\n",
       "      <td>0.046635</td>\n",
       "      <td>0.426060</td>\n",
       "      <td>0.000000</td>\n",
       "      <td>0.000000</td>\n",
       "      <td>0.390484</td>\n",
       "      <td>0.0</td>\n",
       "      <td>0.023953</td>\n",
       "      <td>Bucket 0</td>\n",
       "    </tr>\n",
       "    <tr>\n",
       "      <th>2336</th>\n",
       "      <td>0.834091</td>\n",
       "      <td>0.159618</td>\n",
       "      <td>0.005031</td>\n",
       "      <td>0.000000e+00</td>\n",
       "      <td>0.000000</td>\n",
       "      <td>0.498327</td>\n",
       "      <td>0.000000</td>\n",
       "      <td>0.006843</td>\n",
       "      <td>0.003898</td>\n",
       "      <td>0.480063</td>\n",
       "      <td>0.000000</td>\n",
       "      <td>0.000000</td>\n",
       "      <td>0.477841</td>\n",
       "      <td>0.0</td>\n",
       "      <td>0.025879</td>\n",
       "      <td>Bucket 0</td>\n",
       "    </tr>\n",
       "    <tr>\n",
       "      <th>2337</th>\n",
       "      <td>0.462663</td>\n",
       "      <td>0.000000</td>\n",
       "      <td>0.344698</td>\n",
       "      <td>5.061169e-01</td>\n",
       "      <td>0.000000</td>\n",
       "      <td>0.504743</td>\n",
       "      <td>0.000000</td>\n",
       "      <td>0.010179</td>\n",
       "      <td>0.000000</td>\n",
       "      <td>0.500739</td>\n",
       "      <td>0.001064</td>\n",
       "      <td>0.000000</td>\n",
       "      <td>0.512341</td>\n",
       "      <td>0.0</td>\n",
       "      <td>0.025652</td>\n",
       "      <td>Bucket 12</td>\n",
       "    </tr>\n",
       "    <tr>\n",
       "      <th>2338</th>\n",
       "      <td>0.957283</td>\n",
       "      <td>0.036531</td>\n",
       "      <td>0.004692</td>\n",
       "      <td>2.275289e-04</td>\n",
       "      <td>0.000000</td>\n",
       "      <td>0.477913</td>\n",
       "      <td>0.000000</td>\n",
       "      <td>0.014298</td>\n",
       "      <td>0.000000</td>\n",
       "      <td>0.487959</td>\n",
       "      <td>0.000065</td>\n",
       "      <td>0.000000</td>\n",
       "      <td>0.497821</td>\n",
       "      <td>0.0</td>\n",
       "      <td>0.025028</td>\n",
       "      <td>Bucket 0</td>\n",
       "    </tr>\n",
       "    <tr>\n",
       "      <th>2339</th>\n",
       "      <td>0.985931</td>\n",
       "      <td>0.009520</td>\n",
       "      <td>0.001443</td>\n",
       "      <td>1.648441e-03</td>\n",
       "      <td>0.000000</td>\n",
       "      <td>0.352536</td>\n",
       "      <td>0.000000</td>\n",
       "      <td>0.000000</td>\n",
       "      <td>0.012229</td>\n",
       "      <td>0.488516</td>\n",
       "      <td>0.000000</td>\n",
       "      <td>0.000000</td>\n",
       "      <td>0.488560</td>\n",
       "      <td>0.0</td>\n",
       "      <td>0.028268</td>\n",
       "      <td>Bucket 0</td>\n",
       "    </tr>\n",
       "    <tr>\n",
       "      <th>2340</th>\n",
       "      <td>0.989559</td>\n",
       "      <td>0.007553</td>\n",
       "      <td>0.000663</td>\n",
       "      <td>1.424715e-03</td>\n",
       "      <td>0.000000</td>\n",
       "      <td>0.385382</td>\n",
       "      <td>0.000000</td>\n",
       "      <td>0.000000</td>\n",
       "      <td>0.013991</td>\n",
       "      <td>0.477463</td>\n",
       "      <td>0.000003</td>\n",
       "      <td>0.000000</td>\n",
       "      <td>0.495984</td>\n",
       "      <td>0.0</td>\n",
       "      <td>0.025395</td>\n",
       "      <td>Bucket 0</td>\n",
       "    </tr>\n",
       "    <tr>\n",
       "      <th>2341</th>\n",
       "      <td>0.996833</td>\n",
       "      <td>0.002907</td>\n",
       "      <td>0.000091</td>\n",
       "      <td>8.227530e-07</td>\n",
       "      <td>0.000000</td>\n",
       "      <td>0.427169</td>\n",
       "      <td>0.000000</td>\n",
       "      <td>0.000000</td>\n",
       "      <td>0.035894</td>\n",
       "      <td>0.443489</td>\n",
       "      <td>0.000000</td>\n",
       "      <td>0.000000</td>\n",
       "      <td>0.452305</td>\n",
       "      <td>0.0</td>\n",
       "      <td>0.025801</td>\n",
       "      <td>Bucket 0</td>\n",
       "    </tr>\n",
       "    <tr>\n",
       "      <th>2342</th>\n",
       "      <td>0.883926</td>\n",
       "      <td>0.000000</td>\n",
       "      <td>0.000000</td>\n",
       "      <td>3.050963e-01</td>\n",
       "      <td>0.000000</td>\n",
       "      <td>0.000000</td>\n",
       "      <td>0.493514</td>\n",
       "      <td>0.009803</td>\n",
       "      <td>0.001151</td>\n",
       "      <td>0.487830</td>\n",
       "      <td>0.000000</td>\n",
       "      <td>0.000000</td>\n",
       "      <td>0.504152</td>\n",
       "      <td>0.0</td>\n",
       "      <td>0.025012</td>\n",
       "      <td>Bucket 0</td>\n",
       "    </tr>\n",
       "    <tr>\n",
       "      <th>2343</th>\n",
       "      <td>0.979608</td>\n",
       "      <td>0.013870</td>\n",
       "      <td>0.003139</td>\n",
       "      <td>2.093114e-03</td>\n",
       "      <td>0.000000</td>\n",
       "      <td>0.321991</td>\n",
       "      <td>0.000000</td>\n",
       "      <td>0.000000</td>\n",
       "      <td>0.007841</td>\n",
       "      <td>0.482769</td>\n",
       "      <td>0.000000</td>\n",
       "      <td>0.000000</td>\n",
       "      <td>0.487339</td>\n",
       "      <td>0.0</td>\n",
       "      <td>0.027500</td>\n",
       "      <td>Bucket 0</td>\n",
       "    </tr>\n",
       "    <tr>\n",
       "      <th>2344</th>\n",
       "      <td>0.988840</td>\n",
       "      <td>0.010935</td>\n",
       "      <td>0.000101</td>\n",
       "      <td>0.000000e+00</td>\n",
       "      <td>0.000000</td>\n",
       "      <td>0.480405</td>\n",
       "      <td>0.000000</td>\n",
       "      <td>0.002808</td>\n",
       "      <td>0.000074</td>\n",
       "      <td>0.493416</td>\n",
       "      <td>0.000000</td>\n",
       "      <td>0.000000</td>\n",
       "      <td>0.511547</td>\n",
       "      <td>0.0</td>\n",
       "      <td>0.025998</td>\n",
       "      <td>Bucket 0</td>\n",
       "    </tr>\n",
       "    <tr>\n",
       "      <th>2345</th>\n",
       "      <td>0.894333</td>\n",
       "      <td>0.046973</td>\n",
       "      <td>0.011175</td>\n",
       "      <td>3.046629e-02</td>\n",
       "      <td>0.000000</td>\n",
       "      <td>0.432636</td>\n",
       "      <td>0.000000</td>\n",
       "      <td>0.158312</td>\n",
       "      <td>0.000000</td>\n",
       "      <td>0.597810</td>\n",
       "      <td>0.000000</td>\n",
       "      <td>0.000000</td>\n",
       "      <td>0.632168</td>\n",
       "      <td>0.0</td>\n",
       "      <td>0.031031</td>\n",
       "      <td>Bucket 0</td>\n",
       "    </tr>\n",
       "    <tr>\n",
       "      <th>2346</th>\n",
       "      <td>0.971090</td>\n",
       "      <td>0.023658</td>\n",
       "      <td>0.001478</td>\n",
       "      <td>8.999581e-04</td>\n",
       "      <td>0.000000</td>\n",
       "      <td>0.404711</td>\n",
       "      <td>0.000000</td>\n",
       "      <td>0.000000</td>\n",
       "      <td>0.049801</td>\n",
       "      <td>0.419628</td>\n",
       "      <td>0.000000</td>\n",
       "      <td>0.000000</td>\n",
       "      <td>0.400450</td>\n",
       "      <td>0.0</td>\n",
       "      <td>0.024711</td>\n",
       "      <td>Bucket 0</td>\n",
       "    </tr>\n",
       "    <tr>\n",
       "      <th>2347</th>\n",
       "      <td>0.861905</td>\n",
       "      <td>0.000000</td>\n",
       "      <td>0.000000</td>\n",
       "      <td>3.598161e-01</td>\n",
       "      <td>0.000000</td>\n",
       "      <td>0.000000</td>\n",
       "      <td>0.549582</td>\n",
       "      <td>0.000000</td>\n",
       "      <td>0.027128</td>\n",
       "      <td>0.450007</td>\n",
       "      <td>0.000000</td>\n",
       "      <td>0.000000</td>\n",
       "      <td>0.451741</td>\n",
       "      <td>0.0</td>\n",
       "      <td>0.023794</td>\n",
       "      <td>Bucket 0</td>\n",
       "    </tr>\n",
       "  </tbody>\n",
       "</table>\n",
       "<p>2348 rows × 16 columns</p>\n",
       "</div>"
      ],
      "text/plain": [
       "Bucket Probability  Bucket 0  Bucket 1  Bucket 2      Bucket 3  Bucket 4  \\\n",
       "samples                                                                    \n",
       "0                   0.934374  0.063195  0.002091  0.000000e+00  0.000000   \n",
       "1                   0.993799  0.006083  0.000023  0.000000e+00  0.000000   \n",
       "2                   0.992006  0.007892  0.000086  0.000000e+00  0.000000   \n",
       "3                   0.973206  0.018066  0.000000  2.563186e-02  0.000000   \n",
       "4                   0.561616  0.000000  0.000000  2.264584e-01  0.194812   \n",
       "5                   0.915683  0.000000  0.000000  3.833197e-01  0.000000   \n",
       "6                   0.904089  0.092943  0.002664  0.000000e+00  0.000000   \n",
       "7                   0.917104  0.000000  0.000000  1.759592e-01  0.000000   \n",
       "8                   0.859042  0.000000  0.000000  3.792465e-01  0.000000   \n",
       "9                   0.858053  0.000000  0.000000  4.092365e-01  0.000000   \n",
       "10                  0.764619  0.069842  0.162531  1.502131e-03  0.000000   \n",
       "11                  0.972218  0.021767  0.002685  0.000000e+00  0.000000   \n",
       "12                  0.859013  0.105429  0.025317  5.108164e-03  0.000000   \n",
       "13                  0.629362  0.000000  0.000000  3.253831e-01  0.094921   \n",
       "14                  0.872808  0.000000  0.231522  8.106715e-03  0.000000   \n",
       "15                  0.929600  0.044107  0.004862  1.073497e-02  0.000000   \n",
       "16                  0.611100  0.000000  0.000000  1.310161e-01  0.319207   \n",
       "17                  0.777778  0.000000  0.000000  2.619305e-01  0.000000   \n",
       "18                  0.940084  0.035765  0.009963  5.107334e-03  0.000000   \n",
       "19                  0.929640  0.068162  0.002054  0.000000e+00  0.000000   \n",
       "20                  0.672699  0.205255  0.087622  1.598509e-02  0.000000   \n",
       "21                  0.833928  0.000000  0.000000  3.491314e-01  0.000000   \n",
       "22                  0.627115  0.000000  0.000000  1.122039e-01  0.376337   \n",
       "23                  0.976802  0.015727  0.000000  5.812966e-03  0.000000   \n",
       "24                  0.900466  0.096052  0.003240  0.000000e+00  0.000000   \n",
       "25                  0.947235  0.000000  0.000000  1.207534e-01  0.000000   \n",
       "26                  0.990289  0.007434  0.001279  5.109276e-04  0.000000   \n",
       "27                  0.892285  0.087195  0.020436  0.000000e+00  0.000000   \n",
       "28                  0.993446  0.004677  0.000403  1.041497e-03  0.000000   \n",
       "29                  0.240231  0.000000  0.000000  1.261649e-02  0.454098   \n",
       "...                      ...       ...       ...           ...       ...   \n",
       "2318                0.960355  0.000000  0.000000  1.494106e-01  0.000000   \n",
       "2319                0.962773  0.019829  0.003572  8.685757e-03  0.000000   \n",
       "2320                0.956063  0.000000  0.000000  1.186837e-01  0.000000   \n",
       "2321                0.979776  0.013646  0.002049  3.169051e-03  0.000000   \n",
       "2322                0.824309  0.000000  0.495429  1.550923e-01  0.000000   \n",
       "2323                0.532828  0.000000  0.000000  1.629641e-01  0.231150   \n",
       "2324                0.811919  0.088788  0.035450  4.243648e-02  0.000000   \n",
       "2325                0.820997  0.130583  0.035953  1.959187e-03  0.000000   \n",
       "2326                0.989028  0.009509  0.000395  6.339142e-04  0.000000   \n",
       "2327                0.929604  0.043675  0.007522  7.695669e-03  0.000000   \n",
       "2328                0.892089  0.000000  0.000000  6.076444e-02  0.484432   \n",
       "2329                0.964729  0.034839  0.000331  0.000000e+00  0.000000   \n",
       "2330                0.975313  0.000000  0.000000  5.498702e-02  0.000000   \n",
       "2331                0.859759  0.000000  0.000000  3.039590e-01  0.000000   \n",
       "2332                0.814288  0.000000  0.620925  1.652283e-01  0.000000   \n",
       "2333                0.656459  0.000000  0.536646  3.604799e-01  0.000000   \n",
       "2334                0.649156  0.000000  0.000000  2.958436e-01  0.080439   \n",
       "2335                0.963834  0.000000  0.024331  6.128653e-03  0.000000   \n",
       "2336                0.834091  0.159618  0.005031  0.000000e+00  0.000000   \n",
       "2337                0.462663  0.000000  0.344698  5.061169e-01  0.000000   \n",
       "2338                0.957283  0.036531  0.004692  2.275289e-04  0.000000   \n",
       "2339                0.985931  0.009520  0.001443  1.648441e-03  0.000000   \n",
       "2340                0.989559  0.007553  0.000663  1.424715e-03  0.000000   \n",
       "2341                0.996833  0.002907  0.000091  8.227530e-07  0.000000   \n",
       "2342                0.883926  0.000000  0.000000  3.050963e-01  0.000000   \n",
       "2343                0.979608  0.013870  0.003139  2.093114e-03  0.000000   \n",
       "2344                0.988840  0.010935  0.000101  0.000000e+00  0.000000   \n",
       "2345                0.894333  0.046973  0.011175  3.046629e-02  0.000000   \n",
       "2346                0.971090  0.023658  0.001478  8.999581e-04  0.000000   \n",
       "2347                0.861905  0.000000  0.000000  3.598161e-01  0.000000   \n",
       "\n",
       "Bucket Probability  Bucket 5  Bucket 6  Bucket 7  Bucket 8  Bucket 9  \\\n",
       "samples                                                                \n",
       "0                   0.535220  0.000000  0.068584  0.000000  0.551200   \n",
       "1                   0.454837  0.000000  0.000000  0.028429  0.447082   \n",
       "2                   0.489529  0.000000  0.000000  0.029453  0.467300   \n",
       "3                   0.218101  0.000000  0.000000  0.037599  0.429258   \n",
       "4                   0.000000  0.536355  0.000000  0.014342  0.446567   \n",
       "5                   0.000000  0.483768  0.020002  0.001109  0.488780   \n",
       "6                   0.501160  0.000000  0.000000  0.007113  0.488170   \n",
       "7                   0.000000  0.504324  0.000000  0.003834  0.497829   \n",
       "8                   0.000000  0.502126  0.010493  0.007467  0.474404   \n",
       "9                   0.000000  0.461709  0.033040  0.000000  0.512641   \n",
       "10                  0.541524  0.000000  0.129391  0.000000  0.565312   \n",
       "11                  0.573700  0.000000  0.172631  0.000000  0.619538   \n",
       "12                  0.461654  0.000000  0.000000  0.016843  0.461520   \n",
       "13                  0.000000  0.561280  0.000000  0.012264  0.463001   \n",
       "14                  0.515805  0.000000  0.074060  0.000000  0.523300   \n",
       "15                  0.237175  0.000000  0.000000  0.019712  0.471729   \n",
       "16                  0.000000  0.130969  0.000000  0.000000  0.526042   \n",
       "17                  0.000000  0.459274  0.009333  0.000000  0.532703   \n",
       "18                  0.030532  0.000699  0.000000  0.000000  0.534344   \n",
       "19                  0.515234  0.000000  0.035906  0.000000  0.510600   \n",
       "20                  0.480863  0.000000  0.000000  0.018138  0.466575   \n",
       "21                  0.000000  0.453521  0.046272  0.000000  0.501421   \n",
       "22                  0.000000  0.511527  0.004073  0.014959  0.424033   \n",
       "23                  0.098985  0.000000  0.000000  0.006060  0.495967   \n",
       "24                  0.505408  0.000000  0.000000  0.013475  0.494920   \n",
       "25                  0.000000  0.556392  0.000000  0.019498  0.440876   \n",
       "26                  0.336368  0.000000  0.000000  0.024787  0.464887   \n",
       "27                  0.512231  0.000000  0.100428  0.000000  0.523080   \n",
       "28                  0.388490  0.000000  0.000000  0.048365  0.425679   \n",
       "29                  0.000000  0.435433  0.000000  0.003102  0.491707   \n",
       "...                      ...       ...       ...       ...       ...   \n",
       "2318                0.000000  0.589193  0.000000  0.044064  0.427597   \n",
       "2319                0.396355  0.000000  0.017519  0.000000  0.501519   \n",
       "2320                0.000000  0.554129  0.000000  0.019925  0.477923   \n",
       "2321                0.353723  0.000000  0.000000  0.023777  0.464755   \n",
       "2322                0.621593  0.000000  0.173581  0.000000  0.656714   \n",
       "2323                0.000000  0.454081  0.073594  0.000000  0.403448   \n",
       "2324                0.352198  0.000000  0.015195  0.000000  0.501540   \n",
       "2325                0.481562  0.000000  0.000000  0.017292  0.468661   \n",
       "2326                0.414321  0.000000  0.000000  0.024043  0.469911   \n",
       "2327                0.442577  0.000000  0.000000  0.013602  0.478673   \n",
       "2328                0.000000  0.599797  0.000000  0.043727  0.424231   \n",
       "2329                0.462928  0.000000  0.000000  0.032520  0.437384   \n",
       "2330                0.000000  0.431299  0.000000  0.000000  0.665620   \n",
       "2331                0.000000  0.510336  0.006082  0.013029  0.464298   \n",
       "2332                0.474852  0.000000  0.000000  0.019491  0.465447   \n",
       "2333                0.441945  0.000000  0.000000  0.041282  0.406397   \n",
       "2334                0.000000  0.517760  0.000000  0.016322  0.456157   \n",
       "2335                0.000000  0.598705  0.000000  0.046635  0.426060   \n",
       "2336                0.498327  0.000000  0.006843  0.003898  0.480063   \n",
       "2337                0.504743  0.000000  0.010179  0.000000  0.500739   \n",
       "2338                0.477913  0.000000  0.014298  0.000000  0.487959   \n",
       "2339                0.352536  0.000000  0.000000  0.012229  0.488516   \n",
       "2340                0.385382  0.000000  0.000000  0.013991  0.477463   \n",
       "2341                0.427169  0.000000  0.000000  0.035894  0.443489   \n",
       "2342                0.000000  0.493514  0.009803  0.001151  0.487830   \n",
       "2343                0.321991  0.000000  0.000000  0.007841  0.482769   \n",
       "2344                0.480405  0.000000  0.002808  0.000074  0.493416   \n",
       "2345                0.432636  0.000000  0.158312  0.000000  0.597810   \n",
       "2346                0.404711  0.000000  0.000000  0.049801  0.419628   \n",
       "2347                0.000000  0.549582  0.000000  0.027128  0.450007   \n",
       "\n",
       "Bucket Probability  Bucket 10  Bucket 11  Bucket 12  Bucket 13  Bucket 14  \\\n",
       "samples                                                                     \n",
       "0                    0.000000   0.000000   0.572432        0.0   0.029114   \n",
       "1                    0.000000   0.000000   0.442877        0.0   0.023285   \n",
       "2                    0.000000   0.000000   0.428466        0.0   0.026652   \n",
       "3                    0.000000   0.000000   0.424532        0.0   0.024947   \n",
       "4                    0.000000   0.000000   0.452289        0.0   0.027196   \n",
       "5                    0.000000   0.000000   0.496464        0.0   0.025405   \n",
       "6                    0.002068   0.000000   0.459137        0.0   0.025943   \n",
       "7                    0.000000   0.000000   0.472547        0.0   0.026182   \n",
       "8                    0.000000   0.000000   0.466674        0.0   0.024760   \n",
       "9                    0.000000   0.000000   0.514347        0.0   0.027434   \n",
       "10                   0.000000   0.000000   0.598013        0.0   0.030160   \n",
       "11                   0.000000   0.000000   0.672804        0.0   0.035233   \n",
       "12                   0.000000   0.000000   0.460306        0.0   0.023897   \n",
       "13                   0.000000   0.000000   0.460305        0.0   0.030128   \n",
       "14                   0.000000   0.000000   0.530699        0.0   0.028548   \n",
       "15                   0.000289   0.000000   0.470900        0.0   0.024480   \n",
       "16                   0.000468   0.000000   0.474035        0.0   0.029577   \n",
       "17                   0.000000   0.000000   0.547183        0.0   0.031535   \n",
       "18                   0.000000   0.000000   0.515891        0.0   0.030204   \n",
       "19                   0.000000   0.000000   0.500363        0.0   0.026616   \n",
       "20                   0.000000   0.000000   0.462002        0.0   0.025471   \n",
       "21                   0.000000   0.000000   0.506511        0.0   0.025555   \n",
       "22                   0.000000   0.000000   0.439901        0.0   0.023835   \n",
       "23                   0.000000   0.000000   0.504493        0.0   0.028603   \n",
       "24                   0.001028   0.000000   0.450278        0.0   0.027209   \n",
       "25                   0.000000   0.000000   0.418006        0.0   0.025443   \n",
       "26                   0.000077   0.000000   0.486240        0.0   0.026433   \n",
       "27                   0.000000   0.000000   0.541063        0.0   0.026972   \n",
       "28                   0.000072   0.000000   0.428442        0.0   0.023380   \n",
       "29                   0.000000   0.000000   0.477790        0.0   0.026851   \n",
       "...                       ...        ...        ...        ...        ...   \n",
       "2318                 0.000000   0.000000   0.414204        0.0   0.022915   \n",
       "2319                 0.000000   0.000000   0.518505        0.0   0.025930   \n",
       "2320                 0.000000   0.000000   0.467645        0.0   0.026666   \n",
       "2321                 0.000000   0.000000   0.471781        0.0   0.024697   \n",
       "2322                 0.000336   0.000000   0.669721        0.0   0.035842   \n",
       "2323                 0.000000   0.267883   0.432894        0.0   0.025177   \n",
       "2324                 0.000000   0.000000   0.511144        0.0   0.026803   \n",
       "2325                 0.000000   0.000000   0.470071        0.0   0.025849   \n",
       "2326                 0.000000   0.000000   0.494160        0.0   0.028404   \n",
       "2327                 0.000000   0.000000   0.472542        0.0   0.025896   \n",
       "2328                 0.000763   0.000000   0.398064        0.0   0.022327   \n",
       "2329                 0.000000   0.000000   0.404939        0.0   0.024851   \n",
       "2330                 0.000000   0.000000   0.584848        0.0   0.041286   \n",
       "2331                 0.000000   0.000000   0.455699        0.0   0.023875   \n",
       "2332                 0.001087   0.000000   0.455676        0.0   0.024075   \n",
       "2333                 0.001500   0.000000   0.371964        0.0   0.021187   \n",
       "2334                 0.000000   0.000000   0.450724        0.0   0.024249   \n",
       "2335                 0.000000   0.000000   0.390484        0.0   0.023953   \n",
       "2336                 0.000000   0.000000   0.477841        0.0   0.025879   \n",
       "2337                 0.001064   0.000000   0.512341        0.0   0.025652   \n",
       "2338                 0.000065   0.000000   0.497821        0.0   0.025028   \n",
       "2339                 0.000000   0.000000   0.488560        0.0   0.028268   \n",
       "2340                 0.000003   0.000000   0.495984        0.0   0.025395   \n",
       "2341                 0.000000   0.000000   0.452305        0.0   0.025801   \n",
       "2342                 0.000000   0.000000   0.504152        0.0   0.025012   \n",
       "2343                 0.000000   0.000000   0.487339        0.0   0.027500   \n",
       "2344                 0.000000   0.000000   0.511547        0.0   0.025998   \n",
       "2345                 0.000000   0.000000   0.632168        0.0   0.031031   \n",
       "2346                 0.000000   0.000000   0.400450        0.0   0.024711   \n",
       "2347                 0.000000   0.000000   0.451741        0.0   0.023794   \n",
       "\n",
       "Bucket Probability Predicted Bucket  \n",
       "samples                              \n",
       "0                          Bucket 0  \n",
       "1                          Bucket 0  \n",
       "2                          Bucket 0  \n",
       "3                          Bucket 0  \n",
       "4                          Bucket 0  \n",
       "5                          Bucket 0  \n",
       "6                          Bucket 0  \n",
       "7                          Bucket 0  \n",
       "8                          Bucket 0  \n",
       "9                          Bucket 0  \n",
       "10                         Bucket 0  \n",
       "11                         Bucket 0  \n",
       "12                         Bucket 0  \n",
       "13                         Bucket 0  \n",
       "14                         Bucket 0  \n",
       "15                         Bucket 0  \n",
       "16                         Bucket 0  \n",
       "17                         Bucket 0  \n",
       "18                         Bucket 0  \n",
       "19                         Bucket 0  \n",
       "20                         Bucket 0  \n",
       "21                         Bucket 0  \n",
       "22                         Bucket 0  \n",
       "23                         Bucket 0  \n",
       "24                         Bucket 0  \n",
       "25                         Bucket 0  \n",
       "26                         Bucket 0  \n",
       "27                         Bucket 0  \n",
       "28                         Bucket 0  \n",
       "29                         Bucket 9  \n",
       "...                             ...  \n",
       "2318                       Bucket 0  \n",
       "2319                       Bucket 0  \n",
       "2320                       Bucket 0  \n",
       "2321                       Bucket 0  \n",
       "2322                       Bucket 0  \n",
       "2323                       Bucket 0  \n",
       "2324                       Bucket 0  \n",
       "2325                       Bucket 0  \n",
       "2326                       Bucket 0  \n",
       "2327                       Bucket 0  \n",
       "2328                       Bucket 0  \n",
       "2329                       Bucket 0  \n",
       "2330                       Bucket 0  \n",
       "2331                       Bucket 0  \n",
       "2332                       Bucket 0  \n",
       "2333                       Bucket 0  \n",
       "2334                       Bucket 0  \n",
       "2335                       Bucket 0  \n",
       "2336                       Bucket 0  \n",
       "2337                      Bucket 12  \n",
       "2338                       Bucket 0  \n",
       "2339                       Bucket 0  \n",
       "2340                       Bucket 0  \n",
       "2341                       Bucket 0  \n",
       "2342                       Bucket 0  \n",
       "2343                       Bucket 0  \n",
       "2344                       Bucket 0  \n",
       "2345                       Bucket 0  \n",
       "2346                       Bucket 0  \n",
       "2347                       Bucket 0  \n",
       "\n",
       "[2348 rows x 16 columns]"
      ]
     },
     "execution_count": 122,
     "metadata": {},
     "output_type": "execute_result"
    }
   ],
   "source": [
    "bucket_prediction = df_probability.idxmax(axis = 1)\n",
    "df_probability['Predicted Bucket'] = bucket_prediction\n",
    "df_probability"
   ]
  },
  {
   "cell_type": "code",
   "execution_count": 123,
   "metadata": {
    "scrolled": true
   },
   "outputs": [
    {
     "data": {
      "text/plain": [
       "Bucket 0     2164\n",
       "Bucket 12      52\n",
       "Bucket 6       47\n",
       "Bucket 9       28\n",
       "Bucket 5       18\n",
       "Bucket 3       15\n",
       "Bucket 2       10\n",
       "Bucket 4        9\n",
       "Bucket 1        3\n",
       "Bucket 11       2\n",
       "Name: Predicted Bucket, dtype: int64"
      ]
     },
     "execution_count": 123,
     "metadata": {},
     "output_type": "execute_result"
    }
   ],
   "source": [
    "df_probability['Predicted Bucket'].value_counts()"
   ]
  },
  {
   "cell_type": "code",
   "execution_count": 124,
   "metadata": {},
   "outputs": [
    {
     "data": {
      "text/plain": [
       "Text(0.5, 1.0, 'Bucket number')"
      ]
     },
     "execution_count": 124,
     "metadata": {},
     "output_type": "execute_result"
    },
    {
     "data": {
      "image/png": "[encoded data removed]",
      "text/plain": [
       "<Figure size 432x288 with 1 Axes>"
      ]
     },
     "metadata": {
      "needs_background": "light"
     },
     "output_type": "display_data"
    }
   ],
   "source": [
    "ax=sns.countplot(y='Predicted Bucket',data = df_probability)\n",
    "ax.set_ylabel('Predicted bucket', fontsize=14)\n",
    "ax.set_xlabel('Count', fontsize=14)\n",
    "ax.set_title('Bucket number', fontsize=14)"
   ]
  },
  {
   "cell_type": "markdown",
   "metadata": {},
   "source": [
    "As we can see, the model is giving us the predicted bucket as 0. This is because the most of our salaries are in this range. However, this is not a right predict and the model is not perfroming well. We are going to use the following codes to find the accuracy of our model."
   ]
  },
  {
   "cell_type": "code",
   "execution_count": 125,
   "metadata": {},
   "outputs": [
    {
     "name": "stdout",
     "output_type": "stream",
     "text": [
      "0    2164\n",
      "1      57\n",
      "6      47\n",
      "9      28\n",
      "5      18\n",
      "3      15\n",
      "2      10\n",
      "4       9\n",
      "Name: Bucket number, dtype: int64\n"
     ]
    }
   ],
   "source": [
    "def label(x):\n",
    "        if x=='Bucket 0':\n",
    "            return 0\n",
    "        elif 'Bucket 1' in x:\n",
    "            return 1\n",
    "        elif 'Bucket 2' in x:\n",
    "            return 2\n",
    "        elif 'Bucket 3' in x:\n",
    "            return 3\n",
    "        elif 'Bucket 4' in x:\n",
    "            return 4\n",
    "        elif 'Bucket 5' in x:\n",
    "            return 5\n",
    "        elif 'Bucket 6' in x:\n",
    "            return 6\n",
    "        elif 'Bucket 7' in x:\n",
    "            return 7\n",
    "        elif 'Bucket 8' in x:\n",
    "            return 8\n",
    "        elif 'Bucket 9' in x:\n",
    "            return 9\n",
    "        elif 'Bucket 10' in x:\n",
    "            return 10\n",
    "        elif 'Bucket 11' in x:\n",
    "            return 11\n",
    "        elif 'Bucket 12' in x:\n",
    "            return 12\n",
    "        elif 'Bucket 13' in x:\n",
    "            return 13\n",
    "        else:\n",
    "            return 14\n",
    "df_probability['Bucket number'] = df_probability['Predicted Bucket'].apply(lambda x:label(x))\n",
    "print(df_probability['Bucket number'].value_counts())"
   ]
  },
  {
   "cell_type": "code",
   "execution_count": 126,
   "metadata": {},
   "outputs": [
    {
     "data": {
      "text/plain": [
       "0     712\n",
       "1     261\n",
       "2     206\n",
       "4     153\n",
       "3     147\n",
       "5     138\n",
       "10    134\n",
       "6     111\n",
       "7     104\n",
       "11     98\n",
       "12     71\n",
       "8      69\n",
       "9      67\n",
       "14     40\n",
       "13     37\n",
       "Name: Q10_Encoded, dtype: int64"
      ]
     },
     "execution_count": 126,
     "metadata": {},
     "output_type": "execute_result"
    }
   ],
   "source": [
    "df_Test.Q10_Encoded\n",
    "test = df_Test.Q10_Encoded\n",
    "test.value_counts()"
   ]
  },
  {
   "cell_type": "markdown",
   "metadata": {},
   "source": [
    "In the last part of our assignment, we are going to calculate our accuracy based on the test set. If the predicted bucket is the same as the real bucket, we are going to increase number of counter by one. At the end, we will find the portion of accurate predict to the whole length of test set."
   ]
  },
  {
   "cell_type": "code",
   "execution_count": 127,
   "metadata": {},
   "outputs": [
    {
     "data": {
      "text/plain": [
       "0.3091993185689949"
      ]
     },
     "execution_count": 127,
     "metadata": {},
     "output_type": "execute_result"
    }
   ],
   "source": [
    "test=test.reset_index(drop=True)\n",
    "\n",
    "\n",
    "accurate = 0\n",
    "for i in (test - df_probability['Bucket number']):\n",
    "    if i == 0:\n",
    "        accurate+=1\n",
    "\n",
    "accurate/len(test)"
   ]
  },
  {
   "cell_type": "markdown",
   "metadata": {},
   "source": [
    "For instance, let's look at the distribution of probabilities for sample 2075 for each bucket."
   ]
  },
  {
   "cell_type": "code",
   "execution_count": 128,
   "metadata": {},
   "outputs": [
    {
     "data": {
      "text/plain": [
       "Text(0.5, 1.0, 'Probability plot of sample 2075')"
      ]
     },
     "execution_count": 128,
     "metadata": {},
     "output_type": "execute_result"
    },
    {
     "data": {
      "image/png": "[encoded data removed]",
      "text/plain": [
       "<Figure size 432x288 with 1 Axes>"
      ]
     },
     "metadata": {
      "needs_background": "light"
     },
     "output_type": "display_data"
    }
   ],
   "source": [
    "x_axis = [i for i in range(15)]\n",
    "y_axis = df_probability.iloc[2075, :-2]\n",
    "plt.bar(x_axis, y_axis)\n",
    "plt.ylabel(\"Probability of sample 2075\")\n",
    "plt.xlabel(\"Salary\")\n",
    "plt.title('Probability plot of sample 2075')"
   ]
  },
  {
   "cell_type": "code",
   "execution_count": 129,
   "metadata": {},
   "outputs": [
    {
     "data": {
      "text/plain": [
       "Text(0.5, 1.0, 'Probability plot of sample 2005')"
      ]
     },
     "execution_count": 129,
     "metadata": {},
     "output_type": "execute_result"
    },
    {
     "data": {
      "image/png": "[encoded data removed]",
      "text/plain": [
       "<Figure size 432x288 with 1 Axes>"
      ]
     },
     "metadata": {
      "needs_background": "light"
     },
     "output_type": "display_data"
    }
   ],
   "source": [
    "x_axis = [i for i in range(15)]\n",
    "y_axis = df_probability.iloc[2005, :-2]\n",
    "plt.bar(x_axis, y_axis, color=(0.1, 0.1, 0.1, 0.1),  edgecolor='blue')\n",
    "plt.ylabel(\"Probability of sample 2005\")\n",
    "plt.xlabel(\"Salary\")\n",
    "plt.title('Probability plot of sample 2005')"
   ]
  },
  {
   "cell_type": "code",
   "execution_count": 130,
   "metadata": {},
   "outputs": [
    {
     "data": {
      "text/plain": [
       "Text(0.5, 1.0, 'Probability plot of sample 12')"
      ]
     },
     "execution_count": 130,
     "metadata": {},
     "output_type": "execute_result"
    },
    {
     "data": {
      "image/png": "[encoded data removed]",
      "text/plain": [
       "<Figure size 432x288 with 1 Axes>"
      ]
     },
     "metadata": {
      "needs_background": "light"
     },
     "output_type": "display_data"
    }
   ],
   "source": [
    "x_axis = [i for i in range(15)]\n",
    "y_axis = df_probability.iloc[12, :-2]\n",
    "plt.bar(x_axis, y_axis,color=['orange', 'red', 'green', 'blue', 'cyan'])\n",
    "plt.ylabel(\"Probability of sample 12\")\n",
    "plt.xlabel(\"Salary\")\n",
    "plt.title('Probability plot of sample 12')"
   ]
  },
  {
   "cell_type": "markdown",
   "metadata": {},
   "source": [
    "As we can see from all of the probability histograms shown above, bucket 0 has the highest probability."
   ]
  },
  {
   "cell_type": "markdown",
   "metadata": {},
   "source": [
    "## 6. Conclusion\n",
    "As we calculated, the model has a 30 percent accuracy on the test set. On the other hand, we saw that the model is giving us a very high accuracy on the training set. Since the model is giving a high accuracy on the training set, we can conclude that the model is over fitted and very complex. It tries to capture the whole trend behind the training set and wants to fit it perfectly. As we discussed before, it would increase the variance but since the model is complex is it reducing the bias. If we want to increase the accuracy of our model on the test set, we need to perform a couple of steps. First, we need to reduce the number of features in the model. We implemented our model with around 90 features, which is significantly a large number of variables to be included in the model. If we reduce the number of features, we are able to reduce the variance; however, at the same time we are increasing the bias. It might reduce the accuracy of our training set too. As it is called, it is a tradeoff. Also, as it was mentioned before, our data frame contains different countries with different average salaries, different economy, etc. Therefore, it would affect our model and reduce the accuracy of it. If we only focus on the certain country, we would be able to increase the accuracy. For example, if we only conider USA, since it has trend in salary based on different features, we are able to increase our accuracy. At the end, we need to know that the implemented model is an over fitted model and it only captures the training set very well. Overfitting refers to a model that has learned the training dataset too well, including the statistical noise or random fluctuations in the training dataset.\n"
   ]
  },
  {
   "cell_type": "markdown",
   "metadata": {},
   "source": [
    "## References\n",
    "[1] https://www.payscale.com/data/gender-pay-gap\n",
    "\n",
    "[2] https://www.bbc.com/news/magazine-17512040\n",
    "\n",
    "[3]https://www.quora.com/What-is-regularization-in-machine-learning\n",
    "\n",
    "[4]https://towardsdatascience.com/cross-validation-in-machine-learning-72924a69872f"
   ]
  },
  {
   "cell_type": "code",
   "execution_count": null,
   "metadata": {},
   "outputs": [],
   "source": []
  }
 ],
 "metadata": {
  "kernelspec": {
   "display_name": "Python 3",
   "language": "python",
   "name": "python3"
  },
  "language_info": {
   "codemirror_mode": {
    "name": "ipython",
    "version": 3
   },
   "file_extension": ".py",
   "mimetype": "text/x-python",
   "name": "python",
   "nbconvert_exporter": "python",
   "pygments_lexer": "ipython3",
   "version": "3.7.9"
  }
 },
 "nbformat": 4,
 "nbformat_minor": 2
}
